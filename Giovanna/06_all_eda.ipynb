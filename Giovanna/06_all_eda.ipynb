{
 "cells": [
  {
   "cell_type": "markdown",
   "id": "c3a52418",
   "metadata": {},
   "source": [
    "> 4/26"
   ]
  },
  {
   "cell_type": "markdown",
   "id": "8bb16734",
   "metadata": {},
   "source": [
    "#### updated `my_metrics` to print importances with labels, additional errors and include `max_depth` in f(`arguments`)\n",
    "* the module/function scales: no need to do it before hand, but will to figure out what the 'importances' are. \n",
    "* module has two functions: \n",
    "    1. gs_svr (X, y, train_size)\n",
    "    2. gs_rf (X, y, train_size, max_leaf_depth)"
   ]
  },
  {
   "cell_type": "markdown",
   "id": "9833d2ce",
   "metadata": {},
   "source": [
    "> 4/25\n",
    "#### I was gonna do a basic linear regression but I spent too much time this afternoon troublesehooting a dumb error... and now that I've trained myself to `git pull upstream main` before starting significant work on the group project, I see $David$ has already done a thorough job so I'll be focusing on a random forests regression.\n",
    "\n",
    "### got a random forest using the columns from David's `06_nb`\n",
    "* got output,not sure how to read feature importances o\n",
    "* what to do with residuals? \n",
    "* which other errors to check? "
   ]
  },
  {
   "cell_type": "code",
   "execution_count": 1,
   "id": "ae34d5f3-b0d9-4293-9b20-f72f787b33b5",
   "metadata": {},
   "outputs": [],
   "source": [
    "import pandas as pd\n",
    "import numpy as np\n",
    "import matplotlib.pyplot as plt\n",
    "import seaborn as sns"
   ]
  },
  {
   "cell_type": "code",
   "execution_count": 2,
   "id": "b310a714",
   "metadata": {},
   "outputs": [],
   "source": [
    "# transformer\n",
    "from sklearn.model_selection import train_test_split\n",
    "\n",
    "# scalers\n",
    "from sklearn.preprocessing import StandardScaler\n",
    "\n",
    "# regressor\n",
    "from sklearn.linear_model import LinearRegression\n",
    "from sklearn.ensemble import RandomForestRegressor"
   ]
  },
  {
   "cell_type": "code",
   "execution_count": 3,
   "id": "defe1db0",
   "metadata": {},
   "outputs": [],
   "source": [
    "# custom imports\n",
    "import mymetrics as m                    # my module, single function open\n",
    "plt.style.use('gstyle.mplstyle')         # stylesheet for sns\n",
    "\n",
    "pd.options.display.max_columns = 90\n",
    "pd.options.display.max_rows = 100"
   ]
  },
  {
   "cell_type": "code",
   "execution_count": 4,
   "id": "759c9f05",
   "metadata": {},
   "outputs": [
    {
     "data": {
      "text/plain": [
       "(25444, 62)"
      ]
     },
     "execution_count": 4,
     "metadata": {},
     "output_type": "execute_result"
    }
   ],
   "source": [
    "path = '../processed_data/all_merged2.csv'\n",
    "df = pd.read_csv(path)\n",
    "\n",
    "df.shape"
   ]
  },
  {
   "cell_type": "code",
   "execution_count": 5,
   "id": "5d3de12d",
   "metadata": {},
   "outputs": [
    {
     "data": {
      "text/plain": [
       "(14912, 62)"
      ]
     },
     "execution_count": 5,
     "metadata": {},
     "output_type": "execute_result"
    }
   ],
   "source": [
    "df.dropna(inplace=True)\n",
    "df.shape"
   ]
  },
  {
   "cell_type": "code",
   "execution_count": 6,
   "id": "5688d8cc",
   "metadata": {},
   "outputs": [],
   "source": [
    "# X = X.fillna(X.median()) #fill with median value\n",
    "# X = X1.dropna(inplace = True)\n",
    "# X = X1.fillna(0)#\n",
    "# X = df[['ozone']]\n",
    "\n",
    "# X = \n",
    "\n",
    "# y = df['asthma']"
   ]
  },
  {
   "cell_type": "code",
   "execution_count": 7,
   "id": "4ef98289",
   "metadata": {},
   "outputs": [],
   "source": [
    "# FROM DAVID'S 6_NB: \n",
    "# cutting out percentiles , lat/lon, zip, census tract, \"scores\"\n",
    "\n",
    "initial_columns_to_fit =[\n",
    " 'total population',\n",
    " 'ozone',\n",
    " 'pm2.5',\n",
    " 'diesel pm',\n",
    " 'pesticides',\n",
    " 'traffic',\n",
    " 'cleanup sites',\n",
    " 'groundwater threats',\n",
    " 'haz. waste',\n",
    " 'imp. water bodies',\n",
    " 'solid waste',\n",
    " 'pollution burden',\n",
    " 'asthma',\n",
    " 'low birth weight',\n",
    " 'education',\n",
    " 'linguistic isolation',\n",
    " 'poverty',\n",
    " 'pop. char. ',\n",
    " 'drinking water',\n",
    " 'tox. release',\n",
    " 'unemployment',\n",
    " 'cardiovascular disease',\n",
    " 'housing burden',\n",
    " 'est total',\n",
    " 'est gen',\n",
    " 'est cold',\n",
    " 'est farm',\n",
    " 'est other']"
   ]
  },
  {
   "cell_type": "code",
   "execution_count": 8,
   "id": "7a4f6fb8",
   "metadata": {},
   "outputs": [],
   "source": [
    "# make a dataframe with just the initial_columns_to_fit, and all NaNs filled with median.\n",
    "# amgd_cut = amgd[initial_columns_to_fit].fillna(amgd[initial_columns_to_fit].median())\n",
    "\n",
    "y = df['asthma']\n",
    "X = df[initial_columns_to_fit]"
   ]
  },
  {
   "cell_type": "code",
   "execution_count": 9,
   "id": "9ccfb7be",
   "metadata": {},
   "outputs": [],
   "source": [
    "# dropping all health outcomes and strict counts in addition to percentiles \n",
    "X = X.drop(columns = [\n",
    "    'asthma', \n",
    "    'pop. char. ', \n",
    "    'cardiovascular disease', \n",
    "    'low birth weight',\n",
    "    'total population'\n",
    "    ])\n",
    "# X.head()"
   ]
  },
  {
   "cell_type": "code",
   "execution_count": 10,
   "id": "2b39d552",
   "metadata": {},
   "outputs": [],
   "source": [
    "# # m.gs_rf( X, y, train size, max_leaf_depth)\n",
    "\n",
    "# rf_results = m.gs_rf(X, y, 0.7, 10);\n",
    "# rf_results"
   ]
  },
  {
   "cell_type": "code",
   "execution_count": 11,
   "id": "576ed910",
   "metadata": {},
   "outputs": [
    {
     "name": "stdout",
     "output_type": "stream",
     "text": [
      "fitting svr model ... \n",
      "predicting all X ...  \n",
      "determining feature importances ... \n",
      "calculating error metrics ... \n",
      "All Metrics Calculated. Done.  \n",
      "plotting feature importances ... \n"
     ]
    },
    {
     "data": {
      "text/plain": [
       "(0.2893096808355977,\n",
       "   Metric         Value\n",
       " 0     r2 -7.055843e+05\n",
       " 1    rss  9.643677e+12\n",
       " 2  max_e  2.166612e+06\n",
       " 3   rmse  2.543041e+04\n",
       " 4    mae  6.467058e+08\n",
       " 5    mse  6.467058e+08,\n",
       "                  Feature  Importances\n",
       " 0                  ozone    -0.395736\n",
       " 1                  pm2.5     0.804109\n",
       " 2              diesel pm    -0.168497\n",
       " 3             pesticides    -0.525782\n",
       " 4                traffic    -0.482936\n",
       " 5          cleanup sites     0.299325\n",
       " 6    groundwater threats     0.952635\n",
       " 7             haz. waste     0.332131\n",
       " 8      imp. water bodies    -0.334039\n",
       " 9            solid waste    -1.075584\n",
       " 10      pollution burden     1.517295\n",
       " 11             education     7.853893\n",
       " 12  linguistic isolation    -7.252773\n",
       " 13               poverty    11.332793\n",
       " 14        drinking water    -1.971475\n",
       " 15          tox. release    -2.570338\n",
       " 16          unemployment     2.864189\n",
       " 17        housing burden     0.272389\n",
       " 18             est total     0.618712\n",
       " 19               est gen     0.644309\n",
       " 20              est cold     0.216752\n",
       " 21              est farm     1.006976\n",
       " 22             est other     0.055017)"
      ]
     },
     "execution_count": 11,
     "metadata": {},
     "output_type": "execute_result"
    },
    {
     "data": {
      "image/png": "[encoded data removed]",
      "text/plain": [
       "<Figure size 600x400 with 1 Axes>"
      ]
     },
     "metadata": {},
     "output_type": "display_data"
    }
   ],
   "source": [
    "# m.gs_svr( X, y, train size)\n",
    "\n",
    "# retunrsn R2 score, coefs. \n",
    "svr_results = m.gs_svr(X, y, 0.7)\n",
    "svr_results "
   ]
  },
  {
   "cell_type": "markdown",
   "id": "da4cf503",
   "metadata": {},
   "source": [
    "> # we still havne't figured out what to do with ozone, but should be a simple transformation"
   ]
  },
  {
   "cell_type": "code",
   "execution_count": null,
   "id": "f9ffc510",
   "metadata": {},
   "outputs": [],
   "source": []
  }
 ],
 "metadata": {
  "kernelspec": {
   "display_name": "Python 3 (ipykernel)",
   "language": "python",
   "name": "python3"
  },
  "language_info": {
   "codemirror_mode": {
    "name": "ipython",
    "version": 3
   },
   "file_extension": ".py",
   "mimetype": "text/x-python",
   "name": "python",
   "nbconvert_exporter": "python",
   "pygments_lexer": "ipython3",
   "version": "3.9.7"
  }
 },
 "nbformat": 4,
 "nbformat_minor": 5
}
