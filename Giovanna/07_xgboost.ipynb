{
 "cells": [
  {
   "cell_type": "markdown",
   "id": "c3a52418",
   "metadata": {},
   "source": [
    "> 4/26"
   ]
  },
  {
   "cell_type": "markdown",
   "id": "8bb16734",
   "metadata": {},
   "source": [
    "#### `XGBOOST` "
   ]
  },
  {
   "cell_type": "code",
   "execution_count": 9,
   "id": "ae34d5f3-b0d9-4293-9b20-f72f787b33b5",
   "metadata": {},
   "outputs": [],
   "source": [
    "import xgboost as xgb\n",
    "\n",
    "import pandas as pd\n",
    "import numpy as np\n",
    "\n",
    "import matplotlib.pyplot as plt\n",
    "import seaborn as sns\n",
    "\n",
    "from sklearn.model_selection import train_test_split\n",
    "from sklearn.metrics import mean_squared_error"
   ]
  },
  {
   "cell_type": "code",
   "execution_count": 3,
   "id": "10a169bc",
   "metadata": {},
   "outputs": [],
   "source": [
    "path = '../processed_data/all_merged.csv'\n",
    "df = pd.read_csv(path)"
   ]
  },
  {
   "cell_type": "code",
   "execution_count": 5,
   "id": "a87c436f",
   "metadata": {},
   "outputs": [
    {
     "data": {
      "text/plain": [
       "(14912, 63)"
      ]
     },
     "execution_count": 5,
     "metadata": {},
     "output_type": "execute_result"
    }
   ],
   "source": [
    "df.dropna(inplace=True)\n",
    "df.shape"
   ]
  },
  {
   "cell_type": "code",
   "execution_count": 6,
   "id": "bf1306ca",
   "metadata": {},
   "outputs": [],
   "source": [
    "# FROM DAVID'S 6_NB: \n",
    "# cutting out percentiles , lat/lon, zip, census tract, \"scores\"\n",
    "\n",
    "initial_columns_to_fit =[\n",
    " 'total population',\n",
    " 'ozone',\n",
    " 'pm2.5',\n",
    " 'diesel pm',\n",
    " 'pesticides',\n",
    " 'traffic',\n",
    " 'cleanup sites',\n",
    " 'groundwater threats',\n",
    " 'haz. waste',\n",
    " 'imp. water bodies',\n",
    " 'solid waste',\n",
    " 'pollution burden',\n",
    " 'asthma',\n",
    " 'low birth weight',\n",
    " 'education',\n",
    " 'linguistic isolation',\n",
    " 'poverty',\n",
    " 'pop. char. ',\n",
    " 'drinking water',\n",
    " 'tox. release',\n",
    " 'unemployment',\n",
    " 'cardiovascular disease',\n",
    " 'housing burden',\n",
    " 'est total',\n",
    " 'est gen',\n",
    " 'est cold',\n",
    " 'est farm',\n",
    " 'est other']"
   ]
  },
  {
   "cell_type": "code",
   "execution_count": 7,
   "id": "b19717dd",
   "metadata": {},
   "outputs": [],
   "source": [
    "# make a dataframe with just the initial_columns_to_fit, and all NaNs filled with median.\n",
    "\n",
    "y = df['asthma']\n",
    "X = df[initial_columns_to_fit]"
   ]
  },
  {
   "cell_type": "code",
   "execution_count": 8,
   "metadata": {},
   "outputs": [],
   "source": [
    "# dropping all health outcomes and strict counts in addition to percentiles \n",
    "X = X.drop(columns = [\n",
    "    'asthma', \n",
    "    'pop. char. ', \n",
    "    'cardiovascular disease', \n",
    "    'low birth weight',\n",
    "    'total population'\n",
    "    ])\n",
    "# X.head()"
   ]
  },
  {
   "cell_type": "code",
   "execution_count": 12,
   "id": "799ce0da",
   "metadata": {},
   "outputs": [],
   "source": [
    "X_train, X_test, y_train, y_test = train_test_split(X, y, test_size=0.2, random_state=42)"
   ]
  },
  {
   "cell_type": "code",
   "execution_count": 13,
   "id": "fe41a535",
   "metadata": {},
   "outputs": [],
   "source": [
    "data_dmatrix = xgb.DMatrix(data=X,label=y)"
   ]
  },
  {
   "cell_type": "code",
   "execution_count": 19,
   "id": "0f1fed65",
   "metadata": {},
   "outputs": [],
   "source": [
    "xg_reg = xgb.XGBRegressor(\n",
    "    # objective ='reg:linear', \n",
    "    objective = 'reg:squarederror',\n",
    "    colsample_bytree = 0.3, \n",
    "    learning_rate = 0.1,\n",
    "    max_depth = 5, \n",
    "    alpha = 10, \n",
    "    n_estimators = 10)"
   ]
  },
  {
   "cell_type": "code",
   "execution_count": 15,
   "id": "b278c3a3",
   "metadata": {},
   "outputs": [],
   "source": [
    "xg_reg.fit(X_train,y_train)\n",
    "\n",
    "preds = xg_reg.predict(X_test)"
   ]
  },
  {
   "cell_type": "code",
   "execution_count": 16,
   "id": "626fe496",
   "metadata": {},
   "outputs": [
    {
     "name": "stdout",
     "output_type": "stream",
     "text": [
      "RMSE: 32.832868\n"
     ]
    }
   ],
   "source": [
    "rmse = np.sqrt(mean_squared_error(y_test, preds))\n",
    "print(\"RMSE: %f\" % (rmse))"
   ]
  },
  {
   "cell_type": "code",
   "execution_count": 20,
   "id": "6502d7d9",
   "metadata": {},
   "outputs": [],
   "source": [
    "### CV VALIDATIONS\n",
    "\n",
    "params = {\n",
    "    'objective' : 'reg:squarederror',\n",
    "    'colsample_bytree': 0.3,\n",
    "    'learning_rate': 0.1,\n",
    "    'max_depth': 5, \n",
    "    'alpha': 10}\n",
    "\n",
    "cv_results = xgb.cv(dtrain=data_dmatrix, \n",
    "    params = params, \n",
    "    nfold = 3,\n",
    "    num_boost_round = 50,\n",
    "    early_stopping_rounds = 10,\n",
    "    metrics = 'rmse', \n",
    "    as_pandas=True, \n",
    "    seed = 42)"
   ]
  },
  {
   "cell_type": "code",
   "execution_count": 22,
   "id": "314dbde0",
   "metadata": {},
   "outputs": [],
   "source": [
    "# #cv_results contains train and test RMSE metrics for each boosting round.\n",
    "# cv_results.head()"
   ]
  },
  {
   "cell_type": "code",
   "execution_count": 23,
   "id": "63118ee4",
   "metadata": {},
   "outputs": [
    {
     "name": "stdout",
     "output_type": "stream",
     "text": [
      "49    20.960534\n",
      "Name: test-rmse-mean, dtype: float64\n"
     ]
    }
   ],
   "source": [
    "print((cv_results[\"test-rmse-mean\"]).tail(1))"
   ]
  },
  {
   "cell_type": "code",
   "execution_count": 24,
   "id": "4f63211d",
   "metadata": {},
   "outputs": [
    {
     "name": "stdout",
     "output_type": "stream",
     "text": [
      "0.4944453120772796\n"
     ]
    }
   ],
   "source": [
    "from sklearn.ensemble import GradientBoostingRegressor\n",
    "\n",
    "X_train, X_test, y_train, y_test = train_test_split(X, y, random_state=0)\n",
    "\n",
    "gbr = GradientBoostingRegressor(random_state=0)\n",
    "gbr.fit(X_train, y_train)\n",
    "\n",
    "gbr.predict(X_test)\n",
    "print(gbr.score(X_test, y_test))\n",
    "\n",
    "xg_reg = xgb.train(params=params, dtrain=data_dmatrix, num_boost_round=10)"
   ]
  },
  {
   "cell_type": "code",
   "execution_count": 26,
   "id": "37494b37",
   "metadata": {},
   "outputs": [
    {
     "name": "stdout",
     "output_type": "stream",
     "text": [
      "Train accuracy 0.5563905575162176\n",
      "Test accuracy 0.4944453120772796\n"
     ]
    }
   ],
   "source": [
    "print(f'Train accuracy {gbr.score(X_train,y_train)}')\n",
    "print(f'Test accuracy {gbr.score(X_test,y_test)}')"
   ]
  },
  {
   "cell_type": "code",
   "execution_count": 25,
   "id": "003f5ce9",
   "metadata": {},
   "outputs": [
    {
     "name": "stdout",
     "output_type": "stream",
     "text": [
      "Parallel Parameter optimization\n",
      "Fitting 5 folds for each of 9 candidates, totalling 45 fits\n",
      "-0.08065429844418215\n",
      "{'max_depth': 2, 'n_estimators': 100}\n"
     ]
    }
   ],
   "source": [
    "from sklearn.model_selection import GridSearchCV\n",
    "\n",
    "import multiprocessing\n",
    "\n",
    "print(\"Parallel Parameter optimization\")\n",
    "\n",
    "xgb_model = xgb.XGBRegressor(n_jobs=multiprocessing.cpu_count() // 2)\n",
    "clf = GridSearchCV(xgb_model, {'max_depth': [2, 4, 6],\n",
    "                        'n_estimators': [50, 100, 200]},\n",
    "                         verbose=1,\n",
    "                         n_jobs=2)\n",
    "clf.fit(X, y)\n",
    "print(clf.best_score_)\n",
    "print(clf.best_params_)"
   ]
  },
  {
   "cell_type": "code",
   "execution_count": null,
   "id": "2da19789",
   "metadata": {},
   "outputs": [],
   "source": [
    "import xgboost as xgb\n",
    "# read in data\n",
    "dtrain = xgb.DMatrix('demo/data/agaricus.txt.train')\n",
    "dtest = xgb.DMatrix('demo/data/agaricus.txt.test')\n",
    "# specify parameters via map\n",
    "param = {'max_depth':2, 'eta':1, 'objective':'binary:logistic' }\n",
    "num_round = 2\n",
    "bst = xgb.train(param, dtrain, num_round)\n",
    "# make prediction\n",
    "preds = bst.predict(dtest)"
   ]
  }
 ],
 "metadata": {
  "kernelspec": {
   "display_name": "Python 3 (ipykernel)",
   "language": "python",
   "name": "python3"
  },
  "language_info": {
   "codemirror_mode": {
    "name": "ipython",
    "version": 3
   },
   "file_extension": ".py",
   "mimetype": "text/x-python",
   "name": "python",
   "nbconvert_exporter": "python",
   "pygments_lexer": "ipython3",
   "version": "3.9.7"
  }
 },
 "nbformat": 4,
 "nbformat_minor": 5
}
