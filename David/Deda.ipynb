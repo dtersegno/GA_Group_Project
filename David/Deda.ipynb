{
 "cells": [
  {
   "cell_type": "markdown",
   "id": "3c8946b1",
   "metadata": {},
   "source": [
    "# EDA on CA EnviroScan 4\n",
    "\n",
    "4/8/22\n",
    "\n",
    "David Tersegno\n",
    "\n",
    "---\n",
    "\n",
    "This is a general scan over the data included in the California Office of Environmental Health Hazard Assessment [EnviroScan 4.0 report](https://oehha.ca.gov/calenviroscreen/report/calenviroscreen-40), released in 2021.\n",
    "\n",
    "Giovanna [ ] and Marshall Cyrus are each looking over the CA EnviroScans 2 and 3."
   ]
  },
  {
   "cell_type": "markdown",
   "id": "a7735a2b",
   "metadata": {},
   "source": [
    "# Import libraries"
   ]
  },
  {
   "cell_type": "code",
   "execution_count": 3,
   "id": "80766f4e",
   "metadata": {},
   "outputs": [],
   "source": [
    "# general\n",
    "import os\n",
    "import pandas as pd\n",
    "import numpy as np\n",
    "\n",
    "# plotting\n",
    "import matplotlib.pyplot as plt\n",
    "import seaborn as sns\n",
    "plt.style.use('dark_background')\n",
    "\n",
    "# sklearn"
   ]
  },
  {
   "cell_type": "markdown",
   "id": "4d6274a7",
   "metadata": {},
   "source": [
    "# Import data"
   ]
  },
  {
   "cell_type": "code",
   "execution_count": 11,
   "id": "84cbd2e2",
   "metadata": {},
   "outputs": [
    {
     "data": {
      "text/plain": [
       "['calenviroscreen-3.0-results-june-2018-update.csv',\n",
       " 'calenviroscreen2-final-report.csv',\n",
       " 'calenviroscreen40resultsdatadictionary_F_2021.xlsx']"
      ]
     },
     "execution_count": 11,
     "metadata": {},
     "output_type": "execute_result"
    }
   ],
   "source": [
    "# list raw data files\n",
    "data_folder = '../raw_data/'\n",
    "raw_data_files = os.listdir(data_folder)\n",
    "raw_data_files"
   ]
  },
  {
   "cell_type": "code",
   "execution_count": 26,
   "id": "423cea56",
   "metadata": {},
   "outputs": [],
   "source": [
    "#import the enviroscan 4 excel data\n",
    "ca4_file_path = data_folder + raw_data_files[2]\n",
    "dfca4 = pd.read_excel(ca4_file_path)"
   ]
  },
  {
   "cell_type": "code",
   "execution_count": 30,
   "id": "65052672",
   "metadata": {},
   "outputs": [],
   "source": [
    "#The data takes a long time to read, but is only a few MB after being interpreted.\n",
    "# consider saving a csv copy from the dataframe later."
   ]
  },
  {
   "cell_type": "code",
   "execution_count": 27,
   "id": "d667a2af",
   "metadata": {
    "scrolled": true
   },
   "outputs": [
    {
     "data": {
      "text/html": [
       "<div>\n",
       "<style scoped>\n",
       "    .dataframe tbody tr th:only-of-type {\n",
       "        vertical-align: middle;\n",
       "    }\n",
       "\n",
       "    .dataframe tbody tr th {\n",
       "        vertical-align: top;\n",
       "    }\n",
       "\n",
       "    .dataframe thead th {\n",
       "        text-align: right;\n",
       "    }\n",
       "</style>\n",
       "<table border=\"1\" class=\"dataframe\">\n",
       "  <thead>\n",
       "    <tr style=\"text-align: right;\">\n",
       "      <th></th>\n",
       "      <th>Census Tract</th>\n",
       "      <th>Total Population</th>\n",
       "      <th>California County</th>\n",
       "      <th>ZIP</th>\n",
       "      <th>Approximate Location</th>\n",
       "      <th>Longitude</th>\n",
       "      <th>Latitude</th>\n",
       "      <th>CES 4.0 Score</th>\n",
       "      <th>CES 4.0 Percentile</th>\n",
       "      <th>CES 4.0 Percentile Range</th>\n",
       "      <th>...</th>\n",
       "      <th>Linguistic Isolation Pctl</th>\n",
       "      <th>Poverty</th>\n",
       "      <th>Poverty Pctl</th>\n",
       "      <th>Unemployment</th>\n",
       "      <th>Unemployment Pctl</th>\n",
       "      <th>Housing Burden</th>\n",
       "      <th>Housing Burden Pctl</th>\n",
       "      <th>Pop. Char.</th>\n",
       "      <th>Pop. Char. Score</th>\n",
       "      <th>Pop. Char. Pctl</th>\n",
       "    </tr>\n",
       "  </thead>\n",
       "  <tbody>\n",
       "    <tr>\n",
       "      <th>0</th>\n",
       "      <td>6019001100</td>\n",
       "      <td>2780</td>\n",
       "      <td>Fresno</td>\n",
       "      <td>93706</td>\n",
       "      <td>Fresno</td>\n",
       "      <td>-119.781696</td>\n",
       "      <td>36.709695</td>\n",
       "      <td>93.183570</td>\n",
       "      <td>100.000000</td>\n",
       "      <td>95-100% (highest scores)</td>\n",
       "      <td>...</td>\n",
       "      <td>79.374746</td>\n",
       "      <td>76.0</td>\n",
       "      <td>98.919598</td>\n",
       "      <td>12.8</td>\n",
       "      <td>93.831338</td>\n",
       "      <td>30.3</td>\n",
       "      <td>91.039290</td>\n",
       "      <td>93.155109</td>\n",
       "      <td>9.663213</td>\n",
       "      <td>99.722642</td>\n",
       "    </tr>\n",
       "    <tr>\n",
       "      <th>1</th>\n",
       "      <td>6077000700</td>\n",
       "      <td>4680</td>\n",
       "      <td>San Joaquin</td>\n",
       "      <td>95206</td>\n",
       "      <td>Stockton</td>\n",
       "      <td>-121.287873</td>\n",
       "      <td>37.943173</td>\n",
       "      <td>86.653790</td>\n",
       "      <td>99.987393</td>\n",
       "      <td>95-100% (highest scores)</td>\n",
       "      <td>...</td>\n",
       "      <td>95.533902</td>\n",
       "      <td>73.2</td>\n",
       "      <td>98.391960</td>\n",
       "      <td>19.8</td>\n",
       "      <td>99.206143</td>\n",
       "      <td>31.2</td>\n",
       "      <td>92.281369</td>\n",
       "      <td>93.165408</td>\n",
       "      <td>9.664281</td>\n",
       "      <td>99.735250</td>\n",
       "    </tr>\n",
       "    <tr>\n",
       "      <th>2</th>\n",
       "      <td>6037204920</td>\n",
       "      <td>2751</td>\n",
       "      <td>Los Angeles</td>\n",
       "      <td>90023</td>\n",
       "      <td>Los Angeles</td>\n",
       "      <td>-118.197497</td>\n",
       "      <td>34.017500</td>\n",
       "      <td>82.393909</td>\n",
       "      <td>99.974786</td>\n",
       "      <td>95-100% (highest scores)</td>\n",
       "      <td>...</td>\n",
       "      <td>81.553661</td>\n",
       "      <td>62.6</td>\n",
       "      <td>93.391960</td>\n",
       "      <td>6.4</td>\n",
       "      <td>61.530453</td>\n",
       "      <td>20.3</td>\n",
       "      <td>63.967047</td>\n",
       "      <td>83.751814</td>\n",
       "      <td>8.687785</td>\n",
       "      <td>95.789208</td>\n",
       "    </tr>\n",
       "    <tr>\n",
       "      <th>3</th>\n",
       "      <td>6019000700</td>\n",
       "      <td>3664</td>\n",
       "      <td>Fresno</td>\n",
       "      <td>93706</td>\n",
       "      <td>Fresno</td>\n",
       "      <td>-119.827707</td>\n",
       "      <td>36.734535</td>\n",
       "      <td>81.327940</td>\n",
       "      <td>99.962179</td>\n",
       "      <td>95-100% (highest scores)</td>\n",
       "      <td>...</td>\n",
       "      <td>78.711598</td>\n",
       "      <td>65.7</td>\n",
       "      <td>95.351759</td>\n",
       "      <td>15.7</td>\n",
       "      <td>97.345133</td>\n",
       "      <td>35.4</td>\n",
       "      <td>96.413181</td>\n",
       "      <td>94.641227</td>\n",
       "      <td>9.817371</td>\n",
       "      <td>99.886536</td>\n",
       "    </tr>\n",
       "    <tr>\n",
       "      <th>4</th>\n",
       "      <td>6019000200</td>\n",
       "      <td>2689</td>\n",
       "      <td>Fresno</td>\n",
       "      <td>93706</td>\n",
       "      <td>Fresno</td>\n",
       "      <td>-119.805504</td>\n",
       "      <td>36.735491</td>\n",
       "      <td>80.745476</td>\n",
       "      <td>99.949571</td>\n",
       "      <td>95-100% (highest scores)</td>\n",
       "      <td>...</td>\n",
       "      <td>86.561104</td>\n",
       "      <td>72.7</td>\n",
       "      <td>98.304020</td>\n",
       "      <td>13.7</td>\n",
       "      <td>95.288912</td>\n",
       "      <td>32.7</td>\n",
       "      <td>94.157161</td>\n",
       "      <td>95.398873</td>\n",
       "      <td>9.895964</td>\n",
       "      <td>99.949571</td>\n",
       "    </tr>\n",
       "  </tbody>\n",
       "</table>\n",
       "<p>5 rows × 58 columns</p>\n",
       "</div>"
      ],
      "text/plain": [
       "   Census Tract  Total Population California County    ZIP  \\\n",
       "0    6019001100              2780           Fresno   93706   \n",
       "1    6077000700              4680       San Joaquin  95206   \n",
       "2    6037204920              2751       Los Angeles  90023   \n",
       "3    6019000700              3664           Fresno   93706   \n",
       "4    6019000200              2689           Fresno   93706   \n",
       "\n",
       "  Approximate Location   Longitude   Latitude  CES 4.0 Score  \\\n",
       "0               Fresno -119.781696  36.709695      93.183570   \n",
       "1             Stockton -121.287873  37.943173      86.653790   \n",
       "2          Los Angeles -118.197497  34.017500      82.393909   \n",
       "3               Fresno -119.827707  36.734535      81.327940   \n",
       "4               Fresno -119.805504  36.735491      80.745476   \n",
       "\n",
       "    CES 4.0 Percentile  CES 4.0 Percentile Range  ...  \\\n",
       "0           100.000000  95-100% (highest scores)  ...   \n",
       "1            99.987393  95-100% (highest scores)  ...   \n",
       "2            99.974786  95-100% (highest scores)  ...   \n",
       "3            99.962179  95-100% (highest scores)  ...   \n",
       "4            99.949571  95-100% (highest scores)  ...   \n",
       "\n",
       "   Linguistic Isolation Pctl  Poverty  Poverty Pctl  Unemployment  \\\n",
       "0                  79.374746     76.0     98.919598          12.8   \n",
       "1                  95.533902     73.2     98.391960          19.8   \n",
       "2                  81.553661     62.6     93.391960           6.4   \n",
       "3                  78.711598     65.7     95.351759          15.7   \n",
       "4                  86.561104     72.7     98.304020          13.7   \n",
       "\n",
       "   Unemployment Pctl  Housing Burden  Housing Burden Pctl  Pop. Char.   \\\n",
       "0          93.831338            30.3            91.039290    93.155109   \n",
       "1          99.206143            31.2            92.281369    93.165408   \n",
       "2          61.530453            20.3            63.967047    83.751814   \n",
       "3          97.345133            35.4            96.413181    94.641227   \n",
       "4          95.288912            32.7            94.157161    95.398873   \n",
       "\n",
       "   Pop. Char. Score  Pop. Char. Pctl  \n",
       "0          9.663213        99.722642  \n",
       "1          9.664281        99.735250  \n",
       "2          8.687785        95.789208  \n",
       "3          9.817371        99.886536  \n",
       "4          9.895964        99.949571  \n",
       "\n",
       "[5 rows x 58 columns]"
      ]
     },
     "execution_count": 27,
     "metadata": {},
     "output_type": "execute_result"
    }
   ],
   "source": [
    "#look at the top.\n",
    "dfca4.head()"
   ]
  },
  {
   "cell_type": "markdown",
   "id": "c290a745",
   "metadata": {},
   "source": [
    "### Column list"
   ]
  },
  {
   "cell_type": "code",
   "execution_count": 28,
   "id": "8187e3cc",
   "metadata": {
    "scrolled": true
   },
   "outputs": [
    {
     "name": "stdout",
     "output_type": "stream",
     "text": [
      "<class 'pandas.core.frame.DataFrame'>\n",
      "RangeIndex: 8035 entries, 0 to 8034\n",
      "Data columns (total 58 columns):\n",
      " #   Column                       Non-Null Count  Dtype  \n",
      "---  ------                       --------------  -----  \n",
      " 0   Census Tract                 8035 non-null   int64  \n",
      " 1   Total Population             8035 non-null   int64  \n",
      " 2   California County            8035 non-null   object \n",
      " 3   ZIP                          8035 non-null   int64  \n",
      " 4   Approximate Location         8035 non-null   object \n",
      " 5   Longitude                    8035 non-null   float64\n",
      " 6   Latitude                     8035 non-null   float64\n",
      " 7   CES 4.0 Score                7932 non-null   float64\n",
      " 8    CES 4.0 Percentile          7932 non-null   float64\n",
      " 9   CES 4.0 Percentile Range     7932 non-null   object \n",
      " 10  Ozone                        8035 non-null   float64\n",
      " 11  Ozone Pctl                   8035 non-null   float64\n",
      " 12  PM2.5                        8035 non-null   float64\n",
      " 13  PM2.5 Pctl                   8035 non-null   float64\n",
      " 14  Diesel PM                    8035 non-null   float64\n",
      " 15  Diesel PM Pctl               8035 non-null   float64\n",
      " 16  Drinking Water               8007 non-null   float64\n",
      " 17  Drinking Water Pctl          8007 non-null   float64\n",
      " 18  Lead                         7939 non-null   float64\n",
      " 19  Lead Pctl                    7939 non-null   float64\n",
      " 20  Pesticides                   8035 non-null   float64\n",
      " 21  Pesticides Pctl              8035 non-null   float64\n",
      " 22  Tox. Release                 8035 non-null   float64\n",
      " 23  Tox. Release Pctl            8035 non-null   float64\n",
      " 24  Traffic                      8000 non-null   float64\n",
      " 25  Traffic Pctl                 8000 non-null   float64\n",
      " 26  Cleanup Sites                8035 non-null   float64\n",
      " 27  Cleanup Sites Pctl           8035 non-null   float64\n",
      " 28  Groundwater Threats          8035 non-null   float64\n",
      " 29  Groundwater Threats Pctl     8035 non-null   float64\n",
      " 30  Haz. Waste                   8035 non-null   float64\n",
      " 31  Haz. Waste Pctl              8035 non-null   float64\n",
      " 32  Imp. Water Bodies            8035 non-null   int64  \n",
      " 33  Imp. Water Bodies Pctl       8035 non-null   float64\n",
      " 34  Solid Waste                  8035 non-null   float64\n",
      " 35  Solid Waste Pctl             8035 non-null   float64\n",
      " 36  Pollution Burden             8035 non-null   float64\n",
      " 37  Pollution Burden Score       8035 non-null   float64\n",
      " 38  Pollution Burden Pctl        8035 non-null   float64\n",
      " 39  Asthma                       8024 non-null   float64\n",
      " 40  Asthma Pctl                  8024 non-null   float64\n",
      " 41  Low Birth Weight             7808 non-null   float64\n",
      " 42  Low Birth Weight Pctl        7808 non-null   float64\n",
      " 43  Cardiovascular Disease       8024 non-null   float64\n",
      " 44  Cardiovascular Disease Pctl  8024 non-null   float64\n",
      " 45  Education                    7932 non-null   float64\n",
      " 46  Education Pctl               7932 non-null   float64\n",
      " 47  Linguistic Isolation         7715 non-null   float64\n",
      " 48  Linguistic Isolation Pctl    7715 non-null   float64\n",
      " 49  Poverty                      7960 non-null   float64\n",
      " 50  Poverty Pctl                 7960 non-null   float64\n",
      " 51  Unemployment                 7700 non-null   float64\n",
      " 52  Unemployment Pctl            7700 non-null   float64\n",
      " 53  Housing Burden               7890 non-null   float64\n",
      " 54  Housing Burden Pctl          7890 non-null   float64\n",
      " 55  Pop. Char.                   7932 non-null   float64\n",
      " 56  Pop. Char. Score             7932 non-null   float64\n",
      " 57  Pop. Char. Pctl              7932 non-null   float64\n",
      "dtypes: float64(51), int64(4), object(3)\n",
      "memory usage: 3.6+ MB\n"
     ]
    }
   ],
   "source": [
    "dfca4.info()"
   ]
  },
  {
   "cell_type": "markdown",
   "id": "28032dcc",
   "metadata": {},
   "source": [
    "The data includes 58 columns, mostly as numerical types.\n",
    "The three that aren't numerical include locations `California County` and `Approximate Location`. The third `object` type is `CES 4.0 Percentile Range`. This gives a range of numbers that likely can be turned into a numerical. We'll deal with that as it comes."
   ]
  },
  {
   "cell_type": "markdown",
   "id": "64fee26b",
   "metadata": {},
   "source": [
    "---\n",
    "---\n",
    "# Column Detail"
   ]
  },
  {
   "cell_type": "markdown",
   "id": "391689c4",
   "metadata": {},
   "source": [
    "---\n",
    "## 0 Census Tract"
   ]
  },
  {
   "cell_type": "code",
   "execution_count": 31,
   "id": "2312ecb6",
   "metadata": {},
   "outputs": [
    {
     "data": {
      "text/plain": [
       "count    8.035000e+03\n",
       "mean     6.054896e+09\n",
       "std      2.652280e+07\n",
       "min      6.001400e+09\n",
       "25%      6.037265e+09\n",
       "50%      6.059053e+09\n",
       "75%      6.073016e+09\n",
       "max      6.115041e+09\n",
       "Name: Census Tract, dtype: float64"
      ]
     },
     "execution_count": 31,
     "metadata": {},
     "output_type": "execute_result"
    }
   ],
   "source": [
    "col = 'Census Tract'\n",
    "dfca4[col].describe()"
   ]
  },
  {
   "cell_type": "code",
   "execution_count": 43,
   "id": "043d4b77",
   "metadata": {},
   "outputs": [
    {
     "data": {
      "text/plain": [
       "Text(0.5, 1.0, 'Census Tract histogram')"
      ]
     },
     "execution_count": 43,
     "metadata": {},
     "output_type": "execute_result"
    },
    {
     "data": {
      "image/png": "[encoded data removed]",
      "text/plain": [
       "<Figure size 864x288 with 1 Axes>"
      ]
     },
     "metadata": {},
     "output_type": "display_data"
    }
   ],
   "source": [
    "dfca4[col].hist( figsize = (12,4))\n",
    "plt.title(col + ' histogram')"
   ]
  },
  {
   "cell_type": "code",
   "execution_count": 46,
   "id": "e2ccd0a8",
   "metadata": {},
   "outputs": [
    {
     "data": {
      "text/plain": [
       "8035"
      ]
     },
     "execution_count": 46,
     "metadata": {},
     "output_type": "execute_result"
    }
   ],
   "source": [
    "len(dfca4)"
   ]
  },
  {
   "cell_type": "code",
   "execution_count": 47,
   "id": "c71c8a0e",
   "metadata": {},
   "outputs": [
    {
     "data": {
      "text/plain": [
       "8035"
      ]
     },
     "execution_count": 47,
     "metadata": {},
     "output_type": "execute_result"
    }
   ],
   "source": [
    "len(dfca4[col].unique())"
   ]
  },
  {
   "cell_type": "markdown",
   "id": "856137a3",
   "metadata": {},
   "source": [
    "The number of unique values is the same as the number of observations. Each has its own unique census identifier --- these may be used as indices for the data, but I will wait to see if there's any pattern.\n",
    "\n",
    "### Q:\n",
    "    - Do these census regions cover every portion of California?\n",
    "    - How are they chosen? Are they approximately population organized?\n",
    "    - Are these regions the same set as those in the other CAES data sets? Were there any changes to them from year to year?"
   ]
  },
  {
   "cell_type": "markdown",
   "id": "2e30cb9c",
   "metadata": {},
   "source": [
    "---\n",
    "##  1   Total Population \n",
    "\n",
    "Thanks to [the docs](https://pandas.pydata.org/docs/reference/api/pandas.DataFrame.hist.html) for help with series.hist(). The `log` parameter is passed to `matplotlib.pyplot.hist()`."
   ]
  },
  {
   "cell_type": "code",
   "execution_count": 48,
   "id": "753e55a1",
   "metadata": {},
   "outputs": [
    {
     "data": {
      "text/plain": [
       "count     8035.000000\n",
       "mean      4889.047542\n",
       "std       2269.284396\n",
       "min          0.000000\n",
       "25%       3470.000000\n",
       "50%       4615.000000\n",
       "75%       5931.000000\n",
       "max      38754.000000\n",
       "Name: Total Population, dtype: float64"
      ]
     },
     "execution_count": 48,
     "metadata": {},
     "output_type": "execute_result"
    }
   ],
   "source": [
    "col = 'Total Population'\n",
    "dfca4[col].describe()"
   ]
  },
  {
   "cell_type": "code",
   "execution_count": 64,
   "id": "4e0036e0",
   "metadata": {
    "scrolled": false
   },
   "outputs": [
    {
     "data": {
      "image/png": "[encoded data removed]",
      "text/plain": [
       "<Figure size 864x432 with 1 Axes>"
      ]
     },
     "metadata": {},
     "output_type": "display_data"
    }
   ],
   "source": [
    "#distribution\n",
    "dfca4[col].hist(bins=40, log = True, figsize = (12,6));\n",
    "plt.title(col + ' histogram --- logarithmic scale');\n",
    "plt.xlabel(\"population per census region\");\n",
    "plt.ylabel('count');"
   ]
  },
  {
   "cell_type": "markdown",
   "id": "05df3c07",
   "metadata": {},
   "source": [
    "The population is skewed to higher values, with thousands of small populated areas and only a handful of very heavily populated ones.\n",
    "\n",
    "None of these populations are \"big city\" levels, though. The very largest and sprawling areas must be broken into neighborhoods."
   ]
  },
  {
   "cell_type": "markdown",
   "id": "e41680ca",
   "metadata": {},
   "source": [
    "### Q:\n",
    "    - What are the populations measuring? The census number may be a specifically designated region."
   ]
  },
  {
   "cell_type": "markdown",
   "id": "6d1a4304",
   "metadata": {},
   "source": [
    "## 2 - California County"
   ]
  },
  {
   "cell_type": "code",
   "execution_count": 65,
   "id": "f20af9c8",
   "metadata": {
    "scrolled": true
   },
   "outputs": [
    {
     "data": {
      "text/plain": [
       "count            8035\n",
       "unique             58\n",
       "top       Los Angeles\n",
       "freq             2343\n",
       "Name: California County, dtype: object"
      ]
     },
     "execution_count": 65,
     "metadata": {},
     "output_type": "execute_result"
    }
   ],
   "source": [
    "col = 'California County'\n",
    "dfca4[col].describe()"
   ]
  },
  {
   "cell_type": "markdown",
   "id": "9828cce1",
   "metadata": {},
   "source": [
    "It looks like over a quarter of these regions come from Los Angeles county. It's a big one. There are 58 unique counties.\n",
    "\n",
    "### Q:\n",
    "    - is every portion of california's land represented here?\n",
    "    - is every county represented?\n",
    "    "
   ]
  },
  {
   "cell_type": "markdown",
   "id": "0beba438",
   "metadata": {},
   "source": [
    "## 3   ZIP "
   ]
  },
  {
   "cell_type": "code",
   "execution_count": 75,
   "id": "4364dae9",
   "metadata": {
    "scrolled": true
   },
   "outputs": [
    {
     "data": {
      "text/plain": [
       "count     8035.000000\n",
       "mean     92836.574611\n",
       "std       3445.177594\n",
       "min         32.000000\n",
       "25%      91602.000000\n",
       "50%      92691.000000\n",
       "75%      94558.000000\n",
       "max      96161.000000\n",
       "Name: ZIP, dtype: float64"
      ]
     },
     "execution_count": 75,
     "metadata": {},
     "output_type": "execute_result"
    }
   ],
   "source": [
    "col = 'ZIP'\n",
    "dfca4[col].describe()"
   ]
  },
  {
   "cell_type": "code",
   "execution_count": 77,
   "id": "70239ade",
   "metadata": {
    "scrolled": true
   },
   "outputs": [
    {
     "data": {
      "text/plain": [
       "1355"
      ]
     },
     "execution_count": 77,
     "metadata": {},
     "output_type": "execute_result"
    }
   ],
   "source": [
    "len(dfca4[col].unique())"
   ]
  },
  {
   "cell_type": "code",
   "execution_count": 90,
   "id": "1a67c38c",
   "metadata": {},
   "outputs": [
    {
     "data": {
      "image/png": "[encoded data removed]",
      "text/plain": [
       "<Figure size 864x432 with 1 Axes>"
      ]
     },
     "metadata": {},
     "output_type": "display_data"
    }
   ],
   "source": [
    "dfca4[col].value_counts().hist(figsize = (12,6))\n",
    "plt.xlabel(\"number of measurements from the same zip code\")\n",
    "plt.ylabel(\"count\")\n",
    "plt.title(\"zip code representation.\");"
   ]
  },
  {
   "cell_type": "markdown",
   "id": "276e9a24",
   "metadata": {},
   "source": [
    "These are zip codes. There are definitely multiple measurements per zip code --- only 1355 unique values. There is one for each region, but at least one is surely wrong... there is a 32. Is this is something like 00032?"
   ]
  },
  {
   "cell_type": "code",
   "execution_count": 68,
   "id": "c3d0eaa0",
   "metadata": {
    "scrolled": true
   },
   "outputs": [
    {
     "data": {
      "text/html": [
       "<div>\n",
       "<style scoped>\n",
       "    .dataframe tbody tr th:only-of-type {\n",
       "        vertical-align: middle;\n",
       "    }\n",
       "\n",
       "    .dataframe tbody tr th {\n",
       "        vertical-align: top;\n",
       "    }\n",
       "\n",
       "    .dataframe thead th {\n",
       "        text-align: right;\n",
       "    }\n",
       "</style>\n",
       "<table border=\"1\" class=\"dataframe\">\n",
       "  <thead>\n",
       "    <tr style=\"text-align: right;\">\n",
       "      <th></th>\n",
       "      <th>Census Tract</th>\n",
       "      <th>Total Population</th>\n",
       "      <th>California County</th>\n",
       "      <th>ZIP</th>\n",
       "      <th>Approximate Location</th>\n",
       "      <th>Longitude</th>\n",
       "      <th>Latitude</th>\n",
       "      <th>CES 4.0 Score</th>\n",
       "      <th>CES 4.0 Percentile</th>\n",
       "      <th>CES 4.0 Percentile Range</th>\n",
       "      <th>...</th>\n",
       "      <th>Linguistic Isolation Pctl</th>\n",
       "      <th>Poverty</th>\n",
       "      <th>Poverty Pctl</th>\n",
       "      <th>Unemployment</th>\n",
       "      <th>Unemployment Pctl</th>\n",
       "      <th>Housing Burden</th>\n",
       "      <th>Housing Burden Pctl</th>\n",
       "      <th>Pop. Char.</th>\n",
       "      <th>Pop. Char. Score</th>\n",
       "      <th>Pop. Char. Pctl</th>\n",
       "    </tr>\n",
       "  </thead>\n",
       "  <tbody>\n",
       "    <tr>\n",
       "      <th>4544</th>\n",
       "      <td>6083001800</td>\n",
       "      <td>1050</td>\n",
       "      <td>Santa Barbara</td>\n",
       "      <td>32</td>\n",
       "      <td>Unincorporated Santa Barbara County area</td>\n",
       "      <td>-119.717740</td>\n",
       "      <td>34.777648</td>\n",
       "      <td>22.281902</td>\n",
       "      <td>42.713061</td>\n",
       "      <td>40-45%</td>\n",
       "      <td>...</td>\n",
       "      <td>86.899445</td>\n",
       "      <td>38.5</td>\n",
       "      <td>66.871859</td>\n",
       "      <td>9.3</td>\n",
       "      <td>83.224883</td>\n",
       "      <td>10.6</td>\n",
       "      <td>16.311787</td>\n",
       "      <td>39.005295</td>\n",
       "      <td>4.046117</td>\n",
       "      <td>33.862834</td>\n",
       "    </tr>\n",
       "    <tr>\n",
       "      <th>5057</th>\n",
       "      <td>6093001200</td>\n",
       "      <td>1261</td>\n",
       "      <td>Siskiyou</td>\n",
       "      <td>35</td>\n",
       "      <td>Unincorporated Siskiyou County area</td>\n",
       "      <td>-121.826057</td>\n",
       "      <td>41.411603</td>\n",
       "      <td>19.513579</td>\n",
       "      <td>36.245587</td>\n",
       "      <td>35-40%</td>\n",
       "      <td>...</td>\n",
       "      <td>NaN</td>\n",
       "      <td>36.0</td>\n",
       "      <td>63.241206</td>\n",
       "      <td>13.7</td>\n",
       "      <td>95.288912</td>\n",
       "      <td>10.9</td>\n",
       "      <td>17.934094</td>\n",
       "      <td>62.053356</td>\n",
       "      <td>6.436950</td>\n",
       "      <td>68.772063</td>\n",
       "    </tr>\n",
       "    <tr>\n",
       "      <th>5143</th>\n",
       "      <td>6033000100</td>\n",
       "      <td>3376</td>\n",
       "      <td>Lake</td>\n",
       "      <td>48</td>\n",
       "      <td>Unincorporated Lake County area</td>\n",
       "      <td>-122.909601</td>\n",
       "      <td>39.335491</td>\n",
       "      <td>18.998409</td>\n",
       "      <td>35.161372</td>\n",
       "      <td>35-40%</td>\n",
       "      <td>...</td>\n",
       "      <td>13.303559</td>\n",
       "      <td>38.5</td>\n",
       "      <td>66.871859</td>\n",
       "      <td>13.1</td>\n",
       "      <td>94.521083</td>\n",
       "      <td>16.7</td>\n",
       "      <td>47.617237</td>\n",
       "      <td>48.453698</td>\n",
       "      <td>5.026223</td>\n",
       "      <td>48.020676</td>\n",
       "    </tr>\n",
       "    <tr>\n",
       "      <th>5833</th>\n",
       "      <td>6105000400</td>\n",
       "      <td>894</td>\n",
       "      <td>Trinity</td>\n",
       "      <td>39</td>\n",
       "      <td>Unincorporated Trinity County area</td>\n",
       "      <td>-123.210947</td>\n",
       "      <td>40.069602</td>\n",
       "      <td>15.397582</td>\n",
       "      <td>26.462431</td>\n",
       "      <td>25-30%</td>\n",
       "      <td>...</td>\n",
       "      <td>12.275003</td>\n",
       "      <td>60.3</td>\n",
       "      <td>91.846734</td>\n",
       "      <td>NaN</td>\n",
       "      <td>NaN</td>\n",
       "      <td>37.5</td>\n",
       "      <td>97.629911</td>\n",
       "      <td>55.341376</td>\n",
       "      <td>5.740699</td>\n",
       "      <td>58.295512</td>\n",
       "    </tr>\n",
       "    <tr>\n",
       "      <th>6343</th>\n",
       "      <td>6109004200</td>\n",
       "      <td>3487</td>\n",
       "      <td>Tuolumne</td>\n",
       "      <td>40</td>\n",
       "      <td>Unincorporated Tuolumne County area</td>\n",
       "      <td>-119.640723</td>\n",
       "      <td>37.949499</td>\n",
       "      <td>12.828329</td>\n",
       "      <td>20.032779</td>\n",
       "      <td>20-25%</td>\n",
       "      <td>...</td>\n",
       "      <td>0.000000</td>\n",
       "      <td>29.0</td>\n",
       "      <td>52.261307</td>\n",
       "      <td>4.6</td>\n",
       "      <td>39.211348</td>\n",
       "      <td>9.7</td>\n",
       "      <td>12.788340</td>\n",
       "      <td>40.278108</td>\n",
       "      <td>4.178149</td>\n",
       "      <td>35.816944</td>\n",
       "    </tr>\n",
       "    <tr>\n",
       "      <th>6579</th>\n",
       "      <td>6017030603</td>\n",
       "      <td>3668</td>\n",
       "      <td>El Dorado</td>\n",
       "      <td>51</td>\n",
       "      <td>Unincorporated El Dorado County area</td>\n",
       "      <td>-120.422095</td>\n",
       "      <td>38.882147</td>\n",
       "      <td>11.697855</td>\n",
       "      <td>17.057489</td>\n",
       "      <td>15-20%</td>\n",
       "      <td>...</td>\n",
       "      <td>0.000000</td>\n",
       "      <td>26.9</td>\n",
       "      <td>48.442211</td>\n",
       "      <td>5.3</td>\n",
       "      <td>48.256117</td>\n",
       "      <td>17.9</td>\n",
       "      <td>53.624842</td>\n",
       "      <td>33.353853</td>\n",
       "      <td>3.459879</td>\n",
       "      <td>24.873928</td>\n",
       "    </tr>\n",
       "    <tr>\n",
       "      <th>8025</th>\n",
       "      <td>6083980100</td>\n",
       "      <td>10</td>\n",
       "      <td>Santa Barbara</td>\n",
       "      <td>57</td>\n",
       "      <td>Unincorporated Santa Barbara County area</td>\n",
       "      <td>-120.048221</td>\n",
       "      <td>33.948186</td>\n",
       "      <td>NaN</td>\n",
       "      <td>NaN</td>\n",
       "      <td>NaN</td>\n",
       "      <td>...</td>\n",
       "      <td>NaN</td>\n",
       "      <td>NaN</td>\n",
       "      <td>NaN</td>\n",
       "      <td>NaN</td>\n",
       "      <td>NaN</td>\n",
       "      <td>NaN</td>\n",
       "      <td>NaN</td>\n",
       "      <td>NaN</td>\n",
       "      <td>NaN</td>\n",
       "      <td>NaN</td>\n",
       "    </tr>\n",
       "    <tr>\n",
       "      <th>8034</th>\n",
       "      <td>6111980000</td>\n",
       "      <td>118</td>\n",
       "      <td>Ventura</td>\n",
       "      <td>61</td>\n",
       "      <td>Unincorporated Ventura County area</td>\n",
       "      <td>-119.503588</td>\n",
       "      <td>33.255655</td>\n",
       "      <td>NaN</td>\n",
       "      <td>NaN</td>\n",
       "      <td>NaN</td>\n",
       "      <td>...</td>\n",
       "      <td>NaN</td>\n",
       "      <td>NaN</td>\n",
       "      <td>NaN</td>\n",
       "      <td>NaN</td>\n",
       "      <td>NaN</td>\n",
       "      <td>NaN</td>\n",
       "      <td>NaN</td>\n",
       "      <td>NaN</td>\n",
       "      <td>NaN</td>\n",
       "      <td>NaN</td>\n",
       "    </tr>\n",
       "  </tbody>\n",
       "</table>\n",
       "<p>8 rows × 58 columns</p>\n",
       "</div>"
      ],
      "text/plain": [
       "      Census Tract  Total Population California County  ZIP  \\\n",
       "4544    6083001800              1050     Santa Barbara   32   \n",
       "5057    6093001200              1261         Siskiyou    35   \n",
       "5143    6033000100              3376             Lake    48   \n",
       "5833    6105000400               894          Trinity    39   \n",
       "6343    6109004200              3487         Tuolumne    40   \n",
       "6579    6017030603              3668         El Dorado   51   \n",
       "8025    6083980100                10     Santa Barbara   57   \n",
       "8034    6111980000               118          Ventura    61   \n",
       "\n",
       "                          Approximate Location   Longitude   Latitude  \\\n",
       "4544  Unincorporated Santa Barbara County area -119.717740  34.777648   \n",
       "5057       Unincorporated Siskiyou County area -121.826057  41.411603   \n",
       "5143           Unincorporated Lake County area -122.909601  39.335491   \n",
       "5833        Unincorporated Trinity County area -123.210947  40.069602   \n",
       "6343       Unincorporated Tuolumne County area -119.640723  37.949499   \n",
       "6579      Unincorporated El Dorado County area -120.422095  38.882147   \n",
       "8025  Unincorporated Santa Barbara County area -120.048221  33.948186   \n",
       "8034        Unincorporated Ventura County area -119.503588  33.255655   \n",
       "\n",
       "      CES 4.0 Score   CES 4.0 Percentile CES 4.0 Percentile Range  ...  \\\n",
       "4544      22.281902            42.713061                   40-45%  ...   \n",
       "5057      19.513579            36.245587                   35-40%  ...   \n",
       "5143      18.998409            35.161372                   35-40%  ...   \n",
       "5833      15.397582            26.462431                   25-30%  ...   \n",
       "6343      12.828329            20.032779                   20-25%  ...   \n",
       "6579      11.697855            17.057489                   15-20%  ...   \n",
       "8025            NaN                  NaN                      NaN  ...   \n",
       "8034            NaN                  NaN                      NaN  ...   \n",
       "\n",
       "      Linguistic Isolation Pctl  Poverty  Poverty Pctl  Unemployment  \\\n",
       "4544                  86.899445     38.5     66.871859           9.3   \n",
       "5057                        NaN     36.0     63.241206          13.7   \n",
       "5143                  13.303559     38.5     66.871859          13.1   \n",
       "5833                  12.275003     60.3     91.846734           NaN   \n",
       "6343                   0.000000     29.0     52.261307           4.6   \n",
       "6579                   0.000000     26.9     48.442211           5.3   \n",
       "8025                        NaN      NaN           NaN           NaN   \n",
       "8034                        NaN      NaN           NaN           NaN   \n",
       "\n",
       "      Unemployment Pctl  Housing Burden  Housing Burden Pctl  Pop. Char.   \\\n",
       "4544          83.224883            10.6            16.311787    39.005295   \n",
       "5057          95.288912            10.9            17.934094    62.053356   \n",
       "5143          94.521083            16.7            47.617237    48.453698   \n",
       "5833                NaN            37.5            97.629911    55.341376   \n",
       "6343          39.211348             9.7            12.788340    40.278108   \n",
       "6579          48.256117            17.9            53.624842    33.353853   \n",
       "8025                NaN             NaN                  NaN          NaN   \n",
       "8034                NaN             NaN                  NaN          NaN   \n",
       "\n",
       "      Pop. Char. Score  Pop. Char. Pctl  \n",
       "4544          4.046117        33.862834  \n",
       "5057          6.436950        68.772063  \n",
       "5143          5.026223        48.020676  \n",
       "5833          5.740699        58.295512  \n",
       "6343          4.178149        35.816944  \n",
       "6579          3.459879        24.873928  \n",
       "8025               NaN              NaN  \n",
       "8034               NaN              NaN  \n",
       "\n",
       "[8 rows x 58 columns]"
      ]
     },
     "execution_count": 68,
     "metadata": {},
     "output_type": "execute_result"
    }
   ],
   "source": [
    "dfca4.loc[dfca4[col] < 10000]"
   ]
  },
  {
   "cell_type": "markdown",
   "id": "e5902be0",
   "metadata": {},
   "source": [
    "There are 8 entries with goofball zips.\n",
    "\n",
    "These are all \"unincorporated\" areas. It looks like these are common:\n",
    "\n",
    "[LACounty.gov Unincorporated Areas](https://lacounty.gov/government/about-la-county/unincorporated-areas/)\n",
    "\n",
    "[PolicyLink California Unincorporated: Mapping Disadvantaged Communities in the San Joaquin Valley(PDF report)](https://www.policylink.org/sites/default/files/CA%20UNINCORPORATED_FINAL.pdf)\n",
    "\n",
    "[ZocaloPublicSquare](https://www.zocalopublicsquare.org/2020/11/10/california-unincorporated-communities-covid19-pandemic/ideas/connecting-california/)\n",
    "\n",
    "## Q:\n",
    "    - are these unincorporated \"zips\" real values that are used by the state? Do they mean anything?\n",
    "    - How many times are certain zip codes represented?\n",
    "    - Are there other \"unincorporated areas\"?\n",
    "    "
   ]
  },
  {
   "cell_type": "markdown",
   "id": "a3b64fde",
   "metadata": {},
   "source": [
    "## 4    Approximate Location     "
   ]
  },
  {
   "cell_type": "code",
   "execution_count": 91,
   "id": "f47d103d",
   "metadata": {
    "scrolled": false
   },
   "outputs": [
    {
     "data": {
      "text/plain": [
       "count            8035\n",
       "unique            785\n",
       "top       Los Angeles\n",
       "freq              996\n",
       "Name: Approximate Location, dtype: object"
      ]
     },
     "execution_count": 91,
     "metadata": {},
     "output_type": "execute_result"
    }
   ],
   "source": [
    "col = 'Approximate Location'\n",
    "dfca4[col].describe()"
   ]
  },
  {
   "cell_type": "code",
   "execution_count": 100,
   "id": "3dfc1203",
   "metadata": {},
   "outputs": [
    {
     "data": {
      "image/png": "[encoded data removed]",
      "text/plain": [
       "<Figure size 864x432 with 1 Axes>"
      ]
     },
     "metadata": {},
     "output_type": "display_data"
    }
   ],
   "source": [
    "dfca4[col].value_counts().hist(bins = 100, log = True, figsize = (12,6))\n",
    "plt.xlabel(\"number of representations per approximate location\")\n",
    "plt.title(\"Approximate Location representation --- log scale\");\n",
    "plt.ylabel('count');"
   ]
  },
  {
   "cell_type": "markdown",
   "id": "dca74f9d",
   "metadata": {},
   "source": [
    "A lot from LA again. That's the lone 900+. No NaNs. My guess is that this is basically a \"city\" stand-in, which accounts for all the places that aren't really cities.\n",
    "\n",
    "## Q:\n",
    "    - "
   ]
  },
  {
   "cell_type": "markdown",
   "id": "bc22299a",
   "metadata": {},
   "source": [
    "## 5 Latitude and 6 Longitude\n",
    "There shouldn't be too many surprises here. Check for nans and goofballs. Perhaps an opportunity to practice with [matplotlib](https://matplotlib.org/basemap/users/examples.html)."
   ]
  },
  {
   "cell_type": "code",
   "execution_count": 74,
   "id": "60602b33",
   "metadata": {
    "scrolled": false
   },
   "outputs": [
    {
     "data": {
      "text/plain": [
       "Text(0.5, 1.0, 'data gathering pts')"
      ]
     },
     "execution_count": 74,
     "metadata": {},
     "output_type": "execute_result"
    },
    {
     "data": {
      "image/png": "[encoded data removed]",
      "text/plain": [
       "<Figure size 864x864 with 1 Axes>"
      ]
     },
     "metadata": {},
     "output_type": "display_data"
    }
   ],
   "source": [
    "lat = dfca4['Latitude']\n",
    "lon = dfca4['Longitude']\n",
    "#plot these bad boys\n",
    "plt.figure(figsize = (12,12))\n",
    "plt.scatter(lon, lat)\n",
    "plt.xlabel('longitude')\n",
    "plt.ylabel('latitude')\n",
    "plt.title('data gathering pts')"
   ]
  },
  {
   "cell_type": "markdown",
   "id": "fa86d7e8",
   "metadata": {},
   "source": [
    "Hey! That's California. It even looks like an elevation map, with measurements largely avoiding mountainous areas."
   ]
  },
  {
   "cell_type": "code",
   "execution_count": 101,
   "id": "405db700",
   "metadata": {},
   "outputs": [
    {
     "ename": "ModuleNotFoundError",
     "evalue": "No module named 'mpl_toolkits.basemap'",
     "output_type": "error",
     "traceback": [
      "\u001b[1;31m---------------------------------------------------------------------------\u001b[0m",
      "\u001b[1;31mModuleNotFoundError\u001b[0m                       Traceback (most recent call last)",
      "\u001b[1;32m~\\AppData\\Local\\Temp/ipykernel_12496/3020482154.py\u001b[0m in \u001b[0;36m<module>\u001b[1;34m\u001b[0m\n\u001b[0;32m      1\u001b[0m \u001b[1;32mimport\u001b[0m \u001b[0mnumpy\u001b[0m \u001b[1;32mas\u001b[0m \u001b[0mnp\u001b[0m\u001b[1;33m\u001b[0m\u001b[1;33m\u001b[0m\u001b[0m\n\u001b[0;32m      2\u001b[0m \u001b[1;32mimport\u001b[0m \u001b[0mmatplotlib\u001b[0m\u001b[1;33m.\u001b[0m\u001b[0mpyplot\u001b[0m \u001b[1;32mas\u001b[0m \u001b[0mplt\u001b[0m\u001b[1;33m\u001b[0m\u001b[1;33m\u001b[0m\u001b[0m\n\u001b[1;32m----> 3\u001b[1;33m \u001b[1;32mfrom\u001b[0m \u001b[0mmpl_toolkits\u001b[0m\u001b[1;33m.\u001b[0m\u001b[0mbasemap\u001b[0m \u001b[1;32mimport\u001b[0m \u001b[0mBasemap\u001b[0m\u001b[1;33m\u001b[0m\u001b[1;33m\u001b[0m\u001b[0m\n\u001b[0m\u001b[0;32m      4\u001b[0m \u001b[1;31m# Lambert Conformal Conic map.\u001b[0m\u001b[1;33m\u001b[0m\u001b[1;33m\u001b[0m\u001b[0m\n\u001b[0;32m      5\u001b[0m m = Basemap(llcrnrlon=-100.,llcrnrlat=0.,urcrnrlon=-20.,urcrnrlat=57.,\n",
      "\u001b[1;31mModuleNotFoundError\u001b[0m: No module named 'mpl_toolkits.basemap'"
     ]
    }
   ],
   "source": [
    "import numpy as np\n",
    "import matplotlib.pyplot as plt\n",
    "from mpl_toolkits.basemap import Basemap\n",
    "# Lambert Conformal Conic map.\n",
    "m = Basemap(llcrnrlon=-100.,llcrnrlat=0.,urcrnrlon=-20.,urcrnrlat=57.,\n",
    "            projection='lcc',lat_1=20.,lat_2=40.,lon_0=-60.,\n",
    "            resolution ='l',area_thresh=1000.)"
   ]
  },
  {
   "cell_type": "markdown",
   "id": "d817bb39",
   "metadata": {},
   "source": [
    "## 7   CES 4.0 Score  "
   ]
  },
  {
   "cell_type": "code",
   "execution_count": 102,
   "id": "da942bc7",
   "metadata": {},
   "outputs": [
    {
     "data": {
      "text/plain": [
       "count    7932.000000\n",
       "mean       28.324179\n",
       "std        16.512069\n",
       "min         1.033954\n",
       "25%        14.786524\n",
       "50%        25.553719\n",
       "75%        40.057396\n",
       "max        93.183570\n",
       "Name: CES 4.0 Score, dtype: float64"
      ]
     },
     "execution_count": 102,
     "metadata": {},
     "output_type": "execute_result"
    }
   ],
   "source": [
    "col = \"CES 4.0 Score\"\n",
    "dfca4[col].describe()"
   ]
  },
  {
   "cell_type": "markdown",
   "id": "de7e28e9",
   "metadata": {},
   "source": [
    "A few NaNs. Find out what this value means."
   ]
  },
  {
   "cell_type": "markdown",
   "id": "df154e90",
   "metadata": {},
   "source": [
    "[Column list](#Column-list)"
   ]
  }
 ],
 "metadata": {
  "kernelspec": {
   "display_name": "Python 3 (ipykernel)",
   "language": "python",
   "name": "python3"
  },
  "language_info": {
   "codemirror_mode": {
    "name": "ipython",
    "version": 3
   },
   "file_extension": ".py",
   "mimetype": "text/x-python",
   "name": "python",
   "nbconvert_exporter": "python",
   "pygments_lexer": "ipython3",
   "version": "3.9.7"
  }
 },
 "nbformat": 4,
 "nbformat_minor": 5
}
