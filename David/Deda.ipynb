{
 "cells": [
  {
   "cell_type": "markdown",
   "id": "cf6c1758",
   "metadata": {},
   "source": [
    "# EDA on CA EnviroScan 4\n",
    "\n",
    "4/8/22\n",
    "\n",
    "David Tersegno\n",
    "\n",
    "---\n",
    "\n",
    "This is a general scan over the data included in the California Office of Environmental Health Hazard Assessment [EnviroScan 4.0 report](https://oehha.ca.gov/calenviroscreen/report/calenviroscreen-40), released in 2021.\n",
    "\n",
    "Giovanna [ ] and Marshall Cyrus are each looking over the CA EnviroScans 2 and 3."
   ]
  },
  {
   "cell_type": "markdown",
   "id": "35fae4ae",
   "metadata": {},
   "source": [
    "# Import libraries"
   ]
  },
  {
   "cell_type": "code",
   "execution_count": 1,
   "id": "f0255a9c",
   "metadata": {},
   "outputs": [],
   "source": [
    "# general\n",
    "import pandas as pd\n",
    "import numpy as np\n",
    "\n",
    "# plotting\n",
    "import matplotlib.pyplot as plt\n",
    "import seaborn as sns\n",
    "plt.style.use('dark_background')\n",
    "\n",
    "# sklearn"
   ]
  },
  {
   "cell_type": "markdown",
   "id": "39d7eee2",
   "metadata": {},
   "source": [
    "# Import data"
   ]
  },
  {
   "cell_type": "code",
   "execution_count": null,
   "id": "4d60d3f2",
   "metadata": {},
   "outputs": [],
   "source": [
    "datapath = './raw_data/'"
   ]
  },
  {
   "cell_type": "code",
   "execution_count": null,
   "id": "7702d86f",
   "metadata": {},
   "outputs": [],
   "source": []
  }
 ],
 "metadata": {
  "kernelspec": {
   "display_name": "Python 3 (ipykernel)",
   "language": "python",
   "name": "python3"
  },
  "language_info": {
   "codemirror_mode": {
    "name": "ipython",
    "version": 3
   },
   "file_extension": ".py",
   "mimetype": "text/x-python",
   "name": "python",
   "nbconvert_exporter": "python",
   "pygments_lexer": "ipython3",
   "version": "3.9.7"
  }
 },
 "nbformat": 4,
 "nbformat_minor": 5
}
