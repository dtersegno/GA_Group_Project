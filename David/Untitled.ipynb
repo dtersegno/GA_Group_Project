{
 "cells": [
  {
   "cell_type": "markdown",
   "id": "a26582a3",
   "metadata": {},
   "source": [
    "# Looking at ZBP and CBP data for Cali\n",
    "\n",
    "David Tersegno\n",
    "\n",
    "4/17\n",
    "\n",
    "---\n",
    "\n",
    "starting with 2019."
   ]
  },
  {
   "cell_type": "code",
   "execution_count": 2,
   "id": "43b175b5",
   "metadata": {},
   "outputs": [],
   "source": [
    "#import librarbies\n",
    "import pandas as pd\n",
    "import numpy as np\n",
    "import os"
   ]
  },
  {
   "cell_type": "code",
   "execution_count": 3,
   "id": "43acc99f",
   "metadata": {},
   "outputs": [
    {
     "data": {
      "text/plain": [
       "['cbp19cd.xlsx',\n",
       " 'cbp19co.zip',\n",
       " 'cbp19csa.zip',\n",
       " 'cbp19msa.zip',\n",
       " 'cbp19pr_ia_co.zip',\n",
       " 'cbp19pr_ia_st.zip',\n",
       " 'cbp19st.zip',\n",
       " 'cbp19us.zip',\n",
       " 'zbp19detail.txt',\n",
       " 'zbp19detail.zip',\n",
       " 'zbp19totals.zip']"
      ]
     },
     "execution_count": 3,
     "metadata": {},
     "output_type": "execute_result"
    }
   ],
   "source": [
    "#import data\n",
    "os.listdir('../raw_data/cbp19/')"
   ]
  },
  {
   "cell_type": "code",
   "execution_count": null,
   "id": "75c856de",
   "metadata": {},
   "outputs": [],
   "source": []
  }
 ],
 "metadata": {
  "kernelspec": {
   "display_name": "Python 3 (ipykernel)",
   "language": "python",
   "name": "python3"
  },
  "language_info": {
   "codemirror_mode": {
    "name": "ipython",
    "version": 3
   },
   "file_extension": ".py",
   "mimetype": "text/x-python",
   "name": "python",
   "nbconvert_exporter": "python",
   "pygments_lexer": "ipython3",
   "version": "3.9.7"
  }
 },
 "nbformat": 4,
 "nbformat_minor": 5
}
