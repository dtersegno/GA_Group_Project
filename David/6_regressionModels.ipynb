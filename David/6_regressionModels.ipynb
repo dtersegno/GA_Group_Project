{
 "cells": [
  {
   "cell_type": "markdown",
   "id": "8399197c",
   "metadata": {},
   "source": [
    "# Regression models\n",
    "\n",
    "dt\n",
    "\n",
    "4/25/22\n",
    "\n",
    "\n",
    "the last notebook, number 5, doesn't have much in it. I was preparing to merge the CAES data with the business counts by zip, but that's already been done! It's in `raw_data/all_merged.csv`\n",
    "\n",
    "- [first regression with selected features.](#first-regression-with-selected-features.)\n",
    "- [time and space](#time-and-space)\n",
    "- [warehouse counts](#warehouse-counts)\n",
    "- [social](#social)\n",
    "- [CAES scores regression](#CAES-scores-regression)\n",
    "- [PCA](#PCA)"
   ]
  },
  {
   "cell_type": "code",
   "execution_count": 202,
   "id": "902e401c",
   "metadata": {},
   "outputs": [],
   "source": [
    "import os\n",
    "import pandas as pd\n",
    "import numpy as np\n",
    "from sklearn.linear_model import LinearRegression\n",
    "from sklearn.model_selection import cross_val_score, GridSearchCV, train_test_split\n",
    "from sklearn.pipeline import Pipeline\n",
    "from sklearn.decomposition import PCA\n",
    "\n",
    "import matplotlib.pyplot as plt\n",
    "import seaborn as sns"
   ]
  },
  {
   "cell_type": "code",
   "execution_count": 136,
   "id": "ef18cf03",
   "metadata": {},
   "outputs": [],
   "source": [
    "all_merged_filepath = '../processed_data/all_merged.csv'"
   ]
  },
  {
   "cell_type": "code",
   "execution_count": 137,
   "id": "cfc3ab2f",
   "metadata": {},
   "outputs": [],
   "source": [
    "#makde the all_merged dataframe.\n",
    "amgd = pd.read_csv(all_merged_filepath)"
   ]
  },
  {
   "cell_type": "code",
   "execution_count": 138,
   "id": "403f7ce8",
   "metadata": {},
   "outputs": [
    {
     "data": {
      "text/html": [
       "<div>\n",
       "<style scoped>\n",
       "    .dataframe tbody tr th:only-of-type {\n",
       "        vertical-align: middle;\n",
       "    }\n",
       "\n",
       "    .dataframe tbody tr th {\n",
       "        vertical-align: top;\n",
       "    }\n",
       "\n",
       "    .dataframe thead th {\n",
       "        text-align: right;\n",
       "    }\n",
       "</style>\n",
       "<table border=\"1\" class=\"dataframe\">\n",
       "  <thead>\n",
       "    <tr style=\"text-align: right;\">\n",
       "      <th></th>\n",
       "      <th>zip</th>\n",
       "      <th>total population</th>\n",
       "      <th>ozone</th>\n",
       "      <th>ozone pctl</th>\n",
       "      <th>pm2.5</th>\n",
       "      <th>pm2.5 pctl</th>\n",
       "      <th>diesel pm</th>\n",
       "      <th>diesel pm pctl</th>\n",
       "      <th>pesticides</th>\n",
       "      <th>pesticides pctl</th>\n",
       "      <th>...</th>\n",
       "      <th>cardiovascular disease</th>\n",
       "      <th>cardiovascular disease pctl</th>\n",
       "      <th>housing burden</th>\n",
       "      <th>housing burden pctl</th>\n",
       "      <th>census_year</th>\n",
       "      <th>est total</th>\n",
       "      <th>est gen</th>\n",
       "      <th>est cold</th>\n",
       "      <th>est farm</th>\n",
       "      <th>est other</th>\n",
       "    </tr>\n",
       "  </thead>\n",
       "  <tbody>\n",
       "    <tr>\n",
       "      <th>0</th>\n",
       "      <td>93706</td>\n",
       "      <td>41087</td>\n",
       "      <td>0.177311</td>\n",
       "      <td>76.550000</td>\n",
       "      <td>15.610000</td>\n",
       "      <td>95.960000</td>\n",
       "      <td>6.140000</td>\n",
       "      <td>56.190000</td>\n",
       "      <td>1120.30</td>\n",
       "      <td>90.59</td>\n",
       "      <td>...</td>\n",
       "      <td>NaN</td>\n",
       "      <td>NaN</td>\n",
       "      <td>NaN</td>\n",
       "      <td>NaN</td>\n",
       "      <td>2012</td>\n",
       "      <td>4</td>\n",
       "      <td>4</td>\n",
       "      <td>0</td>\n",
       "      <td>0</td>\n",
       "      <td>0</td>\n",
       "    </tr>\n",
       "    <tr>\n",
       "      <th>1</th>\n",
       "      <td>93307</td>\n",
       "      <td>82658</td>\n",
       "      <td>0.512336</td>\n",
       "      <td>93.700000</td>\n",
       "      <td>19.400000</td>\n",
       "      <td>99.690000</td>\n",
       "      <td>9.570000</td>\n",
       "      <td>64.730000</td>\n",
       "      <td>7128.70</td>\n",
       "      <td>98.37</td>\n",
       "      <td>...</td>\n",
       "      <td>NaN</td>\n",
       "      <td>NaN</td>\n",
       "      <td>NaN</td>\n",
       "      <td>NaN</td>\n",
       "      <td>2012</td>\n",
       "      <td>1</td>\n",
       "      <td>0</td>\n",
       "      <td>0</td>\n",
       "      <td>1</td>\n",
       "      <td>0</td>\n",
       "    </tr>\n",
       "    <tr>\n",
       "      <th>2</th>\n",
       "      <td>95205</td>\n",
       "      <td>38069</td>\n",
       "      <td>0.022790</td>\n",
       "      <td>38.530000</td>\n",
       "      <td>12.510000</td>\n",
       "      <td>71.650000</td>\n",
       "      <td>18.950000</td>\n",
       "      <td>80.500000</td>\n",
       "      <td>94.20</td>\n",
       "      <td>72.24</td>\n",
       "      <td>...</td>\n",
       "      <td>NaN</td>\n",
       "      <td>NaN</td>\n",
       "      <td>NaN</td>\n",
       "      <td>NaN</td>\n",
       "      <td>2012</td>\n",
       "      <td>1</td>\n",
       "      <td>0</td>\n",
       "      <td>0</td>\n",
       "      <td>0</td>\n",
       "      <td>1</td>\n",
       "    </tr>\n",
       "    <tr>\n",
       "      <th>3</th>\n",
       "      <td>93702</td>\n",
       "      <td>48607</td>\n",
       "      <td>0.317831</td>\n",
       "      <td>86.990000</td>\n",
       "      <td>16.080000</td>\n",
       "      <td>97.060000</td>\n",
       "      <td>36.850000</td>\n",
       "      <td>94.910000</td>\n",
       "      <td>7.92</td>\n",
       "      <td>53.79</td>\n",
       "      <td>...</td>\n",
       "      <td>NaN</td>\n",
       "      <td>NaN</td>\n",
       "      <td>NaN</td>\n",
       "      <td>NaN</td>\n",
       "      <td>2012</td>\n",
       "      <td>0</td>\n",
       "      <td>0</td>\n",
       "      <td>0</td>\n",
       "      <td>0</td>\n",
       "      <td>0</td>\n",
       "    </tr>\n",
       "    <tr>\n",
       "      <th>4</th>\n",
       "      <td>90058</td>\n",
       "      <td>3223</td>\n",
       "      <td>0.015613</td>\n",
       "      <td>31.320000</td>\n",
       "      <td>15.260000</td>\n",
       "      <td>94.980000</td>\n",
       "      <td>56.800000</td>\n",
       "      <td>98.360000</td>\n",
       "      <td>0.00</td>\n",
       "      <td>0.00</td>\n",
       "      <td>...</td>\n",
       "      <td>NaN</td>\n",
       "      <td>NaN</td>\n",
       "      <td>NaN</td>\n",
       "      <td>NaN</td>\n",
       "      <td>2012</td>\n",
       "      <td>35</td>\n",
       "      <td>12</td>\n",
       "      <td>19</td>\n",
       "      <td>0</td>\n",
       "      <td>4</td>\n",
       "    </tr>\n",
       "    <tr>\n",
       "      <th>...</th>\n",
       "      <td>...</td>\n",
       "      <td>...</td>\n",
       "      <td>...</td>\n",
       "      <td>...</td>\n",
       "      <td>...</td>\n",
       "      <td>...</td>\n",
       "      <td>...</td>\n",
       "      <td>...</td>\n",
       "      <td>...</td>\n",
       "      <td>...</td>\n",
       "      <td>...</td>\n",
       "      <td>...</td>\n",
       "      <td>...</td>\n",
       "      <td>...</td>\n",
       "      <td>...</td>\n",
       "      <td>...</td>\n",
       "      <td>...</td>\n",
       "      <td>...</td>\n",
       "      <td>...</td>\n",
       "      <td>...</td>\n",
       "      <td>...</td>\n",
       "    </tr>\n",
       "    <tr>\n",
       "      <th>25439</th>\n",
       "      <td>92140</td>\n",
       "      <td>3760</td>\n",
       "      <td>0.042599</td>\n",
       "      <td>29.894213</td>\n",
       "      <td>10.270812</td>\n",
       "      <td>50.914748</td>\n",
       "      <td>0.000952</td>\n",
       "      <td>80.883634</td>\n",
       "      <td>0.00</td>\n",
       "      <td>0.00</td>\n",
       "      <td>...</td>\n",
       "      <td>7.98</td>\n",
       "      <td>13.659023</td>\n",
       "      <td>NaN</td>\n",
       "      <td>NaN</td>\n",
       "      <td>2014</td>\n",
       "      <td>0</td>\n",
       "      <td>0</td>\n",
       "      <td>0</td>\n",
       "      <td>0</td>\n",
       "      <td>0</td>\n",
       "    </tr>\n",
       "    <tr>\n",
       "      <th>25440</th>\n",
       "      <td>92135</td>\n",
       "      <td>2467</td>\n",
       "      <td>0.042599</td>\n",
       "      <td>29.894213</td>\n",
       "      <td>10.463289</td>\n",
       "      <td>52.283759</td>\n",
       "      <td>0.000576</td>\n",
       "      <td>63.932794</td>\n",
       "      <td>0.00</td>\n",
       "      <td>0.00</td>\n",
       "      <td>...</td>\n",
       "      <td>3.73</td>\n",
       "      <td>0.024925</td>\n",
       "      <td>NaN</td>\n",
       "      <td>NaN</td>\n",
       "      <td>2014</td>\n",
       "      <td>0</td>\n",
       "      <td>0</td>\n",
       "      <td>0</td>\n",
       "      <td>0</td>\n",
       "      <td>0</td>\n",
       "    </tr>\n",
       "    <tr>\n",
       "      <th>25441</th>\n",
       "      <td>94128</td>\n",
       "      <td>0</td>\n",
       "      <td>0.034190</td>\n",
       "      <td>10.566273</td>\n",
       "      <td>8.789373</td>\n",
       "      <td>32.619788</td>\n",
       "      <td>0.002846</td>\n",
       "      <td>98.382078</td>\n",
       "      <td>0.00</td>\n",
       "      <td>0.00</td>\n",
       "      <td>...</td>\n",
       "      <td>NaN</td>\n",
       "      <td>NaN</td>\n",
       "      <td>NaN</td>\n",
       "      <td>NaN</td>\n",
       "      <td>2014</td>\n",
       "      <td>0</td>\n",
       "      <td>0</td>\n",
       "      <td>0</td>\n",
       "      <td>0</td>\n",
       "      <td>0</td>\n",
       "    </tr>\n",
       "    <tr>\n",
       "      <th>25442</th>\n",
       "      <td>57</td>\n",
       "      <td>10</td>\n",
       "      <td>0.039421</td>\n",
       "      <td>17.672682</td>\n",
       "      <td>7.052988</td>\n",
       "      <td>6.994400</td>\n",
       "      <td>0.000007</td>\n",
       "      <td>1.008090</td>\n",
       "      <td>0.00</td>\n",
       "      <td>0.00</td>\n",
       "      <td>...</td>\n",
       "      <td>8.59</td>\n",
       "      <td>17.896311</td>\n",
       "      <td>NaN</td>\n",
       "      <td>NaN</td>\n",
       "      <td>2014</td>\n",
       "      <td>0</td>\n",
       "      <td>0</td>\n",
       "      <td>0</td>\n",
       "      <td>0</td>\n",
       "      <td>0</td>\n",
       "    </tr>\n",
       "    <tr>\n",
       "      <th>25443</th>\n",
       "      <td>61</td>\n",
       "      <td>118</td>\n",
       "      <td>0.042599</td>\n",
       "      <td>29.894213</td>\n",
       "      <td>5.915569</td>\n",
       "      <td>2.874922</td>\n",
       "      <td>0.000009</td>\n",
       "      <td>1.431238</td>\n",
       "      <td>0.00</td>\n",
       "      <td>0.00</td>\n",
       "      <td>...</td>\n",
       "      <td>15.21</td>\n",
       "      <td>67.696909</td>\n",
       "      <td>NaN</td>\n",
       "      <td>NaN</td>\n",
       "      <td>2014</td>\n",
       "      <td>0</td>\n",
       "      <td>0</td>\n",
       "      <td>0</td>\n",
       "      <td>0</td>\n",
       "      <td>0</td>\n",
       "    </tr>\n",
       "  </tbody>\n",
       "</table>\n",
       "<p>25444 rows × 63 columns</p>\n",
       "</div>"
      ],
      "text/plain": [
       "         zip  total population     ozone  ozone pctl      pm2.5  pm2.5 pctl  \\\n",
       "0      93706             41087  0.177311   76.550000  15.610000   95.960000   \n",
       "1      93307             82658  0.512336   93.700000  19.400000   99.690000   \n",
       "2      95205             38069  0.022790   38.530000  12.510000   71.650000   \n",
       "3      93702             48607  0.317831   86.990000  16.080000   97.060000   \n",
       "4      90058              3223  0.015613   31.320000  15.260000   94.980000   \n",
       "...      ...               ...       ...         ...        ...         ...   \n",
       "25439  92140              3760  0.042599   29.894213  10.270812   50.914748   \n",
       "25440  92135              2467  0.042599   29.894213  10.463289   52.283759   \n",
       "25441  94128                 0  0.034190   10.566273   8.789373   32.619788   \n",
       "25442     57                10  0.039421   17.672682   7.052988    6.994400   \n",
       "25443     61               118  0.042599   29.894213   5.915569    2.874922   \n",
       "\n",
       "       diesel pm  diesel pm pctl  pesticides  pesticides pctl  ...  \\\n",
       "0       6.140000       56.190000     1120.30            90.59  ...   \n",
       "1       9.570000       64.730000     7128.70            98.37  ...   \n",
       "2      18.950000       80.500000       94.20            72.24  ...   \n",
       "3      36.850000       94.910000        7.92            53.79  ...   \n",
       "4      56.800000       98.360000        0.00             0.00  ...   \n",
       "...          ...             ...         ...              ...  ...   \n",
       "25439   0.000952       80.883634        0.00             0.00  ...   \n",
       "25440   0.000576       63.932794        0.00             0.00  ...   \n",
       "25441   0.002846       98.382078        0.00             0.00  ...   \n",
       "25442   0.000007        1.008090        0.00             0.00  ...   \n",
       "25443   0.000009        1.431238        0.00             0.00  ...   \n",
       "\n",
       "       cardiovascular disease  cardiovascular disease pctl  housing burden  \\\n",
       "0                         NaN                          NaN             NaN   \n",
       "1                         NaN                          NaN             NaN   \n",
       "2                         NaN                          NaN             NaN   \n",
       "3                         NaN                          NaN             NaN   \n",
       "4                         NaN                          NaN             NaN   \n",
       "...                       ...                          ...             ...   \n",
       "25439                    7.98                    13.659023             NaN   \n",
       "25440                    3.73                     0.024925             NaN   \n",
       "25441                     NaN                          NaN             NaN   \n",
       "25442                    8.59                    17.896311             NaN   \n",
       "25443                   15.21                    67.696909             NaN   \n",
       "\n",
       "       housing burden pctl  census_year  est total  est gen  est cold  \\\n",
       "0                      NaN         2012          4        4         0   \n",
       "1                      NaN         2012          1        0         0   \n",
       "2                      NaN         2012          1        0         0   \n",
       "3                      NaN         2012          0        0         0   \n",
       "4                      NaN         2012         35       12        19   \n",
       "...                    ...          ...        ...      ...       ...   \n",
       "25439                  NaN         2014          0        0         0   \n",
       "25440                  NaN         2014          0        0         0   \n",
       "25441                  NaN         2014          0        0         0   \n",
       "25442                  NaN         2014          0        0         0   \n",
       "25443                  NaN         2014          0        0         0   \n",
       "\n",
       "       est farm  est other  \n",
       "0             0          0  \n",
       "1             1          0  \n",
       "2             0          1  \n",
       "3             0          0  \n",
       "4             0          4  \n",
       "...         ...        ...  \n",
       "25439         0          0  \n",
       "25440         0          0  \n",
       "25441         0          0  \n",
       "25442         0          0  \n",
       "25443         0          0  \n",
       "\n",
       "[25444 rows x 63 columns]"
      ]
     },
     "execution_count": 138,
     "metadata": {},
     "output_type": "execute_result"
    }
   ],
   "source": [
    "amgd"
   ]
  },
  {
   "cell_type": "code",
   "execution_count": 139,
   "id": "158cc5d8",
   "metadata": {},
   "outputs": [],
   "source": [
    "#ah ma gahd!"
   ]
  },
  {
   "cell_type": "code",
   "execution_count": 140,
   "id": "0aa34836",
   "metadata": {},
   "outputs": [
    {
     "data": {
      "text/html": [
       "<div>\n",
       "<style scoped>\n",
       "    .dataframe tbody tr th:only-of-type {\n",
       "        vertical-align: middle;\n",
       "    }\n",
       "\n",
       "    .dataframe tbody tr th {\n",
       "        vertical-align: top;\n",
       "    }\n",
       "\n",
       "    .dataframe thead th {\n",
       "        text-align: right;\n",
       "    }\n",
       "</style>\n",
       "<table border=\"1\" class=\"dataframe\">\n",
       "  <thead>\n",
       "    <tr style=\"text-align: right;\">\n",
       "      <th></th>\n",
       "      <th>zip</th>\n",
       "      <th>total population</th>\n",
       "      <th>ozone</th>\n",
       "      <th>ozone pctl</th>\n",
       "      <th>pm2.5</th>\n",
       "      <th>pm2.5 pctl</th>\n",
       "      <th>diesel pm</th>\n",
       "      <th>diesel pm pctl</th>\n",
       "      <th>pesticides</th>\n",
       "      <th>pesticides pctl</th>\n",
       "      <th>...</th>\n",
       "      <th>cardiovascular disease</th>\n",
       "      <th>cardiovascular disease pctl</th>\n",
       "      <th>housing burden</th>\n",
       "      <th>housing burden pctl</th>\n",
       "      <th>census_year</th>\n",
       "      <th>est total</th>\n",
       "      <th>est gen</th>\n",
       "      <th>est cold</th>\n",
       "      <th>est farm</th>\n",
       "      <th>est other</th>\n",
       "    </tr>\n",
       "  </thead>\n",
       "  <tbody>\n",
       "    <tr>\n",
       "      <th>count</th>\n",
       "      <td>25444.000000</td>\n",
       "      <td>25444.000000</td>\n",
       "      <td>25333.000000</td>\n",
       "      <td>25333.000000</td>\n",
       "      <td>25286.000000</td>\n",
       "      <td>25286.000000</td>\n",
       "      <td>25444.000000</td>\n",
       "      <td>25444.000000</td>\n",
       "      <td>25444.000000</td>\n",
       "      <td>25444.000000</td>\n",
       "      <td>...</td>\n",
       "      <td>16059.000000</td>\n",
       "      <td>16059.000000</td>\n",
       "      <td>15768.000000</td>\n",
       "      <td>15768.000000</td>\n",
       "      <td>25444.000000</td>\n",
       "      <td>25444.000000</td>\n",
       "      <td>25444.000000</td>\n",
       "      <td>25444.000000</td>\n",
       "      <td>25444.000000</td>\n",
       "      <td>25444.000000</td>\n",
       "    </tr>\n",
       "    <tr>\n",
       "      <th>mean</th>\n",
       "      <td>92864.446156</td>\n",
       "      <td>5917.335796</td>\n",
       "      <td>0.068468</td>\n",
       "      <td>47.320326</td>\n",
       "      <td>10.221574</td>\n",
       "      <td>51.367337</td>\n",
       "      <td>12.497526</td>\n",
       "      <td>50.444645</td>\n",
       "      <td>296.028216</td>\n",
       "      <td>18.939449</td>\n",
       "      <td>...</td>\n",
       "      <td>10.837837</td>\n",
       "      <td>50.011075</td>\n",
       "      <td>18.908923</td>\n",
       "      <td>50.184404</td>\n",
       "      <td>2013.578958</td>\n",
       "      <td>1.959047</td>\n",
       "      <td>1.468716</td>\n",
       "      <td>0.181222</td>\n",
       "      <td>0.028730</td>\n",
       "      <td>0.280380</td>\n",
       "    </tr>\n",
       "    <tr>\n",
       "      <th>std</th>\n",
       "      <td>3380.897400</td>\n",
       "      <td>7251.318591</td>\n",
       "      <td>0.112443</td>\n",
       "      <td>30.957227</td>\n",
       "      <td>2.503114</td>\n",
       "      <td>29.032522</td>\n",
       "      <td>16.249286</td>\n",
       "      <td>28.787606</td>\n",
       "      <td>2555.276827</td>\n",
       "      <td>30.078159</td>\n",
       "      <td>...</td>\n",
       "      <td>4.953450</td>\n",
       "      <td>28.891888</td>\n",
       "      <td>8.509076</td>\n",
       "      <td>28.835873</td>\n",
       "      <td>0.590788</td>\n",
       "      <td>5.277823</td>\n",
       "      <td>4.470229</td>\n",
       "      <td>0.757449</td>\n",
       "      <td>0.182993</td>\n",
       "      <td>0.718911</td>\n",
       "    </tr>\n",
       "    <tr>\n",
       "      <th>min</th>\n",
       "      <td>32.000000</td>\n",
       "      <td>0.000000</td>\n",
       "      <td>0.000000</td>\n",
       "      <td>0.000000</td>\n",
       "      <td>1.651081</td>\n",
       "      <td>0.010000</td>\n",
       "      <td>0.000000</td>\n",
       "      <td>0.000000</td>\n",
       "      <td>0.000000</td>\n",
       "      <td>0.000000</td>\n",
       "      <td>...</td>\n",
       "      <td>0.000000</td>\n",
       "      <td>0.000000</td>\n",
       "      <td>0.800000</td>\n",
       "      <td>0.012674</td>\n",
       "      <td>2012.000000</td>\n",
       "      <td>0.000000</td>\n",
       "      <td>0.000000</td>\n",
       "      <td>0.000000</td>\n",
       "      <td>0.000000</td>\n",
       "      <td>0.000000</td>\n",
       "    </tr>\n",
       "    <tr>\n",
       "      <th>25%</th>\n",
       "      <td>91606.000000</td>\n",
       "      <td>3423.750000</td>\n",
       "      <td>0.030640</td>\n",
       "      <td>20.650000</td>\n",
       "      <td>8.559432</td>\n",
       "      <td>27.690338</td>\n",
       "      <td>0.000898</td>\n",
       "      <td>25.672060</td>\n",
       "      <td>0.000000</td>\n",
       "      <td>0.000000</td>\n",
       "      <td>...</td>\n",
       "      <td>7.265000</td>\n",
       "      <td>25.000000</td>\n",
       "      <td>12.600000</td>\n",
       "      <td>25.323194</td>\n",
       "      <td>2013.000000</td>\n",
       "      <td>0.000000</td>\n",
       "      <td>0.000000</td>\n",
       "      <td>0.000000</td>\n",
       "      <td>0.000000</td>\n",
       "      <td>0.000000</td>\n",
       "    </tr>\n",
       "    <tr>\n",
       "      <th>50%</th>\n",
       "      <td>92703.000000</td>\n",
       "      <td>4556.000000</td>\n",
       "      <td>0.045884</td>\n",
       "      <td>48.450529</td>\n",
       "      <td>10.370000</td>\n",
       "      <td>52.610000</td>\n",
       "      <td>7.650000</td>\n",
       "      <td>50.667918</td>\n",
       "      <td>0.000000</td>\n",
       "      <td>0.000000</td>\n",
       "      <td>...</td>\n",
       "      <td>9.760000</td>\n",
       "      <td>50.024925</td>\n",
       "      <td>17.600000</td>\n",
       "      <td>50.266160</td>\n",
       "      <td>2014.000000</td>\n",
       "      <td>0.000000</td>\n",
       "      <td>0.000000</td>\n",
       "      <td>0.000000</td>\n",
       "      <td>0.000000</td>\n",
       "      <td>0.000000</td>\n",
       "    </tr>\n",
       "    <tr>\n",
       "      <th>75%</th>\n",
       "      <td>94564.000000</td>\n",
       "      <td>5946.000000</td>\n",
       "      <td>0.059387</td>\n",
       "      <td>73.930000</td>\n",
       "      <td>12.050000</td>\n",
       "      <td>77.977844</td>\n",
       "      <td>19.760000</td>\n",
       "      <td>75.400000</td>\n",
       "      <td>0.488285</td>\n",
       "      <td>34.110000</td>\n",
       "      <td>...</td>\n",
       "      <td>13.320000</td>\n",
       "      <td>75.070000</td>\n",
       "      <td>23.900000</td>\n",
       "      <td>75.107731</td>\n",
       "      <td>2014.000000</td>\n",
       "      <td>2.000000</td>\n",
       "      <td>1.000000</td>\n",
       "      <td>0.000000</td>\n",
       "      <td>0.000000</td>\n",
       "      <td>0.000000</td>\n",
       "    </tr>\n",
       "    <tr>\n",
       "      <th>max</th>\n",
       "      <td>96161.000000</td>\n",
       "      <td>105549.000000</td>\n",
       "      <td>1.285954</td>\n",
       "      <td>100.000000</td>\n",
       "      <td>21.200000</td>\n",
       "      <td>100.000000</td>\n",
       "      <td>253.731000</td>\n",
       "      <td>100.000000</td>\n",
       "      <td>91316.190000</td>\n",
       "      <td>100.000000</td>\n",
       "      <td>...</td>\n",
       "      <td>40.850000</td>\n",
       "      <td>100.000000</td>\n",
       "      <td>78.200000</td>\n",
       "      <td>100.000000</td>\n",
       "      <td>2014.000000</td>\n",
       "      <td>96.000000</td>\n",
       "      <td>86.000000</td>\n",
       "      <td>19.000000</td>\n",
       "      <td>3.000000</td>\n",
       "      <td>9.000000</td>\n",
       "    </tr>\n",
       "  </tbody>\n",
       "</table>\n",
       "<p>8 rows × 60 columns</p>\n",
       "</div>"
      ],
      "text/plain": [
       "                zip  total population         ozone    ozone pctl  \\\n",
       "count  25444.000000      25444.000000  25333.000000  25333.000000   \n",
       "mean   92864.446156       5917.335796      0.068468     47.320326   \n",
       "std     3380.897400       7251.318591      0.112443     30.957227   \n",
       "min       32.000000          0.000000      0.000000      0.000000   \n",
       "25%    91606.000000       3423.750000      0.030640     20.650000   \n",
       "50%    92703.000000       4556.000000      0.045884     48.450529   \n",
       "75%    94564.000000       5946.000000      0.059387     73.930000   \n",
       "max    96161.000000     105549.000000      1.285954    100.000000   \n",
       "\n",
       "              pm2.5    pm2.5 pctl     diesel pm  diesel pm pctl    pesticides  \\\n",
       "count  25286.000000  25286.000000  25444.000000    25444.000000  25444.000000   \n",
       "mean      10.221574     51.367337     12.497526       50.444645    296.028216   \n",
       "std        2.503114     29.032522     16.249286       28.787606   2555.276827   \n",
       "min        1.651081      0.010000      0.000000        0.000000      0.000000   \n",
       "25%        8.559432     27.690338      0.000898       25.672060      0.000000   \n",
       "50%       10.370000     52.610000      7.650000       50.667918      0.000000   \n",
       "75%       12.050000     77.977844     19.760000       75.400000      0.488285   \n",
       "max       21.200000    100.000000    253.731000      100.000000  91316.190000   \n",
       "\n",
       "       pesticides pctl  ...  cardiovascular disease  \\\n",
       "count     25444.000000  ...            16059.000000   \n",
       "mean         18.939449  ...               10.837837   \n",
       "std          30.078159  ...                4.953450   \n",
       "min           0.000000  ...                0.000000   \n",
       "25%           0.000000  ...                7.265000   \n",
       "50%           0.000000  ...                9.760000   \n",
       "75%          34.110000  ...               13.320000   \n",
       "max         100.000000  ...               40.850000   \n",
       "\n",
       "       cardiovascular disease pctl  housing burden  housing burden pctl  \\\n",
       "count                 16059.000000    15768.000000         15768.000000   \n",
       "mean                     50.011075       18.908923            50.184404   \n",
       "std                      28.891888        8.509076            28.835873   \n",
       "min                       0.000000        0.800000             0.012674   \n",
       "25%                      25.000000       12.600000            25.323194   \n",
       "50%                      50.024925       17.600000            50.266160   \n",
       "75%                      75.070000       23.900000            75.107731   \n",
       "max                     100.000000       78.200000           100.000000   \n",
       "\n",
       "        census_year     est total       est gen      est cold      est farm  \\\n",
       "count  25444.000000  25444.000000  25444.000000  25444.000000  25444.000000   \n",
       "mean    2013.578958      1.959047      1.468716      0.181222      0.028730   \n",
       "std        0.590788      5.277823      4.470229      0.757449      0.182993   \n",
       "min     2012.000000      0.000000      0.000000      0.000000      0.000000   \n",
       "25%     2013.000000      0.000000      0.000000      0.000000      0.000000   \n",
       "50%     2014.000000      0.000000      0.000000      0.000000      0.000000   \n",
       "75%     2014.000000      2.000000      1.000000      0.000000      0.000000   \n",
       "max     2014.000000     96.000000     86.000000     19.000000      3.000000   \n",
       "\n",
       "          est other  \n",
       "count  25444.000000  \n",
       "mean       0.280380  \n",
       "std        0.718911  \n",
       "min        0.000000  \n",
       "25%        0.000000  \n",
       "50%        0.000000  \n",
       "75%        0.000000  \n",
       "max        9.000000  \n",
       "\n",
       "[8 rows x 60 columns]"
      ]
     },
     "execution_count": 140,
     "metadata": {},
     "output_type": "execute_result"
    }
   ],
   "source": [
    "amgd.describe()"
   ]
  },
  {
   "cell_type": "code",
   "execution_count": 141,
   "id": "382e471f",
   "metadata": {},
   "outputs": [
    {
     "data": {
      "text/plain": [
       "['zip',\n",
       " 'total population',\n",
       " 'ozone',\n",
       " 'ozone pctl',\n",
       " 'pm2.5',\n",
       " 'pm2.5 pctl',\n",
       " 'diesel pm',\n",
       " 'diesel pm pctl',\n",
       " 'pesticides',\n",
       " 'pesticides pctl',\n",
       " 'traffic',\n",
       " 'traffic pctl',\n",
       " 'cleanup sites',\n",
       " 'cleanup sites pctl',\n",
       " 'groundwater threats',\n",
       " 'groundwater threats pctl',\n",
       " 'haz. waste',\n",
       " 'haz. waste pctl',\n",
       " 'imp. water bodies',\n",
       " 'imp. water bodies pctl',\n",
       " 'solid waste',\n",
       " 'solid waste pctl',\n",
       " 'pollution burden',\n",
       " 'pollution burden score',\n",
       " 'asthma',\n",
       " 'asthma pctl',\n",
       " 'low birth weight',\n",
       " 'low birth weight pctl',\n",
       " 'education',\n",
       " 'education pctl',\n",
       " 'linguistic isolation',\n",
       " 'linguistic isolation pctl',\n",
       " 'poverty',\n",
       " 'poverty pctl',\n",
       " 'pop. char. ',\n",
       " 'pop. char. score',\n",
       " 'ces_score',\n",
       " 'ces_per_range',\n",
       " 'year',\n",
       " 'census tract',\n",
       " 'county',\n",
       " 'drinking water',\n",
       " 'drinking water pctl',\n",
       " 'tox. release',\n",
       " 'tox. release pctl',\n",
       " 'pollution burden pctl',\n",
       " 'unemployment',\n",
       " 'unemployment pctl',\n",
       " 'pop. char. pctl',\n",
       " 'city',\n",
       " 'latitude',\n",
       " 'longitude',\n",
       " 'ces_per',\n",
       " 'cardiovascular disease',\n",
       " 'cardiovascular disease pctl',\n",
       " 'housing burden',\n",
       " 'housing burden pctl',\n",
       " 'census_year',\n",
       " 'est total',\n",
       " 'est gen',\n",
       " 'est cold',\n",
       " 'est farm',\n",
       " 'est other']"
      ]
     },
     "execution_count": 141,
     "metadata": {},
     "output_type": "execute_result"
    }
   ],
   "source": [
    "list(amgd.columns)"
   ]
  },
  {
   "cell_type": "code",
   "execution_count": 142,
   "id": "3dab8307",
   "metadata": {},
   "outputs": [],
   "source": [
    "#cutting out percentiles , lat/lon, zip, census tract, \"scores\"\n",
    "initial_columns_to_fit =[\n",
    " 'total population',\n",
    " 'ozone',\n",
    " 'pm2.5',\n",
    " 'diesel pm',\n",
    " 'pesticides',\n",
    " 'traffic',\n",
    " 'cleanup sites',\n",
    " 'groundwater threats',\n",
    " 'haz. waste',\n",
    " 'imp. water bodies',\n",
    " 'solid waste',\n",
    " 'pollution burden',\n",
    " 'asthma',\n",
    " 'low birth weight',\n",
    " 'education',\n",
    " 'linguistic isolation',\n",
    " 'poverty',\n",
    " 'pop. char. ',\n",
    " 'drinking water',\n",
    " 'tox. release',\n",
    " 'unemployment',\n",
    " 'ces_per',\n",
    " 'cardiovascular disease',\n",
    " 'housing burden',\n",
    " 'est total',\n",
    " 'est gen',\n",
    " 'est cold',\n",
    " 'est farm',\n",
    " 'est other']"
   ]
  },
  {
   "cell_type": "code",
   "execution_count": 143,
   "id": "61d45d9b",
   "metadata": {
    "scrolled": true
   },
   "outputs": [
    {
     "data": {
      "text/plain": [
       "total population            int64\n",
       "ozone                     float64\n",
       "pm2.5                     float64\n",
       "diesel pm                 float64\n",
       "pesticides                float64\n",
       "traffic                   float64\n",
       "cleanup sites             float64\n",
       "groundwater threats       float64\n",
       "haz. waste                float64\n",
       "imp. water bodies           int64\n",
       "solid waste               float64\n",
       "pollution burden          float64\n",
       "asthma                    float64\n",
       "low birth weight          float64\n",
       "education                 float64\n",
       "linguistic isolation      float64\n",
       "poverty                   float64\n",
       "pop. char.                float64\n",
       "drinking water            float64\n",
       "tox. release              float64\n",
       "unemployment              float64\n",
       "ces_per                   float64\n",
       "cardiovascular disease    float64\n",
       "housing burden            float64\n",
       "est total                   int64\n",
       "est gen                     int64\n",
       "est cold                    int64\n",
       "est farm                    int64\n",
       "est other                   int64\n",
       "dtype: object"
      ]
     },
     "execution_count": 143,
     "metadata": {},
     "output_type": "execute_result"
    }
   ],
   "source": [
    "amgd[initial_columns_to_fit].dtypes"
   ]
  },
  {
   "cell_type": "code",
   "execution_count": 144,
   "id": "943d5516",
   "metadata": {
    "scrolled": true
   },
   "outputs": [
    {
     "data": {
      "text/plain": [
       "total population             0\n",
       "ozone                      111\n",
       "pm2.5                      158\n",
       "diesel pm                    0\n",
       "pesticides                   0\n",
       "traffic                     91\n",
       "cleanup sites                0\n",
       "groundwater threats          0\n",
       "haz. waste                   0\n",
       "imp. water bodies            0\n",
       "solid waste                  0\n",
       "pollution burden             0\n",
       "asthma                      21\n",
       "low birth weight           626\n",
       "education                  325\n",
       "linguistic isolation      1043\n",
       "poverty                    285\n",
       "pop. char.                 274\n",
       "drinking water            1420\n",
       "tox. release              1351\n",
       "unemployment              2010\n",
       "ces_per                   9583\n",
       "cardiovascular disease    9385\n",
       "housing burden            9676\n",
       "est total                    0\n",
       "est gen                      0\n",
       "est cold                     0\n",
       "est farm                     0\n",
       "est other                    0\n",
       "dtype: int64"
      ]
     },
     "execution_count": 144,
     "metadata": {},
     "output_type": "execute_result"
    }
   ],
   "source": [
    "amgd[initial_columns_to_fit].isna().sum()"
   ]
  },
  {
   "cell_type": "code",
   "execution_count": 145,
   "id": "5736e29b",
   "metadata": {},
   "outputs": [],
   "source": [
    "# make a dataframe with just the initial_columns_to_fit, and all NaNs filled with median.\n",
    "amgd_cut = amgd[initial_columns_to_fit].fillna(amgd[initial_columns_to_fit].median())"
   ]
  },
  {
   "cell_type": "code",
   "execution_count": 146,
   "id": "6ef17c4c",
   "metadata": {},
   "outputs": [
    {
     "data": {
      "text/plain": [
       "total population          4556.000000\n",
       "ozone                        0.045884\n",
       "pm2.5                       10.370000\n",
       "diesel pm                    7.650000\n",
       "pesticides                   0.000000\n",
       "traffic                    814.370656\n",
       "cleanup sites                2.250000\n",
       "groundwater threats          7.600000\n",
       "haz. waste                   0.130000\n",
       "imp. water bodies            1.000000\n",
       "solid waste                  0.200000\n",
       "pollution burden            41.813213\n",
       "asthma                      42.680000\n",
       "low birth weight             5.067230\n",
       "education                   13.900000\n",
       "linguistic isolation         7.300000\n",
       "poverty                     30.922021\n",
       "pop. char.                  49.622609\n",
       "drinking water             411.376372\n",
       "tox. release               417.521667\n",
       "unemployment                 8.310000\n",
       "ces_per                     50.010000\n",
       "cardiovascular disease       9.760000\n",
       "housing burden              17.600000\n",
       "est total                    0.000000\n",
       "est gen                      0.000000\n",
       "est cold                     0.000000\n",
       "est farm                     0.000000\n",
       "est other                    0.000000\n",
       "dtype: float64"
      ]
     },
     "execution_count": 146,
     "metadata": {},
     "output_type": "execute_result"
    }
   ],
   "source": [
    "amgd[initial_columns_to_fit].median()"
   ]
  },
  {
   "cell_type": "code",
   "execution_count": 147,
   "id": "25e4149c",
   "metadata": {},
   "outputs": [
    {
     "data": {
      "text/plain": [
       "total population          0\n",
       "ozone                     0\n",
       "pm2.5                     0\n",
       "diesel pm                 0\n",
       "pesticides                0\n",
       "traffic                   0\n",
       "cleanup sites             0\n",
       "groundwater threats       0\n",
       "haz. waste                0\n",
       "imp. water bodies         0\n",
       "solid waste               0\n",
       "pollution burden          0\n",
       "asthma                    0\n",
       "low birth weight          0\n",
       "education                 0\n",
       "linguistic isolation      0\n",
       "poverty                   0\n",
       "pop. char.                0\n",
       "drinking water            0\n",
       "tox. release              0\n",
       "unemployment              0\n",
       "ces_per                   0\n",
       "cardiovascular disease    0\n",
       "housing burden            0\n",
       "est total                 0\n",
       "est gen                   0\n",
       "est cold                  0\n",
       "est farm                  0\n",
       "est other                 0\n",
       "dtype: int64"
      ]
     },
     "execution_count": 147,
     "metadata": {},
     "output_type": "execute_result"
    }
   ],
   "source": [
    "amgd_cut.isna().sum()"
   ]
  },
  {
   "cell_type": "code",
   "execution_count": 148,
   "id": "eee05592",
   "metadata": {
    "scrolled": false
   },
   "outputs": [
    {
     "data": {
      "text/plain": [
       "<AxesSubplot:>"
      ]
     },
     "execution_count": 148,
     "metadata": {},
     "output_type": "execute_result"
    },
    {
     "data": {
      "image/png": "[encoded data removed]",
      "text/plain": [
       "<Figure size 864x864 with 2 Axes>"
      ]
     },
     "metadata": {
      "needs_background": "light"
     },
     "output_type": "display_data"
    }
   ],
   "source": [
    "correlations = amgd_cut.corr()\n",
    "plt.figure(figsize = (12,12))\n",
    "sns.heatmap(correlations)"
   ]
  },
  {
   "cell_type": "markdown",
   "id": "cc07e1a2",
   "metadata": {},
   "source": [
    "Wow. Why is diesel pm INVERSELY related to cardiovascular disease? Maybe because diesel drops with time, and or cardiovascular disease rises.\n",
    "\n",
    "remember: correlations here are kind of like 1-D linear regressions. The correlation from a single feature does not remove the influence of other features."
   ]
  },
  {
   "cell_type": "markdown",
   "id": "b4c53820",
   "metadata": {},
   "source": [
    "# first regression with selected features.\n",
    "## simple linear regressions with these and health."
   ]
  },
  {
   "cell_type": "code",
   "execution_count": 149,
   "id": "a6d7f8af",
   "metadata": {},
   "outputs": [],
   "source": [
    "health_cols = ['asthma', 'low birth weight', 'cardiovascular disease']"
   ]
  },
  {
   "cell_type": "code",
   "execution_count": 150,
   "id": "4e0e2bd4",
   "metadata": {},
   "outputs": [],
   "source": [
    "\n",
    "X = amgd_cut.drop(columns = health_cols)\n",
    "y = amgd_cut[health_cols]\n",
    "\n",
    "X_train, X_test, y_train, y_test = train_test_split(X, y, test_size=0.1, random_state = 1)\n"
   ]
  },
  {
   "cell_type": "code",
   "execution_count": 151,
   "id": "535b4ed7",
   "metadata": {
    "scrolled": true
   },
   "outputs": [
    {
     "name": "stdout",
     "output_type": "stream",
     "text": [
      "Wall time: 76.8 ms\n"
     ]
    },
    {
     "data": {
      "text/plain": [
       "LinearRegression()"
      ]
     },
     "execution_count": 151,
     "metadata": {},
     "output_type": "execute_result"
    }
   ],
   "source": [
    "%%time\n",
    "#fit to each.\n",
    "lr_asthma = LinearRegression()\n",
    "lr_asthma.fit(X_train, y_train['asthma'])\n",
    "\n",
    "lr_lbw = LinearRegression()\n",
    "lr_lbw.fit(X_train, y_train['low birth weight'])\n",
    "\n",
    "lr_cvd = LinearRegression()\n",
    "lr_cvd.fit(X_train, y_train['cardiovascular disease']);"
   ]
  },
  {
   "cell_type": "code",
   "execution_count": 152,
   "id": "701c8c9a",
   "metadata": {},
   "outputs": [
    {
     "data": {
      "text/plain": [
       "0.5929298481514989"
      ]
     },
     "execution_count": 152,
     "metadata": {},
     "output_type": "execute_result"
    }
   ],
   "source": [
    "lr_asthma.score(X_train, y_train['asthma'])"
   ]
  },
  {
   "cell_type": "code",
   "execution_count": 153,
   "id": "b45a4378",
   "metadata": {},
   "outputs": [
    {
     "data": {
      "text/plain": [
       "0.38478191660361283"
      ]
     },
     "execution_count": 153,
     "metadata": {},
     "output_type": "execute_result"
    }
   ],
   "source": [
    "lr_lbw.score(X_train, y_train['low birth weight'])"
   ]
  },
  {
   "cell_type": "code",
   "execution_count": 154,
   "id": "9190d470",
   "metadata": {},
   "outputs": [
    {
     "data": {
      "text/plain": [
       "0.4965985829427164"
      ]
     },
     "execution_count": 154,
     "metadata": {},
     "output_type": "execute_result"
    }
   ],
   "source": [
    "lr_cvd.score(X_train, y_train['cardiovascular disease'])"
   ]
  },
  {
   "cell_type": "code",
   "execution_count": 155,
   "id": "d955be35",
   "metadata": {},
   "outputs": [
    {
     "data": {
      "text/plain": [
       "0.59249008004936"
      ]
     },
     "execution_count": 155,
     "metadata": {},
     "output_type": "execute_result"
    }
   ],
   "source": [
    "lr_asthma.score(X_test, y_test['asthma'])"
   ]
  },
  {
   "cell_type": "code",
   "execution_count": 156,
   "id": "1017b708",
   "metadata": {},
   "outputs": [
    {
     "data": {
      "text/plain": [
       "0.4050070293729887"
      ]
     },
     "execution_count": 156,
     "metadata": {},
     "output_type": "execute_result"
    }
   ],
   "source": [
    "lr_lbw.score(X_test, y_test['low birth weight'])"
   ]
  },
  {
   "cell_type": "code",
   "execution_count": 157,
   "id": "57edf55d",
   "metadata": {},
   "outputs": [
    {
     "data": {
      "text/plain": [
       "0.5063605498988087"
      ]
     },
     "execution_count": 157,
     "metadata": {},
     "output_type": "execute_result"
    }
   ],
   "source": [
    "lr_cvd.score(X_test, y_test['cardiovascular disease'])"
   ]
  },
  {
   "cell_type": "markdown",
   "id": "23a3de91",
   "metadata": {},
   "source": [
    "The last few coefficients show the change with numbers of warehouse businesses."
   ]
  },
  {
   "cell_type": "code",
   "execution_count": 158,
   "id": "7a8849f5",
   "metadata": {},
   "outputs": [
    {
     "data": {
      "text/plain": [
       "Index(['est total', 'est gen', 'est cold', 'est farm', 'est other'], dtype='object')"
      ]
     },
     "execution_count": 158,
     "metadata": {},
     "output_type": "execute_result"
    }
   ],
   "source": [
    "# list columns to check against coefficients.\n",
    "amgd.columns[-5:]"
   ]
  },
  {
   "cell_type": "code",
   "execution_count": 159,
   "id": "b11dfbfa",
   "metadata": {
    "scrolled": true
   },
   "outputs": [
    {
     "data": {
      "text/plain": [
       "array([ 0.84450458, -0.90529518, -0.70546959,  3.7159282 , -1.26065885])"
      ]
     },
     "execution_count": 159,
     "metadata": {},
     "output_type": "execute_result"
    }
   ],
   "source": [
    "#asthma incidence rate, cases/ 10k population\n",
    "lr_asthma.coef_[-5:]"
   ]
  },
  {
   "cell_type": "code",
   "execution_count": 160,
   "id": "ecb34d92",
   "metadata": {},
   "outputs": [
    {
     "data": {
      "text/plain": [
       "array([-0.04293162,  0.03693004,  0.00450155, -0.09182991,  0.0074667 ])"
      ]
     },
     "execution_count": 160,
     "metadata": {},
     "output_type": "execute_result"
    }
   ],
   "source": [
    "#low birth weight, %age\n",
    "lr_lbw.coef_[-5:]"
   ]
  },
  {
   "cell_type": "code",
   "execution_count": 161,
   "id": "c8d6009a",
   "metadata": {},
   "outputs": [
    {
     "data": {
      "text/plain": [
       "array([-0.02720375,  0.04240864,  0.10847614, -0.21246871,  0.03438017])"
      ]
     },
     "execution_count": 161,
     "metadata": {},
     "output_type": "execute_result"
    }
   ],
   "source": [
    "#cardiovascular disease, incidence rate, cases/ 100 population\n",
    "lr_cvd.coef_[-5:]"
   ]
  },
  {
   "cell_type": "markdown",
   "id": "e7ad13a8",
   "metadata": {},
   "source": [
    "# time and space\n",
    "## simple linreg with just time and space\n",
    "\n",
    "Because latitude and longitude are negatively correlated ( \\ shape of california), lat/lon are not independent. the coefficients may not be clear. There is mixing of S/E and N/W.\n"
   ]
  },
  {
   "cell_type": "code",
   "execution_count": 162,
   "id": "dcb27c65",
   "metadata": {},
   "outputs": [],
   "source": [
    "amgd_ts_cut = amgd.dropna()[timespace_cols + health_cols]"
   ]
  },
  {
   "cell_type": "code",
   "execution_count": 163,
   "id": "4aa9eec7",
   "metadata": {},
   "outputs": [],
   "source": [
    "timespace_cols = ['year', 'latitude', 'longitude']\n",
    "X = amgd_ts_cut[timespace_cols]\n",
    "y = amgd_ts_cut[health_cols]\n",
    "\n",
    "X_train, X_test, y_train, y_test = train_test_split(X, y, test_size=0.1, random_state=1)"
   ]
  },
  {
   "cell_type": "code",
   "execution_count": 164,
   "id": "bd7dc0d8",
   "metadata": {},
   "outputs": [],
   "source": [
    "#asthma\n",
    "lrts_a = LinearRegression()\n",
    "lrts_a.fit(X_train, y_train['asthma'])\n",
    "\n",
    "#low birth weight\n",
    "lrts_b = LinearRegression()\n",
    "lrts_b.fit(X_train, y_train['low birth weight'])\n",
    "\n",
    "#cardiovascular disease\n",
    "lrts_c = LinearRegression()\n",
    "lrts_c.fit(X_train, y_train['cardiovascular disease']);"
   ]
  },
  {
   "cell_type": "code",
   "execution_count": 165,
   "id": "53447cf8",
   "metadata": {},
   "outputs": [
    {
     "data": {
      "text/plain": [
       "(0.041981820590096475, 0.06041174892784107)"
      ]
     },
     "execution_count": 165,
     "metadata": {},
     "output_type": "execute_result"
    }
   ],
   "source": [
    "# score asthma fits with space and time\n",
    "# lousy scores.\n",
    "lrts_a.score(X_train, y_train['asthma']), lrts_a.score(X_test, y_test['asthma'])"
   ]
  },
  {
   "cell_type": "code",
   "execution_count": 166,
   "id": "26076aca",
   "metadata": {},
   "outputs": [
    {
     "data": {
      "text/plain": [
       "array([-0.04077386,  7.47974512,  5.81483506])"
      ]
     },
     "execution_count": 166,
     "metadata": {},
     "output_type": "execute_result"
    }
   ],
   "source": [
    "# asthma decreases with time, increases with latitude (north), increases with longitude (east)\n",
    "lrts_a.coef_"
   ]
  },
  {
   "cell_type": "code",
   "execution_count": 167,
   "id": "e072503b",
   "metadata": {
    "scrolled": true
   },
   "outputs": [
    {
     "data": {
      "text/plain": [
       "(0.006677862215139441, 0.00977908084432988)"
      ]
     },
     "execution_count": 167,
     "metadata": {},
     "output_type": "execute_result"
    }
   ],
   "source": [
    "# score low birth weight fits with space and time\n",
    "#terrible fits. As good as random. extremely uncorrelated with space and time\n",
    "lrts_b.score(X_train, y_train['low birth weight']), lrts_b.score(X_test, y_test['low birth weight'])"
   ]
  },
  {
   "cell_type": "code",
   "execution_count": 168,
   "id": "51093cd7",
   "metadata": {},
   "outputs": [
    {
     "data": {
      "text/plain": [
       "array([0.00864075, 0.02722813, 0.09034145])"
      ]
     },
     "execution_count": 168,
     "metadata": {},
     "output_type": "execute_result"
    }
   ],
   "source": [
    "# low birth weight coefs\n",
    "lrts_b.coef_"
   ]
  },
  {
   "cell_type": "code",
   "execution_count": 169,
   "id": "17757ced",
   "metadata": {},
   "outputs": [
    {
     "data": {
      "text/plain": [
       "(0.382536439907755, 0.3765247295343904)"
      ]
     },
     "execution_count": 169,
     "metadata": {},
     "output_type": "execute_result"
    }
   ],
   "source": [
    "#score cardiovascular fits with space and time\n",
    "# not great but better than nothing\n",
    "lrts_c.score(X_train, y_train['cardiovascular disease']), lrts_c.score(X_test, y_test['cardiovascular disease'])"
   ]
  },
  {
   "cell_type": "code",
   "execution_count": 170,
   "id": "ec0b9cfc",
   "metadata": {
    "scrolled": true
   },
   "outputs": [
    {
     "data": {
      "text/plain": [
       "array([1.71997246, 2.06474579, 2.28605004])"
      ]
     },
     "execution_count": 170,
     "metadata": {},
     "output_type": "execute_result"
    }
   ],
   "source": [
    "# cvd increase with time, increases as you go north, and increases as you go east\n",
    "lrts_c.coef_"
   ]
  },
  {
   "cell_type": "markdown",
   "id": "b482c3f7",
   "metadata": {},
   "source": [
    "# warehouse counts\n",
    "## simple linreg with just warehouse counts"
   ]
  },
  {
   "cell_type": "code",
   "execution_count": 171,
   "id": "190c0f8f",
   "metadata": {},
   "outputs": [
    {
     "data": {
      "text/plain": [
       "['est gen', 'est cold', 'est farm', 'est other']"
      ]
     },
     "execution_count": 171,
     "metadata": {},
     "output_type": "execute_result"
    }
   ],
   "source": [
    "#excluding total. It is not independent of the others for sure!\n",
    "warehouse_cols =list(amgd.columns[-4:])\n",
    "warehouse_cols"
   ]
  },
  {
   "cell_type": "code",
   "execution_count": 172,
   "id": "75947cdc",
   "metadata": {},
   "outputs": [],
   "source": [
    "amgd_wh_cut = amgd.dropna()[warehouse_cols + health_cols]"
   ]
  },
  {
   "cell_type": "code",
   "execution_count": 173,
   "id": "e219a049",
   "metadata": {},
   "outputs": [],
   "source": [
    "X = amgd_wh_cut[warehouse_cols]\n",
    "y = amgd_wh_cut[health_cols]\n",
    "\n",
    "X_train, X_test, y_train, y_test = train_test_split(X, y, test_size=0.1, random_state=1)"
   ]
  },
  {
   "cell_type": "code",
   "execution_count": 174,
   "id": "30aaf2b2",
   "metadata": {},
   "outputs": [],
   "source": [
    "#asthma\n",
    "lrwh_a = LinearRegression()\n",
    "lrwh_a.fit(X_train, y_train['asthma'])\n",
    "\n",
    "#low birth weight\n",
    "lrwh_b = LinearRegression()\n",
    "lrwh_b.fit(X_train, y_train['low birth weight'])\n",
    "\n",
    "#cardiovascular disease\n",
    "lrwh_c = LinearRegression()\n",
    "lrwh_c.fit(X_train, y_train['cardiovascular disease']);"
   ]
  },
  {
   "cell_type": "code",
   "execution_count": 175,
   "id": "b50cd0e8",
   "metadata": {},
   "outputs": [
    {
     "data": {
      "text/plain": [
       "(0.02162017696184837, 0.021397245331703174)"
      ]
     },
     "execution_count": 175,
     "metadata": {},
     "output_type": "execute_result"
    }
   ],
   "source": [
    "#score asthma fits with warehouse counts\n",
    "#bad\n",
    "lrwh_a.score(X_train, y_train['asthma']), lrwh_a.score(X_test, y_test['asthma'])"
   ]
  },
  {
   "cell_type": "code",
   "execution_count": 176,
   "id": "cb6e99b9",
   "metadata": {},
   "outputs": [
    {
     "data": {
      "text/plain": [
       "(0.004197637879798988, 0.004047635760388579)"
      ]
     },
     "execution_count": 176,
     "metadata": {},
     "output_type": "execute_result"
    }
   ],
   "source": [
    "#score low birth weight fits with warehouse counts\n",
    "#bad\n",
    "lrwh_b.score(X_train, y_train['low birth weight']), lrwh_b.score(X_test, y_test['low birth weight'])"
   ]
  },
  {
   "cell_type": "code",
   "execution_count": 177,
   "id": "2b8ee885",
   "metadata": {},
   "outputs": [
    {
     "data": {
      "text/plain": [
       "(0.021670901574785795, 0.02177387807216047)"
      ]
     },
     "execution_count": 177,
     "metadata": {},
     "output_type": "execute_result"
    }
   ],
   "source": [
    "#score cvd fits with warehouse counts\n",
    "#bad\n",
    "lrwh_c.score(X_train, y_train['cardiovascular disease']), lrwh_c.score(X_test, y_test['cardiovascular disease'])"
   ]
  },
  {
   "cell_type": "markdown",
   "id": "6e4c89cb",
   "metadata": {},
   "source": [
    "# social\n",
    "# fits with only \"social\" features"
   ]
  },
  {
   "cell_type": "code",
   "execution_count": 178,
   "id": "d0445bc3",
   "metadata": {
    "scrolled": true
   },
   "outputs": [
    {
     "data": {
      "text/plain": [
       "['zip',\n",
       " 'total population',\n",
       " 'ozone',\n",
       " 'ozone pctl',\n",
       " 'pm2.5',\n",
       " 'pm2.5 pctl',\n",
       " 'diesel pm',\n",
       " 'diesel pm pctl',\n",
       " 'pesticides',\n",
       " 'pesticides pctl',\n",
       " 'traffic',\n",
       " 'traffic pctl',\n",
       " 'cleanup sites',\n",
       " 'cleanup sites pctl',\n",
       " 'groundwater threats',\n",
       " 'groundwater threats pctl',\n",
       " 'haz. waste',\n",
       " 'haz. waste pctl',\n",
       " 'imp. water bodies',\n",
       " 'imp. water bodies pctl',\n",
       " 'solid waste',\n",
       " 'solid waste pctl',\n",
       " 'pollution burden',\n",
       " 'pollution burden score',\n",
       " 'asthma',\n",
       " 'asthma pctl',\n",
       " 'low birth weight',\n",
       " 'low birth weight pctl',\n",
       " 'education',\n",
       " 'education pctl',\n",
       " 'linguistic isolation',\n",
       " 'linguistic isolation pctl',\n",
       " 'poverty',\n",
       " 'poverty pctl',\n",
       " 'pop. char. ',\n",
       " 'pop. char. score',\n",
       " 'ces_score',\n",
       " 'ces_per_range',\n",
       " 'year',\n",
       " 'census tract',\n",
       " 'county',\n",
       " 'drinking water',\n",
       " 'drinking water pctl',\n",
       " 'tox. release',\n",
       " 'tox. release pctl',\n",
       " 'pollution burden pctl',\n",
       " 'unemployment',\n",
       " 'unemployment pctl',\n",
       " 'pop. char. pctl',\n",
       " 'city',\n",
       " 'latitude',\n",
       " 'longitude',\n",
       " 'ces_per',\n",
       " 'cardiovascular disease',\n",
       " 'cardiovascular disease pctl',\n",
       " 'housing burden',\n",
       " 'housing burden pctl',\n",
       " 'census_year',\n",
       " 'est total',\n",
       " 'est gen',\n",
       " 'est cold',\n",
       " 'est farm',\n",
       " 'est other']"
      ]
     },
     "execution_count": 178,
     "metadata": {},
     "output_type": "execute_result"
    }
   ],
   "source": [
    "amgd.columns.to_list()"
   ]
  },
  {
   "cell_type": "code",
   "execution_count": 107,
   "id": "67dd0424",
   "metadata": {},
   "outputs": [],
   "source": [
    "social_cols = [\n",
    "    'total population',\n",
    "    'traffic',\n",
    "    'education',\n",
    "    'linguistic isolation',\n",
    "    'poverty',\n",
    "    'unemployment',\n",
    "    'housing burden'\n",
    "]"
   ]
  },
  {
   "cell_type": "code",
   "execution_count": 108,
   "id": "2c54f1b8",
   "metadata": {},
   "outputs": [
    {
     "data": {
      "text/plain": [
       "<AxesSubplot:>"
      ]
     },
     "execution_count": 108,
     "metadata": {},
     "output_type": "execute_result"
    },
    {
     "data": {
      "image/png": "[encoded data removed]",
      "text/plain": [
       "<Figure size 432x288 with 1 Axes>"
      ]
     },
     "metadata": {
      "needs_background": "light"
     },
     "output_type": "display_data"
    }
   ],
   "source": [
    "amgd['total population'].hist(log = True)"
   ]
  },
  {
   "cell_type": "code",
   "execution_count": 109,
   "id": "b1b9c190",
   "metadata": {},
   "outputs": [],
   "source": [
    "X = amgd_cut[social_cols]\n",
    "y = amgd_cut[health_cols]\n",
    "\n",
    "xtrain, xtest, ytrain, ytest = train_test_split(X, y, test_size=0.1, random_state=1)"
   ]
  },
  {
   "cell_type": "code",
   "execution_count": 110,
   "id": "75674423",
   "metadata": {},
   "outputs": [],
   "source": [
    "#asthma\n",
    "lr_social_a = LinearRegression()\n",
    "lr_social_a.fit(xtrain, ytrain['asthma'])\n",
    "\n",
    "#low birth weight\n",
    "lr_social_b = LinearRegression()\n",
    "lr_social_b.fit(xtrain, ytrain['low birth weight'])\n",
    "\n",
    "#cardiovascular discceseaesf\n",
    "lr_social_c = LinearRegression()\n",
    "lr_social_c.fit(xtrain, ytrain['cardiovascular disease']);"
   ]
  },
  {
   "cell_type": "code",
   "execution_count": 111,
   "id": "2d92a64d",
   "metadata": {},
   "outputs": [
    {
     "data": {
      "text/plain": [
       "(0.2627549766769105, 0.26482031792771943)"
      ]
     },
     "execution_count": 111,
     "metadata": {},
     "output_type": "execute_result"
    }
   ],
   "source": [
    "#score asthma \n",
    "lr_social_a.score(xtrain, ytrain['asthma']), lr_social_a.score(xtest, ytest['asthma'])"
   ]
  },
  {
   "cell_type": "code",
   "execution_count": 112,
   "id": "9adda3d7",
   "metadata": {},
   "outputs": [
    {
     "data": {
      "text/plain": [
       "array([-9.83073996e-05, -7.43491909e-04,  3.98869536e-01, -7.78380741e-01,\n",
       "        5.90009143e-01,  2.65111028e-01,  2.80210064e-01])"
      ]
     },
     "execution_count": 112,
     "metadata": {},
     "output_type": "execute_result"
    }
   ],
   "source": [
    "#asthma coefficients\n",
    "lr_social_a.coef_"
   ]
  },
  {
   "cell_type": "code",
   "execution_count": 113,
   "id": "30bcc510",
   "metadata": {},
   "outputs": [
    {
     "data": {
      "text/plain": [
       "(0.13333229083938192, 0.13754920307177987)"
      ]
     },
     "execution_count": 113,
     "metadata": {},
     "output_type": "execute_result"
    }
   ],
   "source": [
    "#score lbw\n",
    "lr_social_b.score(xtrain, ytrain['low birth weight']), lr_social_b.score(xtest, ytest['low birth weight'])"
   ]
  },
  {
   "cell_type": "code",
   "execution_count": 114,
   "id": "9473f107",
   "metadata": {},
   "outputs": [
    {
     "data": {
      "text/plain": [
       "array([ 3.92206652e-05,  4.74715087e-05,  7.26734578e-03, -6.05956882e-03,\n",
       "        5.79351871e-03,  1.85541176e-02,  3.28708782e-02])"
      ]
     },
     "execution_count": 114,
     "metadata": {},
     "output_type": "execute_result"
    }
   ],
   "source": [
    "#lbw coefficients\n",
    "lr_social_b.coef_"
   ]
  },
  {
   "cell_type": "code",
   "execution_count": 115,
   "id": "f758bc07",
   "metadata": {},
   "outputs": [
    {
     "data": {
      "text/plain": [
       "(0.10994997406433493, 0.11001842551082852)"
      ]
     },
     "execution_count": 115,
     "metadata": {},
     "output_type": "execute_result"
    }
   ],
   "source": [
    "#score cvd\n",
    "lr_social_c.score(xtrain, ytrain['cardiovascular disease']), lr_social_c.score(xtest, ytest['cardiovascular disease'])"
   ]
  },
  {
   "cell_type": "code",
   "execution_count": 116,
   "id": "dbda5770",
   "metadata": {},
   "outputs": [
    {
     "data": {
      "text/plain": [
       "array([-5.60549741e-06, -4.34947502e-05,  8.31831268e-02, -1.02944221e-01,\n",
       "        3.74712300e-02, -1.27049879e-01,  3.41043573e-02])"
      ]
     },
     "execution_count": 116,
     "metadata": {},
     "output_type": "execute_result"
    }
   ],
   "source": [
    "#cvd coefficients\n",
    "lr_social_c.coef_"
   ]
  },
  {
   "cell_type": "markdown",
   "id": "2f638985",
   "metadata": {},
   "source": [
    "# CAES scores regression\n",
    "# regression with just CAES and other derived scores.\n",
    "\n",
    "if these are good, it may mean the scores are well designed."
   ]
  },
  {
   "cell_type": "code",
   "execution_count": 122,
   "id": "4164c59c",
   "metadata": {
    "scrolled": true
   },
   "outputs": [
    {
     "data": {
      "text/plain": [
       "['zip',\n",
       " 'total population',\n",
       " 'ozone',\n",
       " 'ozone pctl',\n",
       " 'pm2.5',\n",
       " 'pm2.5 pctl',\n",
       " 'diesel pm',\n",
       " 'diesel pm pctl',\n",
       " 'pesticides',\n",
       " 'pesticides pctl',\n",
       " 'traffic',\n",
       " 'traffic pctl',\n",
       " 'cleanup sites',\n",
       " 'cleanup sites pctl',\n",
       " 'groundwater threats',\n",
       " 'groundwater threats pctl',\n",
       " 'haz. waste',\n",
       " 'haz. waste pctl',\n",
       " 'imp. water bodies',\n",
       " 'imp. water bodies pctl',\n",
       " 'solid waste',\n",
       " 'solid waste pctl',\n",
       " 'pollution burden',\n",
       " 'pollution burden score',\n",
       " 'asthma',\n",
       " 'asthma pctl',\n",
       " 'low birth weight',\n",
       " 'low birth weight pctl',\n",
       " 'education',\n",
       " 'education pctl',\n",
       " 'linguistic isolation',\n",
       " 'linguistic isolation pctl',\n",
       " 'poverty',\n",
       " 'poverty pctl',\n",
       " 'pop. char. ',\n",
       " 'pop. char. score',\n",
       " 'ces_score',\n",
       " 'ces_per_range',\n",
       " 'year',\n",
       " 'census tract',\n",
       " 'county',\n",
       " 'drinking water',\n",
       " 'drinking water pctl',\n",
       " 'tox. release',\n",
       " 'tox. release pctl',\n",
       " 'pollution burden pctl',\n",
       " 'unemployment',\n",
       " 'unemployment pctl',\n",
       " 'pop. char. pctl',\n",
       " 'city',\n",
       " 'latitude',\n",
       " 'longitude',\n",
       " 'ces_per',\n",
       " 'cardiovascular disease',\n",
       " 'cardiovascular disease pctl',\n",
       " 'housing burden',\n",
       " 'housing burden pctl',\n",
       " 'census_year',\n",
       " 'est total',\n",
       " 'est gen',\n",
       " 'est cold',\n",
       " 'est farm',\n",
       " 'est other']"
      ]
     },
     "execution_count": 122,
     "metadata": {},
     "output_type": "execute_result"
    }
   ],
   "source": [
    "amgd.columns.to_list()"
   ]
  },
  {
   "cell_type": "code",
   "execution_count": 180,
   "id": "f1380698",
   "metadata": {
    "scrolled": true
   },
   "outputs": [],
   "source": [
    "score_cols = [\n",
    "    'pollution burden',\n",
    "    'pop. char. ',\n",
    "    'ces_score',\n",
    "    'housing burden'\n",
    "]\n",
    "\n",
    "amgd_cut_scores = amgd[score_cols + health_cols].copy()\n",
    "amgd_cut_scores.fillna(amgd_cut_scores.median(), inplace = True)"
   ]
  },
  {
   "cell_type": "code",
   "execution_count": 181,
   "id": "329346b9",
   "metadata": {
    "scrolled": true
   },
   "outputs": [],
   "source": [
    "x = amgd_cut_scores[score_cols].dropna()\n",
    "y = amgd_cut_scores[health_cols]\n",
    "\n",
    "xtrain, xtest, ytrain, ytest = train_test_split(x, y, test_size=0.1, random_state = 1)"
   ]
  },
  {
   "cell_type": "code",
   "execution_count": 190,
   "id": "e786adab",
   "metadata": {
    "scrolled": true
   },
   "outputs": [],
   "source": [
    "# asthma\n",
    "lr_scores_a = LinearRegression()\n",
    "lr_scores_a.fit(xtrain, ytrain['asthma'])\n",
    "\n",
    "# low birth weight\n",
    "lr_scores_b = LinearRegression()\n",
    "lr_scores_b.fit(xtrain, ytrain['low birth weight'])\n",
    "\n",
    "# cardiovascular\n",
    "lr_scores_c = LinearRegression()\n",
    "lr_scores_c.fit(xtrain, ytrain['cardiovascular disease']);\n"
   ]
  },
  {
   "cell_type": "code",
   "execution_count": 193,
   "id": "4d44d6b4",
   "metadata": {
    "scrolled": true
   },
   "outputs": [
    {
     "data": {
      "text/plain": [
       "(0.4832395083165938, 0.4807148307370688)"
      ]
     },
     "execution_count": 193,
     "metadata": {},
     "output_type": "execute_result"
    }
   ],
   "source": [
    "#asthma\n",
    "lr_scores_a.score(xtrain, ytrain['asthma']), lr_scores_a.score(xtest,ytest['asthma'])"
   ]
  },
  {
   "cell_type": "code",
   "execution_count": 196,
   "id": "3b2b4f72",
   "metadata": {},
   "outputs": [
    {
     "data": {
      "text/plain": [
       "array([-0.31310851,  1.04225765,  0.14907589, -0.37563543])"
      ]
     },
     "execution_count": 196,
     "metadata": {},
     "output_type": "execute_result"
    }
   ],
   "source": [
    "lr_scores_a.coef_"
   ]
  },
  {
   "cell_type": "code",
   "execution_count": 194,
   "id": "f4491c06",
   "metadata": {
    "scrolled": true
   },
   "outputs": [
    {
     "data": {
      "text/plain": [
       "(0.23950857499514167, 0.2515350979968135)"
      ]
     },
     "execution_count": 194,
     "metadata": {},
     "output_type": "execute_result"
    }
   ],
   "source": [
    "#low birth weight\n",
    "lr_scores_b.score(xtrain, ytrain['low birth weight']), lr_scores_b.score(xtest, ytest['low birth weight'])"
   ]
  },
  {
   "cell_type": "code",
   "execution_count": 197,
   "id": "ed38ffd3",
   "metadata": {},
   "outputs": [
    {
     "data": {
      "text/plain": [
       "array([ 0.02183679,  0.05232562, -0.03783626,  0.00241605])"
      ]
     },
     "execution_count": 197,
     "metadata": {},
     "output_type": "execute_result"
    }
   ],
   "source": [
    "lr_scores_b.coef_"
   ]
  },
  {
   "cell_type": "code",
   "execution_count": 198,
   "id": "574f3dbb",
   "metadata": {
    "scrolled": true
   },
   "outputs": [
    {
     "data": {
      "text/plain": [
       "(0.2364798467342505, 0.23122365100217368)"
      ]
     },
     "execution_count": 198,
     "metadata": {},
     "output_type": "execute_result"
    }
   ],
   "source": [
    "# cardiovascular disease\n",
    "lr_scores_c.score(xtrain, ytrain['cardiovascular disease']), lr_scores_c.score(xtest, ytest['cardiovascular disease'])"
   ]
  },
  {
   "cell_type": "code",
   "execution_count": 199,
   "id": "15db9cb8",
   "metadata": {},
   "outputs": [
    {
     "data": {
      "text/plain": [
       "array([-0.03835311,  0.08608129,  0.04443733, -0.0663506 ])"
      ]
     },
     "execution_count": 199,
     "metadata": {},
     "output_type": "execute_result"
    }
   ],
   "source": [
    "lr_scores_c.coef_"
   ]
  },
  {
   "cell_type": "markdown",
   "id": "10674150",
   "metadata": {},
   "source": [
    "# PCA"
   ]
  },
  {
   "cell_type": "code",
   "execution_count": 203,
   "id": "39fb56e4",
   "metadata": {},
   "outputs": [],
   "source": [
    "pca = PCA()"
   ]
  },
  {
   "cell_type": "code",
   "execution_count": 208,
   "id": "aca9f9c0",
   "metadata": {},
   "outputs": [
    {
     "data": {
      "text/plain": [
       "PCA()"
      ]
     },
     "execution_count": 208,
     "metadata": {},
     "output_type": "execute_result"
    }
   ],
   "source": [
    "\n",
    "xtrain, xtest, ytrain, ytest = train_test_split(amgd_cut.drop(columns = health_cols),\n",
    "                                               amgd_cut[health_cols],\n",
    "                                               test_size = 0.1,\n",
    "                                               random_state = 1)\n",
    "\n",
    "pca.fit(xtrain)\n"
   ]
  },
  {
   "cell_type": "code",
   "execution_count": 205,
   "id": "9098a0bb",
   "metadata": {},
   "outputs": [
    {
     "data": {
      "text/plain": [
       "array([[-3.70788017e-02, -2.94459188e-07,  2.98209791e-05,\n",
       "         1.46867841e-04, -5.27704084e-03,  7.57933759e-03,\n",
       "         1.10614313e-04, -1.20029012e-04,  8.47037736e-06,\n",
       "        -1.53916324e-05,  1.13194773e-05,  2.11246399e-04,\n",
       "        -1.63135501e-05,  1.12736144e-06,  1.43159252e-04,\n",
       "         7.55247894e-05,  1.02947982e-04,  9.97619288e-05,\n",
       "         4.60170700e-04,  9.99269470e-01,  1.18924403e-05,\n",
       "         1.98540064e-04, -7.53317741e-06,  3.11661489e-05,\n",
       "         2.98794030e-05,  2.41507745e-05,  2.20916894e-06,\n",
       "         7.21754030e-07,  2.79770559e-06],\n",
       "       [ 9.99249331e-01,  1.09656940e-06,  4.24337470e-05,\n",
       "         4.16050053e-05,  9.03696151e-03,  6.05252117e-03,\n",
       "         7.92034166e-04,  2.60392031e-03,  8.16235554e-05,\n",
       "         2.87863822e-05,  1.09725682e-04,  2.88527708e-04,\n",
       "        -1.07331480e-04,  3.86777247e-05,  8.29025360e-05,\n",
       "         3.93885593e-05, -3.60292968e-06,  7.78005504e-05,\n",
       "         7.86562840e-05,  3.70799563e-02, -2.34077433e-05,\n",
       "         4.65583540e-05, -2.29510161e-06, -2.59599258e-05,\n",
       "         1.28578330e-05,  8.99156412e-06,  1.07720231e-06,\n",
       "         2.84814114e-07,  2.50425241e-06],\n",
       "       [-9.11393326e-03, -9.83457324e-07, -6.21577531e-05,\n",
       "        -2.47886947e-04,  9.99739735e-01, -1.93056735e-02,\n",
       "        -1.15461526e-04,  9.37181766e-05, -4.05884628e-06,\n",
       "         2.29933664e-04,  6.56419240e-05,  2.22908407e-04,\n",
       "        -4.23414293e-05, -1.26554120e-05,  5.25143541e-04,\n",
       "         1.70969887e-04,  2.79689887e-04,  2.12479092e-04,\n",
       "         6.17440437e-03,  5.08475559e-03,  6.89539826e-06,\n",
       "         2.84568521e-04, -1.27209039e-05, -6.07276404e-05,\n",
       "         1.01177535e-05, -1.04860629e-05,  2.68795639e-05,\n",
       "         4.14555353e-07, -6.69030278e-06],\n",
       "       [-5.95379736e-03, -4.59854320e-06,  3.22855306e-04,\n",
       "         2.47896198e-03,  1.93219242e-02,  9.99728143e-01,\n",
       "         1.69226173e-03,  2.60648557e-03,  1.07153670e-04,\n",
       "         1.97216406e-04, -1.01461348e-04,  4.07304655e-03,\n",
       "        -1.16313400e-03,  6.19775592e-05,  6.60515587e-04,\n",
       "         1.10054308e-03,  1.34612099e-05,  5.12559934e-04,\n",
       "        -5.42254255e-03, -7.70121179e-03, -1.84768092e-04,\n",
       "         3.11963548e-03, -5.85543517e-05,  6.20592047e-04,\n",
       "         3.13880500e-04,  2.48207481e-04,  2.02134407e-05,\n",
       "        -6.65966473e-06,  5.21192436e-05],\n",
       "       [ 1.07783687e-07,  8.09513047e-05,  4.42375366e-03,\n",
       "        -9.39532769e-03, -6.09177143e-03,  5.36050442e-03,\n",
       "        -1.05413890e-03, -1.77782268e-02, -9.56455055e-05,\n",
       "        -3.11238572e-03,  2.13797190e-03,  2.65487723e-02,\n",
       "         2.48420017e-03,  3.13472971e-04,  1.44794188e-02,\n",
       "         5.63024932e-03,  1.62093178e-02,  1.78852046e-02,\n",
       "         9.98387218e-01, -5.51909253e-04,  1.84621136e-03,\n",
       "         3.38831316e-02,  3.05123491e-03,  3.87453473e-03,\n",
       "         1.99064387e-03,  1.60852376e-03,  2.95452054e-04,\n",
       "         1.53088227e-05,  7.13592385e-05],\n",
       "       [-2.65648090e-03, -7.72595309e-05,  9.77387933e-05,\n",
       "         1.67133962e-02, -2.87345554e-04, -2.94819223e-03,\n",
       "         9.43918902e-02,  9.92918830e-01,  6.37152111e-03,\n",
       "         6.86676574e-03,  1.08930674e-02,  3.49626764e-02,\n",
       "         3.38928982e-02,  8.21491637e-04,  1.27616435e-02,\n",
       "         9.30426726e-03,  2.17572726e-02,  2.19511049e-02,\n",
       "         1.49231370e-02,  1.77398704e-06,  2.80242061e-03,\n",
       "         2.96659505e-02,  3.64228831e-05,  2.42895782e-03,\n",
       "         2.28783773e-03,  1.52851210e-03,  3.43807578e-04,\n",
       "         9.27244148e-05,  3.22793633e-04],\n",
       "       [-9.20259459e-05, -1.25974313e-04, -1.26797036e-02,\n",
       "        -9.31622531e-02,  2.40074271e-04,  1.98846431e-03,\n",
       "        -8.00300656e-02,  6.80283693e-02, -3.99445760e-03,\n",
       "        -1.19907770e-04, -7.51660979e-03, -9.75019694e-02,\n",
       "        -5.93185972e-01, -1.32204820e-02, -2.78635821e-01,\n",
       "        -1.23488562e-01, -3.79861186e-01, -4.43400469e-01,\n",
       "         3.78496191e-02,  2.25829885e-04, -6.04677495e-02,\n",
       "        -4.12048178e-01, -4.45284920e-02, -8.66216492e-02,\n",
       "        -1.54250909e-02, -1.02704030e-02, -2.84039066e-03,\n",
       "        -4.36997002e-04, -1.87730022e-03],\n",
       "       [ 2.42106906e-04, -8.55731194e-05, -2.26855941e-02,\n",
       "        -2.72131049e-01,  2.94588185e-04,  3.72487833e-03,\n",
       "        -1.99463423e-01,  2.59893728e-02, -8.79965751e-03,\n",
       "        -1.32012094e-03, -1.40693977e-02, -1.58980622e-01,\n",
       "         7.28920797e-01, -1.09881277e-03, -3.14286410e-01,\n",
       "        -2.48574840e-01, -3.34636095e-01, -9.61635667e-02,\n",
       "         1.99679331e-02,  2.33772121e-04, -4.00483111e-02,\n",
       "        -1.88644873e-01,  5.30908347e-02, -7.55473783e-02,\n",
       "        -1.09260654e-02, -5.79514857e-03, -2.82163908e-03,\n",
       "         5.31061289e-05, -2.36238386e-03],\n",
       "       [-4.99107618e-04, -3.45134322e-04,  5.04402842e-03,\n",
       "         1.01004787e-01,  2.03451439e-04, -2.08534064e-03,\n",
       "         9.03022258e-01, -9.05671559e-02,  3.81143756e-02,\n",
       "         3.48906249e-02,  5.98408669e-02,  1.88515790e-01,\n",
       "         1.26092851e-01,  8.92311493e-05, -1.57011083e-01,\n",
       "        -8.43012670e-02, -2.18858836e-01, -1.46328280e-01,\n",
       "         1.91203509e-03, -1.12603074e-04, -3.77216115e-02,\n",
       "         6.13404595e-02, -5.13710336e-03, -3.26157716e-02,\n",
       "         2.62938341e-02,  1.90143442e-02,  2.82607338e-03,\n",
       "         3.50171014e-04,  4.10324557e-03],\n",
       "       [ 6.64713636e-05,  4.55536046e-04,  1.27273523e-02,\n",
       "         8.04207724e-01,  1.71112910e-04,  1.83224794e-04,\n",
       "        -5.47136978e-02, -1.08441628e-03, -1.95403333e-03,\n",
       "        -1.43050016e-02, -3.53367406e-02, -2.00026935e-02,\n",
       "         2.14688499e-01, -1.10057872e-02,  2.07733652e-02,\n",
       "         4.94000278e-02,  1.07298285e-01, -6.03104835e-02,\n",
       "         2.42443387e-02, -2.17236808e-05,  4.87157090e-02,\n",
       "        -5.15164632e-01, -9.45584695e-02, -8.14881815e-02,\n",
       "        -6.15655719e-03, -5.04332578e-03, -1.47211003e-04,\n",
       "        -2.04213070e-04, -7.61807340e-04],\n",
       "       [-1.50918009e-04,  3.13728256e-04, -4.12047772e-02,\n",
       "        -4.55250797e-01, -1.38132635e-04,  3.39118590e-03,\n",
       "         3.07326135e-01, -1.05661534e-02,  5.00982680e-03,\n",
       "        -2.49203281e-02,  6.27609083e-03, -2.43168328e-01,\n",
       "         3.11163109e-02, -1.39928849e-02,  2.72767157e-01,\n",
       "         1.02257183e-01,  3.65694401e-01,  1.31445401e-01,\n",
       "         1.10760476e-02,  7.72011534e-05,  2.43653075e-02,\n",
       "        -6.28324938e-01, -3.27657623e-03, -4.64203390e-02,\n",
       "        -3.26394140e-02, -2.96790895e-02, -1.79158756e-04,\n",
       "        -1.89795798e-04, -2.59136991e-03],\n",
       "       [ 7.84475575e-05, -2.31648060e-04, -6.86032010e-02,\n",
       "         1.05866326e-01,  2.88056262e-04,  1.61448359e-03,\n",
       "         1.09034886e-01,  2.68237466e-03, -1.18035461e-02,\n",
       "        -6.82386372e-02, -2.51969305e-02, -4.63552574e-01,\n",
       "        -9.81245355e-02,  2.01188245e-02, -5.02214228e-01,\n",
       "        -3.66837788e-01,  4.43258576e-01,  3.75563358e-02,\n",
       "         9.70419052e-03,  7.79937972e-05,  1.53221394e-01,\n",
       "         1.50501235e-01, -2.63570199e-02,  2.38289808e-01,\n",
       "        -1.79084088e-01, -1.44313779e-01, -1.62826843e-02,\n",
       "        -1.09475984e-03, -1.73928648e-02],\n",
       "       [ 1.92276957e-05, -2.07656212e-03, -6.11605910e-02,\n",
       "         1.42925896e-01,  7.29849897e-05,  1.26040093e-03,\n",
       "         1.26074109e-01,  9.39308775e-03, -2.37093876e-02,\n",
       "        -1.59783134e-01, -1.37555406e-01, -6.73208866e-01,\n",
       "        -3.75975974e-02,  3.42435416e-02,  1.72316322e-01,\n",
       "         3.28492859e-01, -4.74717671e-01,  2.38848478e-01,\n",
       "         1.44574559e-02,  4.84895994e-05, -3.30754315e-02,\n",
       "         1.34653669e-01,  4.68754999e-02, -9.86991995e-04,\n",
       "        -9.90726434e-02, -8.66380908e-02, -7.56632359e-03,\n",
       "        -1.29008328e-03, -3.57814575e-03],\n",
       "       [-4.37278059e-05,  2.42449881e-03,  2.42234747e-03,\n",
       "         4.57128650e-02,  7.72914414e-05,  2.86260970e-04,\n",
       "         2.03951592e-02,  1.38657004e-03,  1.31928412e-02,\n",
       "        -5.57470684e-02,  1.23690633e-02, -7.90982236e-02,\n",
       "        -1.45235787e-01,  3.28536134e-02, -6.48433495e-02,\n",
       "        -3.45383836e-01, -1.02866603e-01,  4.62632510e-01,\n",
       "        -1.89297575e-04, -8.71643589e-06,  2.00260257e-01,\n",
       "        -7.71017395e-02,  6.60446512e-02, -1.70914307e-01,\n",
       "         5.56756609e-01,  4.73868697e-01,  3.60734225e-02,\n",
       "         1.47047506e-03,  4.53440148e-02],\n",
       "       [ 9.94393413e-05, -1.98627970e-03, -4.47255097e-02,\n",
       "         5.93273873e-03, -5.56907367e-06,  6.08185063e-04,\n",
       "         1.39142167e-02,  5.09920876e-03, -2.02951405e-03,\n",
       "        -2.62422802e-02, -4.59359951e-02, -3.18553701e-01,\n",
       "         1.26623503e-01, -4.65889277e-02,  1.51973766e-01,\n",
       "         1.28279418e-01,  2.09129465e-01, -5.90629793e-01,\n",
       "         5.60736858e-03,  1.29230103e-05, -1.81914389e-01,\n",
       "         1.58878009e-01, -4.88515932e-02,  2.01706077e-01,\n",
       "         4.44437699e-01,  3.76705052e-01,  2.98303429e-02,\n",
       "         9.40710464e-04,  3.69615930e-02],\n",
       "       [ 1.18902824e-06, -9.56629872e-04,  2.49969600e-02,\n",
       "        -6.57318935e-02,  1.55555878e-04, -6.88826329e-04,\n",
       "        -8.90194072e-03, -3.23357894e-03,  5.14508868e-03,\n",
       "        -1.09143442e-02, -7.91912883e-02,  1.45188799e-01,\n",
       "         2.07597374e-03,  1.42603375e-02, -5.96598910e-01,\n",
       "         6.34926354e-01,  4.04099390e-02,  2.24351174e-01,\n",
       "        -8.19347872e-04,  9.10132359e-06, -1.07712125e-01,\n",
       "        -1.40246628e-01,  2.67972458e-03,  2.83405030e-01,\n",
       "         1.57576566e-01,  1.39759290e-01,  1.10468890e-03,\n",
       "         3.03054299e-04,  1.64095327e-02],\n",
       "       [-2.41780668e-05,  1.13964120e-03,  4.27418487e-02,\n",
       "         2.13335417e-02,  7.16426735e-05, -5.11079067e-04,\n",
       "         7.31150176e-05,  2.56551625e-03, -3.92617076e-04,\n",
       "        -1.26677455e-01, -1.02657943e-01,  1.36395369e-01,\n",
       "        -9.99182304e-03,  8.57715917e-03,  2.32208083e-01,\n",
       "        -2.93215887e-01, -2.16725950e-01,  1.31220187e-01,\n",
       "        -9.39734632e-04, -2.05574847e-05, -1.47545931e-01,\n",
       "        -1.79694637e-01, -5.28005345e-02,  8.31471973e-01,\n",
       "        -7.01450340e-03, -3.61081947e-03, -9.80985417e-04,\n",
       "        -4.28559213e-04, -1.99413931e-03],\n",
       "       [ 6.97046856e-06, -4.17878403e-03, -1.77937259e-01,\n",
       "         2.63506780e-02, -2.21769218e-04,  4.06251304e-04,\n",
       "        -1.79446953e-02, -3.35196906e-03,  2.57182408e-02,\n",
       "         8.62312650e-01,  3.29167051e-01, -1.51868273e-01,\n",
       "        -2.91569482e-03,  3.20384810e-03,  3.62778399e-02,\n",
       "         4.78762604e-02, -1.04163500e-01,  5.82606988e-02,\n",
       "         6.81089093e-03,  2.81897461e-05,  1.56957465e-01,\n",
       "        -2.23978918e-02, -1.04012955e-01,  1.92442295e-01,\n",
       "         2.24696513e-02,  1.17598209e-02,  8.13527774e-03,\n",
       "        -1.27781501e-03,  3.85236770e-03],\n",
       "       [ 2.72559965e-05,  3.99984191e-03,  3.79749149e-02,\n",
       "        -1.00058259e-01,  3.63584452e-05, -5.13768586e-05,\n",
       "         9.63309672e-04,  3.38359435e-05, -1.15711615e-02,\n",
       "        -2.00447082e-01, -4.25782167e-02,  6.49684264e-02,\n",
       "         6.44988550e-02, -3.29073762e-02,  3.79084041e-02,\n",
       "         1.54694028e-01, -1.13773681e-01, -1.68597901e-01,\n",
       "        -1.68116187e-03, -9.48880244e-06,  8.38936117e-01,\n",
       "         2.09208424e-02, -3.87281922e-01,  1.25127449e-01,\n",
       "         1.11453575e-02,  1.30705702e-02, -2.87038767e-03,\n",
       "         9.06760028e-04,  3.84149945e-05],\n",
       "       [-4.14865388e-05, -1.54302919e-04, -6.49897437e-02,\n",
       "         2.65463771e-02,  5.73269672e-05,  2.98009728e-04,\n",
       "        -4.46430091e-02, -2.35617145e-03,  6.10227866e-02,\n",
       "        -3.83676031e-01,  9.06793582e-01, -4.37472097e-02,\n",
       "         9.04279384e-03,  5.53854916e-03, -1.58141081e-02,\n",
       "         5.89486394e-02, -2.88580835e-02,  1.96358258e-02,\n",
       "        -1.04200018e-03, -7.74620323e-06, -7.95558051e-02,\n",
       "        -1.17752159e-02, -5.49995709e-02,  5.78796497e-02,\n",
       "         3.17919107e-03, -4.43427590e-03,  2.92224724e-03,\n",
       "         8.55268595e-04,  3.83595114e-03],\n",
       "       [ 7.68127119e-06, -6.06617090e-04, -4.65183345e-03,\n",
       "         5.11701996e-02,  4.41951653e-05, -4.12002089e-05,\n",
       "        -6.55069115e-04,  5.53558449e-04,  3.12076123e-02,\n",
       "        -9.95716148e-03,  6.71148110e-02,  2.51996841e-02,\n",
       "        -6.27003897e-03, -1.32832962e-01,  2.85752545e-02,\n",
       "         7.27527374e-02, -8.83448487e-03, -1.49126393e-01,\n",
       "        -2.92437276e-04,  3.17085199e-06,  3.47521170e-01,\n",
       "        -5.59992296e-02,  8.93833344e-01,  1.47973054e-01,\n",
       "        -9.29527923e-03, -1.31975680e-02,  5.73281698e-03,\n",
       "        -1.12019588e-03, -7.10332366e-04],\n",
       "       [-3.17599082e-05, -2.49920916e-04,  9.69655571e-01,\n",
       "        -9.83206666e-03,  6.51080886e-05,  2.58922933e-04,\n",
       "         1.43048514e-02,  1.78512619e-03, -3.24081905e-02,\n",
       "         1.28296839e-01,  1.19299738e-01, -1.45625800e-01,\n",
       "         2.69870226e-03,  7.22427588e-02, -5.52563523e-03,\n",
       "         3.32612572e-03,  6.88238739e-03, -1.15431219e-02,\n",
       "        -2.98493174e-04,  6.34592690e-07,  4.65201923e-03,\n",
       "         1.82946055e-04,  7.54675372e-03,  1.55605495e-02,\n",
       "         1.10023381e-02, -1.75231446e-02,  1.29833553e-02,\n",
       "         1.14432410e-02,  4.09888630e-03],\n",
       "       [-3.93289542e-05, -2.80374138e-03,  3.25605563e-02,\n",
       "        -4.09676804e-03,  3.97175495e-06,  4.24564632e-05,\n",
       "        -3.15099173e-02, -1.77778351e-03,  9.89115015e-01,\n",
       "        -3.28880066e-03, -6.99738602e-02, -2.62521738e-02,\n",
       "         3.84807630e-04,  4.83258871e-02,  2.44429771e-03,\n",
       "         6.22777984e-04,  2.14976543e-03, -4.16776045e-03,\n",
       "         5.93157660e-04, -2.06301548e-06,  1.76871235e-03,\n",
       "         5.57167890e-03, -2.23901122e-02, -5.48555683e-03,\n",
       "         2.82450919e-02, -6.58893144e-02,  7.51803531e-02,\n",
       "         3.41266742e-03,  1.55413858e-02],\n",
       "       [-2.93202409e-05,  3.48475342e-03, -6.73156805e-02,\n",
       "        -2.26470682e-03,  7.74974990e-06, -5.36589757e-05,\n",
       "        -3.29495039e-03, -1.88242115e-04, -2.89767198e-02,\n",
       "        -8.34504536e-03,  1.36436547e-03,  2.90920161e-02,\n",
       "         1.08491390e-02,  9.75378487e-01,  2.68686248e-02,\n",
       "         2.14583225e-02,  1.74537459e-02, -8.61670201e-02,\n",
       "         1.03899603e-04, -8.98199030e-08,  5.94160675e-02,\n",
       "        -2.11772937e-02,  1.01722474e-01,  1.80353650e-02,\n",
       "        -5.23617875e-02,  8.45217084e-02, -7.63538311e-02,\n",
       "        -6.90601080e-03, -5.36236540e-02],\n",
       "       [ 3.81311057e-06, -5.87396472e-04, -3.42557916e-02,\n",
       "        -1.35215139e-03, -1.81949167e-05, -2.02349097e-05,\n",
       "        -1.35668940e-03,  3.55273843e-04, -1.05306007e-01,\n",
       "        -1.05188042e-02, -6.68351279e-03,  1.06082248e-02,\n",
       "         1.22720034e-03,  1.29008130e-01, -7.77901941e-03,\n",
       "         8.33753025e-04,  4.51525838e-03, -1.03079671e-02,\n",
       "        -2.95834498e-05,  1.23948942e-06,  8.82105836e-03,\n",
       "        -4.26361461e-03,  9.25534264e-03,  5.38255783e-03,\n",
       "         4.12476413e-01, -5.62371040e-01,  5.92632166e-01,\n",
       "         1.82392052e-02,  3.63976081e-01],\n",
       "       [ 1.89739698e-06,  1.03983411e-03, -1.98921938e-03,\n",
       "         1.84436721e-04, -1.67540634e-05,  1.50582626e-05,\n",
       "         2.03982208e-03,  1.36703814e-05, -2.53382315e-02,\n",
       "        -3.21042059e-03,  1.32730787e-03, -5.19533064e-04,\n",
       "        -3.82101670e-04, -7.15379445e-03, -4.94457090e-03,\n",
       "         6.36391660e-03, -2.45193759e-03,  3.11174515e-03,\n",
       "        -1.46044325e-04,  2.29337884e-07, -2.02143353e-03,\n",
       "         6.67320686e-04, -3.23480472e-03,  7.52587270e-04,\n",
       "        -7.03324390e-02,  1.11285894e-01,  6.24589028e-01,\n",
       "        -3.78907000e-02, -7.68316661e-01],\n",
       "       [ 5.11675768e-07, -1.16666008e-03, -1.28166810e-02,\n",
       "         6.40715919e-04, -1.31855841e-06,  1.01185836e-05,\n",
       "        -2.69629883e-05, -5.26336472e-05, -2.57320705e-03,\n",
       "        -1.05317510e-04, -1.58714256e-03,  5.15066333e-04,\n",
       "        -4.84889597e-04,  3.41933471e-03,  1.82107815e-04,\n",
       "         4.39070839e-04, -4.65611931e-04, -1.43334069e-05,\n",
       "         4.16354560e-05, -5.20065168e-07, -1.22456059e-05,\n",
       "        -3.55054143e-04,  1.77200393e-03,  7.69166146e-04,\n",
       "         2.10000390e-01, -2.08105180e-01, -2.10640203e-01,\n",
       "         8.93324725e-01, -2.64578952e-01],\n",
       "       [-1.20084257e-06,  9.99963214e-01, -6.30548077e-04,\n",
       "         4.52651786e-04,  6.78702276e-07,  8.32253508e-06,\n",
       "         3.14701908e-04,  6.44648366e-05,  2.93889909e-03,\n",
       "         4.28543558e-03,  1.21004250e-03, -2.92777159e-03,\n",
       "         1.34149904e-04, -3.17786965e-03, -4.18725793e-04,\n",
       "         2.06745427e-03, -2.86364562e-04, -7.46393244e-04,\n",
       "        -6.65862256e-06,  6.12019217e-07, -3.56375222e-03,\n",
       "         1.14492734e-03,  1.18152244e-03,  5.45972662e-04,\n",
       "         3.32711757e-04, -1.64419254e-03, -6.26116711e-05,\n",
       "         1.11571868e-03,  9.23797283e-04],\n",
       "       [-0.00000000e+00,  4.11783650e-15,  1.72169150e-16,\n",
       "         1.17767207e-17, -3.11701115e-20,  2.08472581e-19,\n",
       "         2.15453806e-18, -3.06877969e-19,  1.70687211e-16,\n",
       "         1.51642268e-16, -2.75557194e-17, -1.13210451e-16,\n",
       "        -6.19144151e-18, -2.20842830e-16, -1.98956368e-17,\n",
       "         1.21490419e-17, -1.18578218e-17,  5.05287262e-17,\n",
       "         1.50050999e-18,  5.45944433e-22, -1.18514528e-16,\n",
       "         1.94769507e-17, -9.57775406e-17,  6.18078973e-18,\n",
       "         4.47213595e-01, -4.47213595e-01, -4.47213595e-01,\n",
       "        -4.47213595e-01, -4.47213595e-01]])"
      ]
     },
     "execution_count": 205,
     "metadata": {},
     "output_type": "execute_result"
    }
   ],
   "source": [
    "pca.components_"
   ]
  },
  {
   "cell_type": "code",
   "execution_count": null,
   "id": "74716668",
   "metadata": {},
   "outputs": [],
   "source": []
  },
  {
   "cell_type": "markdown",
   "id": "40fc5bf9",
   "metadata": {},
   "source": [
    "#  xgboost"
   ]
  },
  {
   "cell_type": "code",
   "execution_count": 211,
   "id": "719a4136",
   "metadata": {},
   "outputs": [
    {
     "ename": "ModuleNotFoundError",
     "evalue": "No module named 'xgboost'",
     "output_type": "error",
     "traceback": [
      "\u001b[1;31m---------------------------------------------------------------------------\u001b[0m",
      "\u001b[1;31mModuleNotFoundError\u001b[0m                       Traceback (most recent call last)",
      "\u001b[1;32m~\\AppData\\Local\\Temp/ipykernel_16432/3466372142.py\u001b[0m in \u001b[0;36m<module>\u001b[1;34m\u001b[0m\n\u001b[0;32m      1\u001b[0m \u001b[1;32mfrom\u001b[0m \u001b[0msklearn\u001b[0m\u001b[1;33m.\u001b[0m\u001b[0mmodel_selection\u001b[0m \u001b[1;32mimport\u001b[0m \u001b[0mGridSearchCV\u001b[0m\u001b[1;33m\u001b[0m\u001b[1;33m\u001b[0m\u001b[0m\n\u001b[1;32m----> 2\u001b[1;33m \u001b[1;32mimport\u001b[0m \u001b[0mxgboost\u001b[0m \u001b[1;32mas\u001b[0m \u001b[0mxgb\u001b[0m\u001b[1;33m\u001b[0m\u001b[1;33m\u001b[0m\u001b[0m\n\u001b[0m\u001b[0;32m      3\u001b[0m \u001b[1;33m\u001b[0m\u001b[0m\n\u001b[0;32m      4\u001b[0m gsc = GridSearchCV(\n\u001b[0;32m      5\u001b[0m             \u001b[0mestimator\u001b[0m\u001b[1;33m=\u001b[0m\u001b[0mxbg\u001b[0m\u001b[1;33m.\u001b[0m\u001b[0mXGBRegressor\u001b[0m\u001b[1;33m(\u001b[0m\u001b[0mnthread\u001b[0m\u001b[1;33m=\u001b[0m\u001b[1;36m4\u001b[0m\u001b[1;33m)\u001b[0m\u001b[1;33m,\u001b[0m\u001b[1;33m\u001b[0m\u001b[1;33m\u001b[0m\u001b[0m\n",
      "\u001b[1;31mModuleNotFoundError\u001b[0m: No module named 'xgboost'"
     ]
    }
   ],
   "source": [
    "from sklearn.model_selection import GridSearchCV\n",
    "import xgboost as xgb\n",
    "\n",
    "gsc = GridSearchCV(\n",
    "            estimator=xbg.XGBRegressor(nthread=4),\n",
    "            param_grid={\"learning_rate\":[0.10,0.15,0.20],\n",
    "                        \"max_depth\": [ 3, 4, 5, 6, 8],\n",
    "                        \"min_child_weight\": [ 1, 3, 5, 7],\n",
    "                        \"gamma\":[ 0.0, 0.1, 0.2],\n",
    "                        \"colsample_bytree\":[ 0.3, 0.4],\n",
    "                       'nthread':[4]},\n",
    "            cv=3, scoring='neg_mean_squared_error', verbose=1, n_jobs=1)"
   ]
  },
  {
   "cell_type": "code",
   "execution_count": null,
   "id": "c811ea17",
   "metadata": {},
   "outputs": [],
   "source": []
  }
 ],
 "metadata": {
  "kernelspec": {
   "display_name": "Python 3 (ipykernel)",
   "language": "python",
   "name": "python3"
  },
  "language_info": {
   "codemirror_mode": {
    "name": "ipython",
    "version": 3
   },
   "file_extension": ".py",
   "mimetype": "text/x-python",
   "name": "python",
   "nbconvert_exporter": "python",
   "pygments_lexer": "ipython3",
   "version": "3.9.7"
  }
 },
 "nbformat": 4,
 "nbformat_minor": 5
}
