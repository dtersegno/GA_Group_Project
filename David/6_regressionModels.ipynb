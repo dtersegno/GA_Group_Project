{
 "cells": [
  {
   "cell_type": "markdown",
   "id": "8399197c",
   "metadata": {},
   "source": [
    "# Regression models\n",
    "\n",
    "dt\n",
    "\n",
    "4/25/22\n",
    "\n",
    "\n",
    "the last notebook, number 5, doesn't have much in it. I was preparing to merge the CAES data with the business counts by zip, but that's already been done! It's in `raw_data/all_merged.csv`"
   ]
  },
  {
   "cell_type": "code",
   "execution_count": 110,
   "id": "902e401c",
   "metadata": {},
   "outputs": [],
   "source": [
    "import os\n",
    "import pandas as pd\n",
    "import numpy as np\n",
    "from sklearn.linear_model import LinearRegression\n",
    "from sklearn.model_selection import cross_val_score, GridSearchCV, train_test_split\n",
    "from sklearn.pipeline import Pipeline\n",
    "\n",
    "\n",
    "import matplotlib.pyplot as plt\n",
    "import seaborn as sns"
   ]
  },
  {
   "cell_type": "code",
   "execution_count": 6,
   "id": "ef18cf03",
   "metadata": {},
   "outputs": [],
   "source": [
    "all_merged_filepath = '../processed_data/all_merged.csv'"
   ]
  },
  {
   "cell_type": "code",
   "execution_count": 7,
   "id": "cfc3ab2f",
   "metadata": {},
   "outputs": [],
   "source": [
    "#makde the all_merged dataframe.\n",
    "amgd = pd.read_csv(all_merged_filepath)"
   ]
  },
  {
   "cell_type": "code",
   "execution_count": 8,
   "id": "403f7ce8",
   "metadata": {},
   "outputs": [
    {
     "data": {
      "text/html": [
       "<div>\n",
       "<style scoped>\n",
       "    .dataframe tbody tr th:only-of-type {\n",
       "        vertical-align: middle;\n",
       "    }\n",
       "\n",
       "    .dataframe tbody tr th {\n",
       "        vertical-align: top;\n",
       "    }\n",
       "\n",
       "    .dataframe thead th {\n",
       "        text-align: right;\n",
       "    }\n",
       "</style>\n",
       "<table border=\"1\" class=\"dataframe\">\n",
       "  <thead>\n",
       "    <tr style=\"text-align: right;\">\n",
       "      <th></th>\n",
       "      <th>zip</th>\n",
       "      <th>total population</th>\n",
       "      <th>ozone</th>\n",
       "      <th>ozone pctl</th>\n",
       "      <th>pm2.5</th>\n",
       "      <th>pm2.5 pctl</th>\n",
       "      <th>diesel pm</th>\n",
       "      <th>diesel pm pctl</th>\n",
       "      <th>pesticides</th>\n",
       "      <th>pesticides pctl</th>\n",
       "      <th>...</th>\n",
       "      <th>cardiovascular disease</th>\n",
       "      <th>cardiovascular disease pctl</th>\n",
       "      <th>housing burden</th>\n",
       "      <th>housing burden pctl</th>\n",
       "      <th>census_year</th>\n",
       "      <th>est total</th>\n",
       "      <th>est gen</th>\n",
       "      <th>est cold</th>\n",
       "      <th>est farm</th>\n",
       "      <th>est other</th>\n",
       "    </tr>\n",
       "  </thead>\n",
       "  <tbody>\n",
       "    <tr>\n",
       "      <th>0</th>\n",
       "      <td>93706</td>\n",
       "      <td>41087</td>\n",
       "      <td>0.177311</td>\n",
       "      <td>76.550000</td>\n",
       "      <td>15.610000</td>\n",
       "      <td>95.960000</td>\n",
       "      <td>6.140000</td>\n",
       "      <td>56.190000</td>\n",
       "      <td>1120.30</td>\n",
       "      <td>90.59</td>\n",
       "      <td>...</td>\n",
       "      <td>NaN</td>\n",
       "      <td>NaN</td>\n",
       "      <td>NaN</td>\n",
       "      <td>NaN</td>\n",
       "      <td>2012</td>\n",
       "      <td>4</td>\n",
       "      <td>4</td>\n",
       "      <td>0</td>\n",
       "      <td>0</td>\n",
       "      <td>0</td>\n",
       "    </tr>\n",
       "    <tr>\n",
       "      <th>1</th>\n",
       "      <td>93307</td>\n",
       "      <td>82658</td>\n",
       "      <td>0.512336</td>\n",
       "      <td>93.700000</td>\n",
       "      <td>19.400000</td>\n",
       "      <td>99.690000</td>\n",
       "      <td>9.570000</td>\n",
       "      <td>64.730000</td>\n",
       "      <td>7128.70</td>\n",
       "      <td>98.37</td>\n",
       "      <td>...</td>\n",
       "      <td>NaN</td>\n",
       "      <td>NaN</td>\n",
       "      <td>NaN</td>\n",
       "      <td>NaN</td>\n",
       "      <td>2012</td>\n",
       "      <td>1</td>\n",
       "      <td>0</td>\n",
       "      <td>0</td>\n",
       "      <td>1</td>\n",
       "      <td>0</td>\n",
       "    </tr>\n",
       "    <tr>\n",
       "      <th>2</th>\n",
       "      <td>95205</td>\n",
       "      <td>38069</td>\n",
       "      <td>0.022790</td>\n",
       "      <td>38.530000</td>\n",
       "      <td>12.510000</td>\n",
       "      <td>71.650000</td>\n",
       "      <td>18.950000</td>\n",
       "      <td>80.500000</td>\n",
       "      <td>94.20</td>\n",
       "      <td>72.24</td>\n",
       "      <td>...</td>\n",
       "      <td>NaN</td>\n",
       "      <td>NaN</td>\n",
       "      <td>NaN</td>\n",
       "      <td>NaN</td>\n",
       "      <td>2012</td>\n",
       "      <td>1</td>\n",
       "      <td>0</td>\n",
       "      <td>0</td>\n",
       "      <td>0</td>\n",
       "      <td>1</td>\n",
       "    </tr>\n",
       "    <tr>\n",
       "      <th>3</th>\n",
       "      <td>93702</td>\n",
       "      <td>48607</td>\n",
       "      <td>0.317831</td>\n",
       "      <td>86.990000</td>\n",
       "      <td>16.080000</td>\n",
       "      <td>97.060000</td>\n",
       "      <td>36.850000</td>\n",
       "      <td>94.910000</td>\n",
       "      <td>7.92</td>\n",
       "      <td>53.79</td>\n",
       "      <td>...</td>\n",
       "      <td>NaN</td>\n",
       "      <td>NaN</td>\n",
       "      <td>NaN</td>\n",
       "      <td>NaN</td>\n",
       "      <td>2012</td>\n",
       "      <td>0</td>\n",
       "      <td>0</td>\n",
       "      <td>0</td>\n",
       "      <td>0</td>\n",
       "      <td>0</td>\n",
       "    </tr>\n",
       "    <tr>\n",
       "      <th>4</th>\n",
       "      <td>90058</td>\n",
       "      <td>3223</td>\n",
       "      <td>0.015613</td>\n",
       "      <td>31.320000</td>\n",
       "      <td>15.260000</td>\n",
       "      <td>94.980000</td>\n",
       "      <td>56.800000</td>\n",
       "      <td>98.360000</td>\n",
       "      <td>0.00</td>\n",
       "      <td>0.00</td>\n",
       "      <td>...</td>\n",
       "      <td>NaN</td>\n",
       "      <td>NaN</td>\n",
       "      <td>NaN</td>\n",
       "      <td>NaN</td>\n",
       "      <td>2012</td>\n",
       "      <td>35</td>\n",
       "      <td>12</td>\n",
       "      <td>19</td>\n",
       "      <td>0</td>\n",
       "      <td>4</td>\n",
       "    </tr>\n",
       "    <tr>\n",
       "      <th>...</th>\n",
       "      <td>...</td>\n",
       "      <td>...</td>\n",
       "      <td>...</td>\n",
       "      <td>...</td>\n",
       "      <td>...</td>\n",
       "      <td>...</td>\n",
       "      <td>...</td>\n",
       "      <td>...</td>\n",
       "      <td>...</td>\n",
       "      <td>...</td>\n",
       "      <td>...</td>\n",
       "      <td>...</td>\n",
       "      <td>...</td>\n",
       "      <td>...</td>\n",
       "      <td>...</td>\n",
       "      <td>...</td>\n",
       "      <td>...</td>\n",
       "      <td>...</td>\n",
       "      <td>...</td>\n",
       "      <td>...</td>\n",
       "      <td>...</td>\n",
       "    </tr>\n",
       "    <tr>\n",
       "      <th>25439</th>\n",
       "      <td>92140</td>\n",
       "      <td>3760</td>\n",
       "      <td>0.042599</td>\n",
       "      <td>29.894213</td>\n",
       "      <td>10.270812</td>\n",
       "      <td>50.914748</td>\n",
       "      <td>0.000952</td>\n",
       "      <td>80.883634</td>\n",
       "      <td>0.00</td>\n",
       "      <td>0.00</td>\n",
       "      <td>...</td>\n",
       "      <td>7.98</td>\n",
       "      <td>13.659023</td>\n",
       "      <td>NaN</td>\n",
       "      <td>NaN</td>\n",
       "      <td>2014</td>\n",
       "      <td>0</td>\n",
       "      <td>0</td>\n",
       "      <td>0</td>\n",
       "      <td>0</td>\n",
       "      <td>0</td>\n",
       "    </tr>\n",
       "    <tr>\n",
       "      <th>25440</th>\n",
       "      <td>92135</td>\n",
       "      <td>2467</td>\n",
       "      <td>0.042599</td>\n",
       "      <td>29.894213</td>\n",
       "      <td>10.463289</td>\n",
       "      <td>52.283759</td>\n",
       "      <td>0.000576</td>\n",
       "      <td>63.932794</td>\n",
       "      <td>0.00</td>\n",
       "      <td>0.00</td>\n",
       "      <td>...</td>\n",
       "      <td>3.73</td>\n",
       "      <td>0.024925</td>\n",
       "      <td>NaN</td>\n",
       "      <td>NaN</td>\n",
       "      <td>2014</td>\n",
       "      <td>0</td>\n",
       "      <td>0</td>\n",
       "      <td>0</td>\n",
       "      <td>0</td>\n",
       "      <td>0</td>\n",
       "    </tr>\n",
       "    <tr>\n",
       "      <th>25441</th>\n",
       "      <td>94128</td>\n",
       "      <td>0</td>\n",
       "      <td>0.034190</td>\n",
       "      <td>10.566273</td>\n",
       "      <td>8.789373</td>\n",
       "      <td>32.619788</td>\n",
       "      <td>0.002846</td>\n",
       "      <td>98.382078</td>\n",
       "      <td>0.00</td>\n",
       "      <td>0.00</td>\n",
       "      <td>...</td>\n",
       "      <td>NaN</td>\n",
       "      <td>NaN</td>\n",
       "      <td>NaN</td>\n",
       "      <td>NaN</td>\n",
       "      <td>2014</td>\n",
       "      <td>0</td>\n",
       "      <td>0</td>\n",
       "      <td>0</td>\n",
       "      <td>0</td>\n",
       "      <td>0</td>\n",
       "    </tr>\n",
       "    <tr>\n",
       "      <th>25442</th>\n",
       "      <td>57</td>\n",
       "      <td>10</td>\n",
       "      <td>0.039421</td>\n",
       "      <td>17.672682</td>\n",
       "      <td>7.052988</td>\n",
       "      <td>6.994400</td>\n",
       "      <td>0.000007</td>\n",
       "      <td>1.008090</td>\n",
       "      <td>0.00</td>\n",
       "      <td>0.00</td>\n",
       "      <td>...</td>\n",
       "      <td>8.59</td>\n",
       "      <td>17.896311</td>\n",
       "      <td>NaN</td>\n",
       "      <td>NaN</td>\n",
       "      <td>2014</td>\n",
       "      <td>0</td>\n",
       "      <td>0</td>\n",
       "      <td>0</td>\n",
       "      <td>0</td>\n",
       "      <td>0</td>\n",
       "    </tr>\n",
       "    <tr>\n",
       "      <th>25443</th>\n",
       "      <td>61</td>\n",
       "      <td>118</td>\n",
       "      <td>0.042599</td>\n",
       "      <td>29.894213</td>\n",
       "      <td>5.915569</td>\n",
       "      <td>2.874922</td>\n",
       "      <td>0.000009</td>\n",
       "      <td>1.431238</td>\n",
       "      <td>0.00</td>\n",
       "      <td>0.00</td>\n",
       "      <td>...</td>\n",
       "      <td>15.21</td>\n",
       "      <td>67.696909</td>\n",
       "      <td>NaN</td>\n",
       "      <td>NaN</td>\n",
       "      <td>2014</td>\n",
       "      <td>0</td>\n",
       "      <td>0</td>\n",
       "      <td>0</td>\n",
       "      <td>0</td>\n",
       "      <td>0</td>\n",
       "    </tr>\n",
       "  </tbody>\n",
       "</table>\n",
       "<p>25444 rows × 63 columns</p>\n",
       "</div>"
      ],
      "text/plain": [
       "         zip  total population     ozone  ozone pctl      pm2.5  pm2.5 pctl  \\\n",
       "0      93706             41087  0.177311   76.550000  15.610000   95.960000   \n",
       "1      93307             82658  0.512336   93.700000  19.400000   99.690000   \n",
       "2      95205             38069  0.022790   38.530000  12.510000   71.650000   \n",
       "3      93702             48607  0.317831   86.990000  16.080000   97.060000   \n",
       "4      90058              3223  0.015613   31.320000  15.260000   94.980000   \n",
       "...      ...               ...       ...         ...        ...         ...   \n",
       "25439  92140              3760  0.042599   29.894213  10.270812   50.914748   \n",
       "25440  92135              2467  0.042599   29.894213  10.463289   52.283759   \n",
       "25441  94128                 0  0.034190   10.566273   8.789373   32.619788   \n",
       "25442     57                10  0.039421   17.672682   7.052988    6.994400   \n",
       "25443     61               118  0.042599   29.894213   5.915569    2.874922   \n",
       "\n",
       "       diesel pm  diesel pm pctl  pesticides  pesticides pctl  ...  \\\n",
       "0       6.140000       56.190000     1120.30            90.59  ...   \n",
       "1       9.570000       64.730000     7128.70            98.37  ...   \n",
       "2      18.950000       80.500000       94.20            72.24  ...   \n",
       "3      36.850000       94.910000        7.92            53.79  ...   \n",
       "4      56.800000       98.360000        0.00             0.00  ...   \n",
       "...          ...             ...         ...              ...  ...   \n",
       "25439   0.000952       80.883634        0.00             0.00  ...   \n",
       "25440   0.000576       63.932794        0.00             0.00  ...   \n",
       "25441   0.002846       98.382078        0.00             0.00  ...   \n",
       "25442   0.000007        1.008090        0.00             0.00  ...   \n",
       "25443   0.000009        1.431238        0.00             0.00  ...   \n",
       "\n",
       "       cardiovascular disease  cardiovascular disease pctl  housing burden  \\\n",
       "0                         NaN                          NaN             NaN   \n",
       "1                         NaN                          NaN             NaN   \n",
       "2                         NaN                          NaN             NaN   \n",
       "3                         NaN                          NaN             NaN   \n",
       "4                         NaN                          NaN             NaN   \n",
       "...                       ...                          ...             ...   \n",
       "25439                    7.98                    13.659023             NaN   \n",
       "25440                    3.73                     0.024925             NaN   \n",
       "25441                     NaN                          NaN             NaN   \n",
       "25442                    8.59                    17.896311             NaN   \n",
       "25443                   15.21                    67.696909             NaN   \n",
       "\n",
       "       housing burden pctl  census_year  est total  est gen  est cold  \\\n",
       "0                      NaN         2012          4        4         0   \n",
       "1                      NaN         2012          1        0         0   \n",
       "2                      NaN         2012          1        0         0   \n",
       "3                      NaN         2012          0        0         0   \n",
       "4                      NaN         2012         35       12        19   \n",
       "...                    ...          ...        ...      ...       ...   \n",
       "25439                  NaN         2014          0        0         0   \n",
       "25440                  NaN         2014          0        0         0   \n",
       "25441                  NaN         2014          0        0         0   \n",
       "25442                  NaN         2014          0        0         0   \n",
       "25443                  NaN         2014          0        0         0   \n",
       "\n",
       "       est farm  est other  \n",
       "0             0          0  \n",
       "1             1          0  \n",
       "2             0          1  \n",
       "3             0          0  \n",
       "4             0          4  \n",
       "...         ...        ...  \n",
       "25439         0          0  \n",
       "25440         0          0  \n",
       "25441         0          0  \n",
       "25442         0          0  \n",
       "25443         0          0  \n",
       "\n",
       "[25444 rows x 63 columns]"
      ]
     },
     "execution_count": 8,
     "metadata": {},
     "output_type": "execute_result"
    }
   ],
   "source": [
    "amgd"
   ]
  },
  {
   "cell_type": "code",
   "execution_count": 9,
   "id": "158cc5d8",
   "metadata": {},
   "outputs": [],
   "source": [
    "#ah ma gahd!"
   ]
  },
  {
   "cell_type": "code",
   "execution_count": 10,
   "id": "0aa34836",
   "metadata": {},
   "outputs": [
    {
     "data": {
      "text/html": [
       "<div>\n",
       "<style scoped>\n",
       "    .dataframe tbody tr th:only-of-type {\n",
       "        vertical-align: middle;\n",
       "    }\n",
       "\n",
       "    .dataframe tbody tr th {\n",
       "        vertical-align: top;\n",
       "    }\n",
       "\n",
       "    .dataframe thead th {\n",
       "        text-align: right;\n",
       "    }\n",
       "</style>\n",
       "<table border=\"1\" class=\"dataframe\">\n",
       "  <thead>\n",
       "    <tr style=\"text-align: right;\">\n",
       "      <th></th>\n",
       "      <th>zip</th>\n",
       "      <th>total population</th>\n",
       "      <th>ozone</th>\n",
       "      <th>ozone pctl</th>\n",
       "      <th>pm2.5</th>\n",
       "      <th>pm2.5 pctl</th>\n",
       "      <th>diesel pm</th>\n",
       "      <th>diesel pm pctl</th>\n",
       "      <th>pesticides</th>\n",
       "      <th>pesticides pctl</th>\n",
       "      <th>...</th>\n",
       "      <th>cardiovascular disease</th>\n",
       "      <th>cardiovascular disease pctl</th>\n",
       "      <th>housing burden</th>\n",
       "      <th>housing burden pctl</th>\n",
       "      <th>census_year</th>\n",
       "      <th>est total</th>\n",
       "      <th>est gen</th>\n",
       "      <th>est cold</th>\n",
       "      <th>est farm</th>\n",
       "      <th>est other</th>\n",
       "    </tr>\n",
       "  </thead>\n",
       "  <tbody>\n",
       "    <tr>\n",
       "      <th>count</th>\n",
       "      <td>25444.000000</td>\n",
       "      <td>25444.000000</td>\n",
       "      <td>25333.000000</td>\n",
       "      <td>25333.000000</td>\n",
       "      <td>25286.000000</td>\n",
       "      <td>25286.000000</td>\n",
       "      <td>25444.000000</td>\n",
       "      <td>25444.000000</td>\n",
       "      <td>25444.000000</td>\n",
       "      <td>25444.000000</td>\n",
       "      <td>...</td>\n",
       "      <td>16059.000000</td>\n",
       "      <td>16059.000000</td>\n",
       "      <td>15768.000000</td>\n",
       "      <td>15768.000000</td>\n",
       "      <td>25444.000000</td>\n",
       "      <td>25444.000000</td>\n",
       "      <td>25444.000000</td>\n",
       "      <td>25444.000000</td>\n",
       "      <td>25444.000000</td>\n",
       "      <td>25444.000000</td>\n",
       "    </tr>\n",
       "    <tr>\n",
       "      <th>mean</th>\n",
       "      <td>92864.446156</td>\n",
       "      <td>5917.335796</td>\n",
       "      <td>0.068468</td>\n",
       "      <td>47.320326</td>\n",
       "      <td>10.221574</td>\n",
       "      <td>51.367337</td>\n",
       "      <td>12.497526</td>\n",
       "      <td>50.444645</td>\n",
       "      <td>296.028216</td>\n",
       "      <td>18.939449</td>\n",
       "      <td>...</td>\n",
       "      <td>10.837837</td>\n",
       "      <td>50.011075</td>\n",
       "      <td>18.908923</td>\n",
       "      <td>50.184404</td>\n",
       "      <td>2013.578958</td>\n",
       "      <td>1.959047</td>\n",
       "      <td>1.468716</td>\n",
       "      <td>0.181222</td>\n",
       "      <td>0.028730</td>\n",
       "      <td>0.280380</td>\n",
       "    </tr>\n",
       "    <tr>\n",
       "      <th>std</th>\n",
       "      <td>3380.897400</td>\n",
       "      <td>7251.318591</td>\n",
       "      <td>0.112443</td>\n",
       "      <td>30.957227</td>\n",
       "      <td>2.503114</td>\n",
       "      <td>29.032522</td>\n",
       "      <td>16.249286</td>\n",
       "      <td>28.787606</td>\n",
       "      <td>2555.276827</td>\n",
       "      <td>30.078159</td>\n",
       "      <td>...</td>\n",
       "      <td>4.953450</td>\n",
       "      <td>28.891888</td>\n",
       "      <td>8.509076</td>\n",
       "      <td>28.835873</td>\n",
       "      <td>0.590788</td>\n",
       "      <td>5.277823</td>\n",
       "      <td>4.470229</td>\n",
       "      <td>0.757449</td>\n",
       "      <td>0.182993</td>\n",
       "      <td>0.718911</td>\n",
       "    </tr>\n",
       "    <tr>\n",
       "      <th>min</th>\n",
       "      <td>32.000000</td>\n",
       "      <td>0.000000</td>\n",
       "      <td>0.000000</td>\n",
       "      <td>0.000000</td>\n",
       "      <td>1.651081</td>\n",
       "      <td>0.010000</td>\n",
       "      <td>0.000000</td>\n",
       "      <td>0.000000</td>\n",
       "      <td>0.000000</td>\n",
       "      <td>0.000000</td>\n",
       "      <td>...</td>\n",
       "      <td>0.000000</td>\n",
       "      <td>0.000000</td>\n",
       "      <td>0.800000</td>\n",
       "      <td>0.012674</td>\n",
       "      <td>2012.000000</td>\n",
       "      <td>0.000000</td>\n",
       "      <td>0.000000</td>\n",
       "      <td>0.000000</td>\n",
       "      <td>0.000000</td>\n",
       "      <td>0.000000</td>\n",
       "    </tr>\n",
       "    <tr>\n",
       "      <th>25%</th>\n",
       "      <td>91606.000000</td>\n",
       "      <td>3423.750000</td>\n",
       "      <td>0.030640</td>\n",
       "      <td>20.650000</td>\n",
       "      <td>8.559432</td>\n",
       "      <td>27.690338</td>\n",
       "      <td>0.000898</td>\n",
       "      <td>25.672060</td>\n",
       "      <td>0.000000</td>\n",
       "      <td>0.000000</td>\n",
       "      <td>...</td>\n",
       "      <td>7.265000</td>\n",
       "      <td>25.000000</td>\n",
       "      <td>12.600000</td>\n",
       "      <td>25.323194</td>\n",
       "      <td>2013.000000</td>\n",
       "      <td>0.000000</td>\n",
       "      <td>0.000000</td>\n",
       "      <td>0.000000</td>\n",
       "      <td>0.000000</td>\n",
       "      <td>0.000000</td>\n",
       "    </tr>\n",
       "    <tr>\n",
       "      <th>50%</th>\n",
       "      <td>92703.000000</td>\n",
       "      <td>4556.000000</td>\n",
       "      <td>0.045884</td>\n",
       "      <td>48.450529</td>\n",
       "      <td>10.370000</td>\n",
       "      <td>52.610000</td>\n",
       "      <td>7.650000</td>\n",
       "      <td>50.667918</td>\n",
       "      <td>0.000000</td>\n",
       "      <td>0.000000</td>\n",
       "      <td>...</td>\n",
       "      <td>9.760000</td>\n",
       "      <td>50.024925</td>\n",
       "      <td>17.600000</td>\n",
       "      <td>50.266160</td>\n",
       "      <td>2014.000000</td>\n",
       "      <td>0.000000</td>\n",
       "      <td>0.000000</td>\n",
       "      <td>0.000000</td>\n",
       "      <td>0.000000</td>\n",
       "      <td>0.000000</td>\n",
       "    </tr>\n",
       "    <tr>\n",
       "      <th>75%</th>\n",
       "      <td>94564.000000</td>\n",
       "      <td>5946.000000</td>\n",
       "      <td>0.059387</td>\n",
       "      <td>73.930000</td>\n",
       "      <td>12.050000</td>\n",
       "      <td>77.977844</td>\n",
       "      <td>19.760000</td>\n",
       "      <td>75.400000</td>\n",
       "      <td>0.488285</td>\n",
       "      <td>34.110000</td>\n",
       "      <td>...</td>\n",
       "      <td>13.320000</td>\n",
       "      <td>75.070000</td>\n",
       "      <td>23.900000</td>\n",
       "      <td>75.107731</td>\n",
       "      <td>2014.000000</td>\n",
       "      <td>2.000000</td>\n",
       "      <td>1.000000</td>\n",
       "      <td>0.000000</td>\n",
       "      <td>0.000000</td>\n",
       "      <td>0.000000</td>\n",
       "    </tr>\n",
       "    <tr>\n",
       "      <th>max</th>\n",
       "      <td>96161.000000</td>\n",
       "      <td>105549.000000</td>\n",
       "      <td>1.285954</td>\n",
       "      <td>100.000000</td>\n",
       "      <td>21.200000</td>\n",
       "      <td>100.000000</td>\n",
       "      <td>253.731000</td>\n",
       "      <td>100.000000</td>\n",
       "      <td>91316.190000</td>\n",
       "      <td>100.000000</td>\n",
       "      <td>...</td>\n",
       "      <td>40.850000</td>\n",
       "      <td>100.000000</td>\n",
       "      <td>78.200000</td>\n",
       "      <td>100.000000</td>\n",
       "      <td>2014.000000</td>\n",
       "      <td>96.000000</td>\n",
       "      <td>86.000000</td>\n",
       "      <td>19.000000</td>\n",
       "      <td>3.000000</td>\n",
       "      <td>9.000000</td>\n",
       "    </tr>\n",
       "  </tbody>\n",
       "</table>\n",
       "<p>8 rows × 60 columns</p>\n",
       "</div>"
      ],
      "text/plain": [
       "                zip  total population         ozone    ozone pctl  \\\n",
       "count  25444.000000      25444.000000  25333.000000  25333.000000   \n",
       "mean   92864.446156       5917.335796      0.068468     47.320326   \n",
       "std     3380.897400       7251.318591      0.112443     30.957227   \n",
       "min       32.000000          0.000000      0.000000      0.000000   \n",
       "25%    91606.000000       3423.750000      0.030640     20.650000   \n",
       "50%    92703.000000       4556.000000      0.045884     48.450529   \n",
       "75%    94564.000000       5946.000000      0.059387     73.930000   \n",
       "max    96161.000000     105549.000000      1.285954    100.000000   \n",
       "\n",
       "              pm2.5    pm2.5 pctl     diesel pm  diesel pm pctl    pesticides  \\\n",
       "count  25286.000000  25286.000000  25444.000000    25444.000000  25444.000000   \n",
       "mean      10.221574     51.367337     12.497526       50.444645    296.028216   \n",
       "std        2.503114     29.032522     16.249286       28.787606   2555.276827   \n",
       "min        1.651081      0.010000      0.000000        0.000000      0.000000   \n",
       "25%        8.559432     27.690338      0.000898       25.672060      0.000000   \n",
       "50%       10.370000     52.610000      7.650000       50.667918      0.000000   \n",
       "75%       12.050000     77.977844     19.760000       75.400000      0.488285   \n",
       "max       21.200000    100.000000    253.731000      100.000000  91316.190000   \n",
       "\n",
       "       pesticides pctl  ...  cardiovascular disease  \\\n",
       "count     25444.000000  ...            16059.000000   \n",
       "mean         18.939449  ...               10.837837   \n",
       "std          30.078159  ...                4.953450   \n",
       "min           0.000000  ...                0.000000   \n",
       "25%           0.000000  ...                7.265000   \n",
       "50%           0.000000  ...                9.760000   \n",
       "75%          34.110000  ...               13.320000   \n",
       "max         100.000000  ...               40.850000   \n",
       "\n",
       "       cardiovascular disease pctl  housing burden  housing burden pctl  \\\n",
       "count                 16059.000000    15768.000000         15768.000000   \n",
       "mean                     50.011075       18.908923            50.184404   \n",
       "std                      28.891888        8.509076            28.835873   \n",
       "min                       0.000000        0.800000             0.012674   \n",
       "25%                      25.000000       12.600000            25.323194   \n",
       "50%                      50.024925       17.600000            50.266160   \n",
       "75%                      75.070000       23.900000            75.107731   \n",
       "max                     100.000000       78.200000           100.000000   \n",
       "\n",
       "        census_year     est total       est gen      est cold      est farm  \\\n",
       "count  25444.000000  25444.000000  25444.000000  25444.000000  25444.000000   \n",
       "mean    2013.578958      1.959047      1.468716      0.181222      0.028730   \n",
       "std        0.590788      5.277823      4.470229      0.757449      0.182993   \n",
       "min     2012.000000      0.000000      0.000000      0.000000      0.000000   \n",
       "25%     2013.000000      0.000000      0.000000      0.000000      0.000000   \n",
       "50%     2014.000000      0.000000      0.000000      0.000000      0.000000   \n",
       "75%     2014.000000      2.000000      1.000000      0.000000      0.000000   \n",
       "max     2014.000000     96.000000     86.000000     19.000000      3.000000   \n",
       "\n",
       "          est other  \n",
       "count  25444.000000  \n",
       "mean       0.280380  \n",
       "std        0.718911  \n",
       "min        0.000000  \n",
       "25%        0.000000  \n",
       "50%        0.000000  \n",
       "75%        0.000000  \n",
       "max        9.000000  \n",
       "\n",
       "[8 rows x 60 columns]"
      ]
     },
     "execution_count": 10,
     "metadata": {},
     "output_type": "execute_result"
    }
   ],
   "source": [
    "amgd.describe()"
   ]
  },
  {
   "cell_type": "code",
   "execution_count": 16,
   "id": "382e471f",
   "metadata": {},
   "outputs": [
    {
     "data": {
      "text/plain": [
       "['zip',\n",
       " 'total population',\n",
       " 'ozone',\n",
       " 'ozone pctl',\n",
       " 'pm2.5',\n",
       " 'pm2.5 pctl',\n",
       " 'diesel pm',\n",
       " 'diesel pm pctl',\n",
       " 'pesticides',\n",
       " 'pesticides pctl',\n",
       " 'traffic',\n",
       " 'traffic pctl',\n",
       " 'cleanup sites',\n",
       " 'cleanup sites pctl',\n",
       " 'groundwater threats',\n",
       " 'groundwater threats pctl',\n",
       " 'haz. waste',\n",
       " 'haz. waste pctl',\n",
       " 'imp. water bodies',\n",
       " 'imp. water bodies pctl',\n",
       " 'solid waste',\n",
       " 'solid waste pctl',\n",
       " 'pollution burden',\n",
       " 'pollution burden score',\n",
       " 'asthma',\n",
       " 'asthma pctl',\n",
       " 'low birth weight',\n",
       " 'low birth weight pctl',\n",
       " 'education',\n",
       " 'education pctl',\n",
       " 'linguistic isolation',\n",
       " 'linguistic isolation pctl',\n",
       " 'poverty',\n",
       " 'poverty pctl',\n",
       " 'pop. char. ',\n",
       " 'pop. char. score',\n",
       " 'ces_score',\n",
       " 'ces_per_range',\n",
       " 'year',\n",
       " 'census tract',\n",
       " 'county',\n",
       " 'drinking water',\n",
       " 'drinking water pctl',\n",
       " 'tox. release',\n",
       " 'tox. release pctl',\n",
       " 'pollution burden pctl',\n",
       " 'unemployment',\n",
       " 'unemployment pctl',\n",
       " 'pop. char. pctl',\n",
       " 'city',\n",
       " 'latitude',\n",
       " 'longitude',\n",
       " 'ces_per',\n",
       " 'cardiovascular disease',\n",
       " 'cardiovascular disease pctl',\n",
       " 'housing burden',\n",
       " 'housing burden pctl',\n",
       " 'census_year',\n",
       " 'est total',\n",
       " 'est gen',\n",
       " 'est cold',\n",
       " 'est farm',\n",
       " 'est other']"
      ]
     },
     "execution_count": 16,
     "metadata": {},
     "output_type": "execute_result"
    }
   ],
   "source": [
    "list(amgd.columns)"
   ]
  },
  {
   "cell_type": "code",
   "execution_count": 79,
   "id": "3dab8307",
   "metadata": {},
   "outputs": [],
   "source": [
    "#cutting out percentiles , lat/lon, zip, census tract, \"scores\"\n",
    "initial_columns_to_fit =[\n",
    " 'total population',\n",
    " 'ozone',\n",
    " 'pm2.5',\n",
    " 'diesel pm',\n",
    " 'pesticides',\n",
    " 'traffic',\n",
    " 'cleanup sites',\n",
    " 'groundwater threats',\n",
    " 'haz. waste',\n",
    " 'imp. water bodies',\n",
    " 'solid waste',\n",
    " 'pollution burden',\n",
    " 'asthma',\n",
    " 'low birth weight',\n",
    " 'education',\n",
    " 'linguistic isolation',\n",
    " 'poverty',\n",
    " 'pop. char. ',\n",
    " 'drinking water',\n",
    " 'tox. release',\n",
    " 'unemployment',\n",
    " 'ces_per',\n",
    " 'cardiovascular disease',\n",
    " 'housing burden',\n",
    " 'est total',\n",
    " 'est gen',\n",
    " 'est cold',\n",
    " 'est farm',\n",
    " 'est other']"
   ]
  },
  {
   "cell_type": "code",
   "execution_count": 80,
   "id": "61d45d9b",
   "metadata": {
    "scrolled": true
   },
   "outputs": [
    {
     "data": {
      "text/plain": [
       "total population            int64\n",
       "ozone                     float64\n",
       "pm2.5                     float64\n",
       "diesel pm                 float64\n",
       "pesticides                float64\n",
       "traffic                   float64\n",
       "cleanup sites             float64\n",
       "groundwater threats       float64\n",
       "haz. waste                float64\n",
       "imp. water bodies           int64\n",
       "solid waste               float64\n",
       "pollution burden          float64\n",
       "asthma                    float64\n",
       "low birth weight          float64\n",
       "education                 float64\n",
       "linguistic isolation      float64\n",
       "poverty                   float64\n",
       "pop. char.                float64\n",
       "drinking water            float64\n",
       "tox. release              float64\n",
       "unemployment              float64\n",
       "ces_per                   float64\n",
       "cardiovascular disease    float64\n",
       "housing burden            float64\n",
       "est total                   int64\n",
       "est gen                     int64\n",
       "est cold                    int64\n",
       "est farm                    int64\n",
       "est other                   int64\n",
       "dtype: object"
      ]
     },
     "execution_count": 80,
     "metadata": {},
     "output_type": "execute_result"
    }
   ],
   "source": [
    "amgd[initial_columns_to_fit].dtypes"
   ]
  },
  {
   "cell_type": "code",
   "execution_count": 81,
   "id": "943d5516",
   "metadata": {
    "scrolled": true
   },
   "outputs": [
    {
     "data": {
      "text/plain": [
       "total population             0\n",
       "ozone                      111\n",
       "pm2.5                      158\n",
       "diesel pm                    0\n",
       "pesticides                   0\n",
       "traffic                     91\n",
       "cleanup sites                0\n",
       "groundwater threats          0\n",
       "haz. waste                   0\n",
       "imp. water bodies            0\n",
       "solid waste                  0\n",
       "pollution burden             0\n",
       "asthma                      21\n",
       "low birth weight           626\n",
       "education                  325\n",
       "linguistic isolation      1043\n",
       "poverty                    285\n",
       "pop. char.                 274\n",
       "drinking water            1420\n",
       "tox. release              1351\n",
       "unemployment              2010\n",
       "ces_per                   9583\n",
       "cardiovascular disease    9385\n",
       "housing burden            9676\n",
       "est total                    0\n",
       "est gen                      0\n",
       "est cold                     0\n",
       "est farm                     0\n",
       "est other                    0\n",
       "dtype: int64"
      ]
     },
     "execution_count": 81,
     "metadata": {},
     "output_type": "execute_result"
    }
   ],
   "source": [
    "amgd[initial_columns_to_fit].isna().sum()"
   ]
  },
  {
   "cell_type": "code",
   "execution_count": 82,
   "id": "5736e29b",
   "metadata": {},
   "outputs": [],
   "source": [
    "# make a dataframe with just the initial_columns_to_fit, and all NaNs filled with median.\n",
    "amgd_cut = amgd[initial_columns_to_fit].fillna(amgd[initial_columns_to_fit].median())"
   ]
  },
  {
   "cell_type": "code",
   "execution_count": 83,
   "id": "6ef17c4c",
   "metadata": {},
   "outputs": [
    {
     "data": {
      "text/plain": [
       "total population          4556.000000\n",
       "ozone                        0.045884\n",
       "pm2.5                       10.370000\n",
       "diesel pm                    7.650000\n",
       "pesticides                   0.000000\n",
       "traffic                    814.370656\n",
       "cleanup sites                2.250000\n",
       "groundwater threats          7.600000\n",
       "haz. waste                   0.130000\n",
       "imp. water bodies            1.000000\n",
       "solid waste                  0.200000\n",
       "pollution burden            41.813213\n",
       "asthma                      42.680000\n",
       "low birth weight             5.067230\n",
       "education                   13.900000\n",
       "linguistic isolation         7.300000\n",
       "poverty                     30.922021\n",
       "pop. char.                  49.622609\n",
       "drinking water             411.376372\n",
       "tox. release               417.521667\n",
       "unemployment                 8.310000\n",
       "ces_per                     50.010000\n",
       "cardiovascular disease       9.760000\n",
       "housing burden              17.600000\n",
       "est total                    0.000000\n",
       "est gen                      0.000000\n",
       "est cold                     0.000000\n",
       "est farm                     0.000000\n",
       "est other                    0.000000\n",
       "dtype: float64"
      ]
     },
     "execution_count": 83,
     "metadata": {},
     "output_type": "execute_result"
    }
   ],
   "source": [
    "amgd[initial_columns_to_fit].median()"
   ]
  },
  {
   "cell_type": "code",
   "execution_count": 84,
   "id": "25e4149c",
   "metadata": {},
   "outputs": [
    {
     "data": {
      "text/plain": [
       "total population          0\n",
       "ozone                     0\n",
       "pm2.5                     0\n",
       "diesel pm                 0\n",
       "pesticides                0\n",
       "traffic                   0\n",
       "cleanup sites             0\n",
       "groundwater threats       0\n",
       "haz. waste                0\n",
       "imp. water bodies         0\n",
       "solid waste               0\n",
       "pollution burden          0\n",
       "asthma                    0\n",
       "low birth weight          0\n",
       "education                 0\n",
       "linguistic isolation      0\n",
       "poverty                   0\n",
       "pop. char.                0\n",
       "drinking water            0\n",
       "tox. release              0\n",
       "unemployment              0\n",
       "ces_per                   0\n",
       "cardiovascular disease    0\n",
       "housing burden            0\n",
       "est total                 0\n",
       "est gen                   0\n",
       "est cold                  0\n",
       "est farm                  0\n",
       "est other                 0\n",
       "dtype: int64"
      ]
     },
     "execution_count": 84,
     "metadata": {},
     "output_type": "execute_result"
    }
   ],
   "source": [
    "amgd_cut.isna().sum()"
   ]
  },
  {
   "cell_type": "code",
   "execution_count": 85,
   "id": "eee05592",
   "metadata": {
    "scrolled": false
   },
   "outputs": [
    {
     "data": {
      "text/plain": [
       "<AxesSubplot:>"
      ]
     },
     "execution_count": 85,
     "metadata": {},
     "output_type": "execute_result"
    },
    {
     "data": {
      "image/png": "[encoded data removed]",
      "text/plain": [
       "<Figure size 864x864 with 2 Axes>"
      ]
     },
     "metadata": {
      "needs_background": "light"
     },
     "output_type": "display_data"
    }
   ],
   "source": [
    "correlations = amgd_cut.corr()\n",
    "plt.figure(figsize = (12,12))\n",
    "sns.heatmap(correlations)"
   ]
  },
  {
   "cell_type": "markdown",
   "id": "cc07e1a2",
   "metadata": {},
   "source": [
    "Wow. Why is diesel pm INVERSELY related to cardiovascular disease? It's probably because diesel drops with time, and or cardiovascular disease rises.\n",
    "\n",
    "remember: correlations here are kind of like 1-D linear regressions."
   ]
  },
  {
   "cell_type": "markdown",
   "id": "b4c53820",
   "metadata": {},
   "source": [
    "## simple linear regressions with these and health."
   ]
  },
  {
   "cell_type": "code",
   "execution_count": 88,
   "id": "4e0e2bd4",
   "metadata": {},
   "outputs": [],
   "source": [
    "health_cols = ['asthma', 'low birth weight', 'cardiovascular disease']\n",
    "X = amgd_cut.drop(columns = health_cols)\n",
    "y = amgd_cut[health_cols]\n",
    "\n",
    "X_train, X_test, y_train, y_test = train_test_split(X, y, test_size=0.1, random_state = 1)\n"
   ]
  },
  {
   "cell_type": "code",
   "execution_count": 118,
   "id": "535b4ed7",
   "metadata": {
    "scrolled": true
   },
   "outputs": [
    {
     "name": "stdout",
     "output_type": "stream",
     "text": [
      "Wall time: 83.8 ms\n"
     ]
    },
    {
     "data": {
      "text/plain": [
       "LinearRegression()"
      ]
     },
     "execution_count": 118,
     "metadata": {},
     "output_type": "execute_result"
    }
   ],
   "source": [
    "%%time\n",
    "#fit to each.\n",
    "lr_asthma = LinearRegression()\n",
    "lr_asthma.fit(X_train, y_train['asthma'])\n",
    "\n",
    "lr_lbw = LinearRegression()\n",
    "lr_lbw.fit(X_train, y_train['low birth weight'])\n",
    "\n",
    "lr_cvd = LinearRegression()\n",
    "lr_cvd.fit(X_train, y_train['cardiovascular disease']);"
   ]
  },
  {
   "cell_type": "code",
   "execution_count": 102,
   "id": "701c8c9a",
   "metadata": {},
   "outputs": [
    {
     "data": {
      "text/plain": [
       "0.5929298481514989"
      ]
     },
     "execution_count": 102,
     "metadata": {},
     "output_type": "execute_result"
    }
   ],
   "source": [
    "lr_asthma.score(X_train, y_train['asthma'])"
   ]
  },
  {
   "cell_type": "code",
   "execution_count": 103,
   "id": "b45a4378",
   "metadata": {},
   "outputs": [
    {
     "data": {
      "text/plain": [
       "0.38478191660361283"
      ]
     },
     "execution_count": 103,
     "metadata": {},
     "output_type": "execute_result"
    }
   ],
   "source": [
    "lr_lbw.score(X_train, y_train['low birth weight'])"
   ]
  },
  {
   "cell_type": "code",
   "execution_count": 106,
   "id": "9190d470",
   "metadata": {},
   "outputs": [
    {
     "data": {
      "text/plain": [
       "0.4965985829427164"
      ]
     },
     "execution_count": 106,
     "metadata": {},
     "output_type": "execute_result"
    }
   ],
   "source": [
    "lr_cvd.score(X_train, y_train['cardiovascular disease'])"
   ]
  },
  {
   "cell_type": "code",
   "execution_count": 107,
   "id": "d955be35",
   "metadata": {},
   "outputs": [
    {
     "data": {
      "text/plain": [
       "0.59249008004936"
      ]
     },
     "execution_count": 107,
     "metadata": {},
     "output_type": "execute_result"
    }
   ],
   "source": [
    "lr_asthma.score(X_test, y_test['asthma'])"
   ]
  },
  {
   "cell_type": "code",
   "execution_count": 108,
   "id": "1017b708",
   "metadata": {},
   "outputs": [
    {
     "data": {
      "text/plain": [
       "0.4050070293729887"
      ]
     },
     "execution_count": 108,
     "metadata": {},
     "output_type": "execute_result"
    }
   ],
   "source": [
    "lr_lbw.score(X_test, y_test['low birth weight'])"
   ]
  },
  {
   "cell_type": "code",
   "execution_count": 109,
   "id": "57edf55d",
   "metadata": {},
   "outputs": [
    {
     "data": {
      "text/plain": [
       "0.5063605498988087"
      ]
     },
     "execution_count": 109,
     "metadata": {},
     "output_type": "execute_result"
    }
   ],
   "source": [
    "lr_cvd.score(X_test, y_test['cardiovascular disease'])"
   ]
  },
  {
   "cell_type": "markdown",
   "id": "23a3de91",
   "metadata": {},
   "source": [
    "The last few coefficients show the change with numbers of warehouse businesses."
   ]
  },
  {
   "cell_type": "code",
   "execution_count": 115,
   "id": "7a8849f5",
   "metadata": {},
   "outputs": [
    {
     "data": {
      "text/plain": [
       "Index(['est total', 'est gen', 'est cold', 'est farm', 'est other'], dtype='object')"
      ]
     },
     "execution_count": 115,
     "metadata": {},
     "output_type": "execute_result"
    }
   ],
   "source": [
    "# list columns to check against coefficients.\n",
    "amgd.columns[-5:]"
   ]
  },
  {
   "cell_type": "code",
   "execution_count": 116,
   "id": "b11dfbfa",
   "metadata": {
    "scrolled": true
   },
   "outputs": [
    {
     "data": {
      "text/plain": [
       "array([ 0.84450458, -0.90529518, -0.70546959,  3.7159282 , -1.26065885])"
      ]
     },
     "execution_count": 116,
     "metadata": {},
     "output_type": "execute_result"
    }
   ],
   "source": [
    "#asthma incidence rate, cases/ 10k population\n",
    "lr_asthma.coef_[-5:]"
   ]
  },
  {
   "cell_type": "code",
   "execution_count": 117,
   "id": "ecb34d92",
   "metadata": {},
   "outputs": [
    {
     "data": {
      "text/plain": [
       "array([-0.04293162,  0.03693004,  0.00450155, -0.09182991,  0.0074667 ])"
      ]
     },
     "execution_count": 117,
     "metadata": {},
     "output_type": "execute_result"
    }
   ],
   "source": [
    "#low birth weight, %age\n",
    "lr_lbw.coef_[-5:]"
   ]
  },
  {
   "cell_type": "code",
   "execution_count": 114,
   "id": "c8d6009a",
   "metadata": {},
   "outputs": [
    {
     "data": {
      "text/plain": [
       "array([-0.02720375,  0.04240864,  0.10847614, -0.21246871,  0.03438017])"
      ]
     },
     "execution_count": 114,
     "metadata": {},
     "output_type": "execute_result"
    }
   ],
   "source": [
    "#cardiovascular disease, incidence rate, cases/ 100 population\n",
    "lr_cvd.coef_[-5:]"
   ]
  },
  {
   "cell_type": "markdown",
   "id": "e7ad13a8",
   "metadata": {},
   "source": [
    "## simple linreg with just time and space"
   ]
  },
  {
   "cell_type": "code",
   "execution_count": 124,
   "id": "dcb27c65",
   "metadata": {},
   "outputs": [],
   "source": [
    "amgd_ts_cut = amgd.dropna()[timespace_cols + health_cols]"
   ]
  },
  {
   "cell_type": "code",
   "execution_count": 127,
   "id": "4aa9eec7",
   "metadata": {},
   "outputs": [],
   "source": [
    "timespace_cols = ['year', 'latitude', 'longitude']\n",
    "X = amgd_ts_cut[timespace_cols]\n",
    "y = amgd_ts_cut[health_cols]\n",
    "\n",
    "X_train, X_test, y_train, y_test = train_test_split(X, y, test_size=0.1, random_state=1)"
   ]
  },
  {
   "cell_type": "code",
   "execution_count": 129,
   "id": "bd7dc0d8",
   "metadata": {},
   "outputs": [],
   "source": [
    "#asthma\n",
    "lrts_a = LinearRegression()\n",
    "lrts_a.fit(X_train, y_train['asthma'])\n",
    "\n",
    "#low birth weight\n",
    "lrts_b = LinearRegression()\n",
    "lrts_b.fit(X_train, y_train['low birth weight'])\n",
    "\n",
    "#cardiovascular disease\n",
    "lrts_c = LinearRegression()\n",
    "lrts_c.fit(X_train, y_train['cardiovascular disease']);"
   ]
  },
  {
   "cell_type": "code",
   "execution_count": 136,
   "id": "53447cf8",
   "metadata": {},
   "outputs": [
    {
     "data": {
      "text/plain": [
       "(0.041981820590096475, 0.06041174892784107)"
      ]
     },
     "execution_count": 136,
     "metadata": {},
     "output_type": "execute_result"
    }
   ],
   "source": [
    "#score asthma fits with space and time\n",
    "lrts_a.score(X_train, y_train['asthma']), lrts_a.score(X_test, y_test['asthma'])"
   ]
  },
  {
   "cell_type": "code",
   "execution_count": 137,
   "id": "26076aca",
   "metadata": {},
   "outputs": [
    {
     "data": {
      "text/plain": [
       "array([-0.04077386,  7.47974512,  5.81483506])"
      ]
     },
     "execution_count": 137,
     "metadata": {},
     "output_type": "execute_result"
    }
   ],
   "source": [
    "#asthma decreases with time, increases with latitude (north), increases with longitude (east)\n",
    "lrts_a.coef_"
   ]
  },
  {
   "cell_type": "code",
   "execution_count": 141,
   "id": "e072503b",
   "metadata": {
    "scrolled": true
   },
   "outputs": [
    {
     "data": {
      "text/plain": [
       "(0.006677862215139441, 0.00977908084432988)"
      ]
     },
     "execution_count": 141,
     "metadata": {},
     "output_type": "execute_result"
    }
   ],
   "source": [
    "#score low birth weight fits with space and time\n",
    "lrts_b.score(X_train, y_train['low birth weight']), lrts_b.score(X_test, y_test['low birth weight'])"
   ]
  },
  {
   "cell_type": "code",
   "execution_count": 143,
   "id": "51093cd7",
   "metadata": {},
   "outputs": [
    {
     "data": {
      "text/plain": [
       "array([0.00864075, 0.02722813, 0.09034145])"
      ]
     },
     "execution_count": 143,
     "metadata": {},
     "output_type": "execute_result"
    }
   ],
   "source": [
    "# low birth weight coefs\n",
    "lrts_b.coef_"
   ]
  },
  {
   "cell_type": "code",
   "execution_count": 138,
   "id": "17757ced",
   "metadata": {},
   "outputs": [
    {
     "data": {
      "text/plain": [
       "(0.382536439907755, 0.3765247295343904)"
      ]
     },
     "execution_count": 138,
     "metadata": {},
     "output_type": "execute_result"
    }
   ],
   "source": [
    "#score cardiovascular fits with space and time\n",
    "lrts_c.score(X_train, y_train['cardiovascular disease']), lrts_c.score(X_test, y_test['cardiovascular disease'])"
   ]
  },
  {
   "cell_type": "code",
   "execution_count": 139,
   "id": "ec0b9cfc",
   "metadata": {
    "scrolled": true
   },
   "outputs": [
    {
     "data": {
      "text/plain": [
       "array([1.71997246, 2.06474579, 2.28605004])"
      ]
     },
     "execution_count": 139,
     "metadata": {},
     "output_type": "execute_result"
    }
   ],
   "source": [
    "# cvd increase with time, increases as you go north, and increases as you go east\n",
    "lrts_c.coef_"
   ]
  },
  {
   "cell_type": "markdown",
   "id": "b482c3f7",
   "metadata": {},
   "source": [
    "## simple linreg with just warehouse counts"
   ]
  },
  {
   "cell_type": "code",
   "execution_count": 148,
   "id": "190c0f8f",
   "metadata": {},
   "outputs": [
    {
     "data": {
      "text/plain": [
       "['est gen', 'est cold', 'est farm', 'est other']"
      ]
     },
     "execution_count": 148,
     "metadata": {},
     "output_type": "execute_result"
    }
   ],
   "source": [
    "#excluding total. It is not independent of the others for sure!\n",
    "warehouse_cols =list(amgd.columns[-4:])\n",
    "warehouse_cols"
   ]
  },
  {
   "cell_type": "code",
   "execution_count": 149,
   "id": "75947cdc",
   "metadata": {},
   "outputs": [],
   "source": [
    "amgd_wh_cut = amgd.dropna()[warehouse_cols + health_cols]"
   ]
  },
  {
   "cell_type": "code",
   "execution_count": 151,
   "id": "e219a049",
   "metadata": {},
   "outputs": [],
   "source": [
    "X = amgd_wh_cut[warehouse_cols]\n",
    "y = amgd_wh_cut[health_cols]\n",
    "\n",
    "X_train, X_test, y_train, y_test = train_test_split(X, y, test_size=0.1, random_state=1)"
   ]
  },
  {
   "cell_type": "code",
   "execution_count": 152,
   "id": "30aaf2b2",
   "metadata": {},
   "outputs": [],
   "source": [
    "#asthma\n",
    "lrwh_a = LinearRegression()\n",
    "lrwh_a.fit(X_train, y_train['asthma'])\n",
    "\n",
    "#low birth weight\n",
    "lrwh_b = LinearRegression()\n",
    "lrwh_b.fit(X_train, y_train['low birth weight'])\n",
    "\n",
    "#cardiovascular disease\n",
    "lrwh_c = LinearRegression()\n",
    "lrwh_c.fit(X_train, y_train['cardiovascular disease']);"
   ]
  },
  {
   "cell_type": "code",
   "execution_count": 154,
   "id": "b50cd0e8",
   "metadata": {},
   "outputs": [
    {
     "data": {
      "text/plain": [
       "(0.02162017696184837, 0.021397245331703174)"
      ]
     },
     "execution_count": 154,
     "metadata": {},
     "output_type": "execute_result"
    }
   ],
   "source": [
    "#score asthma fits with warehouse counts\n",
    "lrwh_a.score(X_train, y_train['asthma']), lrwh_a.score(X_test, y_test['asthma'])"
   ]
  },
  {
   "cell_type": "code",
   "execution_count": 155,
   "id": "cb6e99b9",
   "metadata": {},
   "outputs": [
    {
     "data": {
      "text/plain": [
       "(0.004197637879798988, 0.004047635760388579)"
      ]
     },
     "execution_count": 155,
     "metadata": {},
     "output_type": "execute_result"
    }
   ],
   "source": [
    "#score low birth weight fits with warehouse counts\n",
    "lrwh_b.score(X_train, y_train['low birth weight']), lrwh_b.score(X_test, y_test['low birth weight'])"
   ]
  },
  {
   "cell_type": "code",
   "execution_count": 156,
   "id": "2b8ee885",
   "metadata": {},
   "outputs": [
    {
     "data": {
      "text/plain": [
       "(0.021670901574785795, 0.02177387807216047)"
      ]
     },
     "execution_count": 156,
     "metadata": {},
     "output_type": "execute_result"
    }
   ],
   "source": [
    "#score cvd fits with warehouse counts\n",
    "lrwh_c.score(X_train, y_train['cardiovascular disease']), lrwh_c.score(X_test, y_test['cardiovascular disease'])"
   ]
  },
  {
   "cell_type": "code",
   "execution_count": null,
   "id": "34c8b584",
   "metadata": {},
   "outputs": [],
   "source": []
  }
 ],
 "metadata": {
  "kernelspec": {
   "display_name": "Python 3 (ipykernel)",
   "language": "python",
   "name": "python3"
  },
  "language_info": {
   "codemirror_mode": {
    "name": "ipython",
    "version": 3
   },
   "file_extension": ".py",
   "mimetype": "text/x-python",
   "name": "python",
   "nbconvert_exporter": "python",
   "pygments_lexer": "ipython3",
   "version": "3.9.7"
  }
 },
 "nbformat": 4,
 "nbformat_minor": 5
}
