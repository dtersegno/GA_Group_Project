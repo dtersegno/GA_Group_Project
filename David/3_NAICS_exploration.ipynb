{
 "cells": [
  {
   "cell_type": "markdown",
   "id": "8d207373",
   "metadata": {},
   "source": [
    "# NAICS\n",
    "North American Industry Classification Codes System\n",
    "\n",
    "David Tersegno\n",
    "\n",
    "4/15/22\n",
    "\n",
    "\n",
    "A brief look at [this code system](https://www2.census.gov/programs-surveys/cbp/technical-documentation/reference/naics-descriptions/naics2017.txt) for relevant industries for our project. We'll see how many warehouses, storage, logistics, shipping, etc. are in the associated data later. \n",
    "the file had to be resaved as utf8. It originally came as ANSI, which jupyter doesn't play well with.\n",
    "\n",
    "The data we hope to apply this to:\n",
    "[Data here](https://www.census.gov/programs-surveys/cbp/data/datasets.html),\n",
    "[FTP server for entire census data archive here](https://www2.census.gov/)\n",
    "\n",
    "This notebook confirms the NAICS codes for warehouse business types.\n",
    "\n"
   ]
  },
  {
   "cell_type": "markdown",
   "id": "0021ba84",
   "metadata": {},
   "source": [
    "## Import libraries and data"
   ]
  },
  {
   "cell_type": "code",
   "execution_count": 1,
   "id": "3f111d4a",
   "metadata": {},
   "outputs": [],
   "source": [
    "import pandas as pd\n",
    "import numpy as np"
   ]
  },
  {
   "cell_type": "code",
   "execution_count": 2,
   "id": "b396357d",
   "metadata": {},
   "outputs": [],
   "source": [
    "code_file_path = '../raw_data/naics2017_UTF8.txt'\n",
    "naics = pd.read_csv(code_file_path)"
   ]
  },
  {
   "cell_type": "code",
   "execution_count": 3,
   "id": "fb8a74ea",
   "metadata": {},
   "outputs": [
    {
     "data": {
      "text/html": [
       "<div>\n",
       "<style scoped>\n",
       "    .dataframe tbody tr th:only-of-type {\n",
       "        vertical-align: middle;\n",
       "    }\n",
       "\n",
       "    .dataframe tbody tr th {\n",
       "        vertical-align: top;\n",
       "    }\n",
       "\n",
       "    .dataframe thead th {\n",
       "        text-align: right;\n",
       "    }\n",
       "</style>\n",
       "<table border=\"1\" class=\"dataframe\">\n",
       "  <thead>\n",
       "    <tr style=\"text-align: right;\">\n",
       "      <th></th>\n",
       "      <th>NAICS</th>\n",
       "      <th>DESCRIPTION</th>\n",
       "    </tr>\n",
       "  </thead>\n",
       "  <tbody>\n",
       "    <tr>\n",
       "      <th>0</th>\n",
       "      <td>------</td>\n",
       "      <td>Total for all sectors</td>\n",
       "    </tr>\n",
       "    <tr>\n",
       "      <th>1</th>\n",
       "      <td>11----</td>\n",
       "      <td>Agriculture, Forestry, Fishing and Hunting</td>\n",
       "    </tr>\n",
       "    <tr>\n",
       "      <th>2</th>\n",
       "      <td>113///</td>\n",
       "      <td>Forestry and Logging</td>\n",
       "    </tr>\n",
       "    <tr>\n",
       "      <th>3</th>\n",
       "      <td>1131//</td>\n",
       "      <td>Timber Tract Operations</td>\n",
       "    </tr>\n",
       "    <tr>\n",
       "      <th>4</th>\n",
       "      <td>11311/</td>\n",
       "      <td>Timber Tract Operations</td>\n",
       "    </tr>\n",
       "    <tr>\n",
       "      <th>...</th>\n",
       "      <td>...</td>\n",
       "      <td>...</td>\n",
       "    </tr>\n",
       "    <tr>\n",
       "      <th>1998</th>\n",
       "      <td>81394/</td>\n",
       "      <td>Political Organizations</td>\n",
       "    </tr>\n",
       "    <tr>\n",
       "      <th>1999</th>\n",
       "      <td>813940</td>\n",
       "      <td>Political Organizations</td>\n",
       "    </tr>\n",
       "    <tr>\n",
       "      <th>2000</th>\n",
       "      <td>81399/</td>\n",
       "      <td>Other Similar Organizations (except Business, ...</td>\n",
       "    </tr>\n",
       "    <tr>\n",
       "      <th>2001</th>\n",
       "      <td>813990</td>\n",
       "      <td>Other Similar Organizations (except Business, ...</td>\n",
       "    </tr>\n",
       "    <tr>\n",
       "      <th>2002</th>\n",
       "      <td>99----</td>\n",
       "      <td>Industries not classified</td>\n",
       "    </tr>\n",
       "  </tbody>\n",
       "</table>\n",
       "<p>2003 rows × 2 columns</p>\n",
       "</div>"
      ],
      "text/plain": [
       "       NAICS                                        DESCRIPTION\n",
       "0     ------                              Total for all sectors\n",
       "1     11----         Agriculture, Forestry, Fishing and Hunting\n",
       "2     113///                               Forestry and Logging\n",
       "3     1131//                            Timber Tract Operations\n",
       "4     11311/                            Timber Tract Operations\n",
       "...      ...                                                ...\n",
       "1998  81394/                            Political Organizations\n",
       "1999  813940                            Political Organizations\n",
       "2000  81399/  Other Similar Organizations (except Business, ...\n",
       "2001  813990  Other Similar Organizations (except Business, ...\n",
       "2002  99----                          Industries not classified\n",
       "\n",
       "[2003 rows x 2 columns]"
      ]
     },
     "execution_count": 3,
     "metadata": {},
     "output_type": "execute_result"
    }
   ],
   "source": [
    "naics"
   ]
  },
  {
   "cell_type": "markdown",
   "id": "b65199ec",
   "metadata": {},
   "source": [
    "[This report](https://www.epipeline.com/mktng/nl-articles/general-warehousing-and-storage-2015.html) has a short list of relevant codes. It's focused on 493110: General Warehousing and Storage. It also refers to\n",
    "\n",
    "> Cross References:Renting or leasing space for self storage--are classified in Industry 531130, Lessors of Miniwarehouses and Self-Storage Units; and\n",
    "\n",
    ">Selling in combination with handling and/or distributing goods to other wholesale or retail establishments--are classified in Sector 42, Wholesale Trade."
   ]
  },
  {
   "cell_type": "code",
   "execution_count": 4,
   "id": "adc25828",
   "metadata": {},
   "outputs": [
    {
     "data": {
      "text/html": [
       "<div>\n",
       "<style scoped>\n",
       "    .dataframe tbody tr th:only-of-type {\n",
       "        vertical-align: middle;\n",
       "    }\n",
       "\n",
       "    .dataframe tbody tr th {\n",
       "        vertical-align: top;\n",
       "    }\n",
       "\n",
       "    .dataframe thead th {\n",
       "        text-align: right;\n",
       "    }\n",
       "</style>\n",
       "<table border=\"1\" class=\"dataframe\">\n",
       "  <thead>\n",
       "    <tr style=\"text-align: right;\">\n",
       "      <th></th>\n",
       "      <th>NAICS</th>\n",
       "      <th>DESCRIPTION</th>\n",
       "    </tr>\n",
       "  </thead>\n",
       "  <tbody>\n",
       "    <tr>\n",
       "      <th>1282</th>\n",
       "      <td>493110</td>\n",
       "      <td>General Warehousing and Storage</td>\n",
       "    </tr>\n",
       "  </tbody>\n",
       "</table>\n",
       "</div>"
      ],
      "text/plain": [
       "       NAICS                      DESCRIPTION\n",
       "1282  493110  General Warehousing and Storage"
      ]
     },
     "execution_count": 4,
     "metadata": {},
     "output_type": "execute_result"
    }
   ],
   "source": [
    "naics[naics['NAICS'] == '493110']"
   ]
  },
  {
   "cell_type": "code",
   "execution_count": 5,
   "id": "b6d1215d",
   "metadata": {},
   "outputs": [
    {
     "data": {
      "text/plain": [
       "[1282]"
      ]
     },
     "execution_count": 5,
     "metadata": {},
     "output_type": "execute_result"
    }
   ],
   "source": [
    "#cool. keep track of its index \n",
    "naics_list =[naics[naics['NAICS'] == '493110'].index[0]]\n",
    "naics_list"
   ]
  },
  {
   "cell_type": "code",
   "execution_count": 6,
   "id": "9f19d00d",
   "metadata": {},
   "outputs": [
    {
     "data": {
      "text/html": [
       "<div>\n",
       "<style scoped>\n",
       "    .dataframe tbody tr th:only-of-type {\n",
       "        vertical-align: middle;\n",
       "    }\n",
       "\n",
       "    .dataframe tbody tr th {\n",
       "        vertical-align: top;\n",
       "    }\n",
       "\n",
       "    .dataframe thead th {\n",
       "        text-align: right;\n",
       "    }\n",
       "</style>\n",
       "<table border=\"1\" class=\"dataframe\">\n",
       "  <thead>\n",
       "    <tr style=\"text-align: right;\">\n",
       "      <th></th>\n",
       "      <th>NAICS</th>\n",
       "      <th>DESCRIPTION</th>\n",
       "    </tr>\n",
       "  </thead>\n",
       "  <tbody>\n",
       "    <tr>\n",
       "      <th>1451</th>\n",
       "      <td>531130</td>\n",
       "      <td>Lessors of Miniwarehouses and Self-Storage Units</td>\n",
       "    </tr>\n",
       "  </tbody>\n",
       "</table>\n",
       "</div>"
      ],
      "text/plain": [
       "       NAICS                                       DESCRIPTION\n",
       "1451  531130  Lessors of Miniwarehouses and Self-Storage Units"
      ]
     },
     "execution_count": 6,
     "metadata": {},
     "output_type": "execute_result"
    }
   ],
   "source": [
    "naics[naics['NAICS'] == '531130']"
   ]
  },
  {
   "cell_type": "code",
   "execution_count": 7,
   "id": "4a209cb5",
   "metadata": {},
   "outputs": [
    {
     "data": {
      "text/plain": [
       "[1282, 1451]"
      ]
     },
     "execution_count": 7,
     "metadata": {},
     "output_type": "execute_result"
    }
   ],
   "source": [
    "# Not sure if this is for us, but for now, keep track of it\n",
    "naics_list.append(1451)\n",
    "naics_list"
   ]
  },
  {
   "cell_type": "code",
   "execution_count": 8,
   "id": "3209d4bf",
   "metadata": {},
   "outputs": [],
   "source": [
    "#make a copy of the original, because I'm gonna start cutting through this for anything else of relevance.\n",
    "naics_orig = naics.copy()"
   ]
  },
  {
   "cell_type": "code",
   "execution_count": 9,
   "id": "5b584fd4",
   "metadata": {},
   "outputs": [],
   "source": [
    "#removes the top 20 entries in the dataframe and prints out the top 20 of the result.\n",
    "def chopper(dataframe, number_to_cut = 20):\n",
    "    this_index_list = dataframe.index\n",
    "    chop_these_indices = this_index_list[:number_to_cut]\n",
    "    dataframe.drop(chop_these_indices, inplace = True)\n",
    "    return dataframe.head(number_to_cut)\n",
    "    "
   ]
  },
  {
   "cell_type": "code",
   "execution_count": 25,
   "id": "61095cd0",
   "metadata": {},
   "outputs": [],
   "source": [
    "naics_orig['starts_with_49'] = naics_orig.apply(lambda row: row['NAICS'].startswith('49'), axis = 1)"
   ]
  },
  {
   "cell_type": "code",
   "execution_count": 26,
   "id": "45f7075c",
   "metadata": {},
   "outputs": [
    {
     "data": {
      "text/plain": [
       "17"
      ]
     },
     "execution_count": 26,
     "metadata": {},
     "output_type": "execute_result"
    }
   ],
   "source": [
    "naics_orig['starts_with_49'].sum()"
   ]
  },
  {
   "cell_type": "code",
   "execution_count": 27,
   "id": "46f8423e",
   "metadata": {},
   "outputs": [
    {
     "data": {
      "text/html": [
       "<div>\n",
       "<style scoped>\n",
       "    .dataframe tbody tr th:only-of-type {\n",
       "        vertical-align: middle;\n",
       "    }\n",
       "\n",
       "    .dataframe tbody tr th {\n",
       "        vertical-align: top;\n",
       "    }\n",
       "\n",
       "    .dataframe thead th {\n",
       "        text-align: right;\n",
       "    }\n",
       "</style>\n",
       "<table border=\"1\" class=\"dataframe\">\n",
       "  <thead>\n",
       "    <tr style=\"text-align: right;\">\n",
       "      <th></th>\n",
       "      <th>NAICS</th>\n",
       "      <th>DESCRIPTION</th>\n",
       "      <th>starts_with_49</th>\n",
       "    </tr>\n",
       "  </thead>\n",
       "  <tbody>\n",
       "    <tr>\n",
       "      <th>1272</th>\n",
       "      <td>492///</td>\n",
       "      <td>Couriers and Messengers</td>\n",
       "      <td>True</td>\n",
       "    </tr>\n",
       "    <tr>\n",
       "      <th>1273</th>\n",
       "      <td>4921//</td>\n",
       "      <td>Couriers and Express Delivery Services</td>\n",
       "      <td>True</td>\n",
       "    </tr>\n",
       "    <tr>\n",
       "      <th>1274</th>\n",
       "      <td>49211/</td>\n",
       "      <td>Couriers and Express Delivery Services</td>\n",
       "      <td>True</td>\n",
       "    </tr>\n",
       "    <tr>\n",
       "      <th>1275</th>\n",
       "      <td>492110</td>\n",
       "      <td>Couriers and Express Delivery Services</td>\n",
       "      <td>True</td>\n",
       "    </tr>\n",
       "    <tr>\n",
       "      <th>1276</th>\n",
       "      <td>4922//</td>\n",
       "      <td>Local Messengers and Local Delivery</td>\n",
       "      <td>True</td>\n",
       "    </tr>\n",
       "    <tr>\n",
       "      <th>1277</th>\n",
       "      <td>49221/</td>\n",
       "      <td>Local Messengers and Local Delivery</td>\n",
       "      <td>True</td>\n",
       "    </tr>\n",
       "    <tr>\n",
       "      <th>1278</th>\n",
       "      <td>492210</td>\n",
       "      <td>Local Messengers and Local Delivery</td>\n",
       "      <td>True</td>\n",
       "    </tr>\n",
       "    <tr>\n",
       "      <th>1279</th>\n",
       "      <td>493///</td>\n",
       "      <td>Warehousing and Storage</td>\n",
       "      <td>True</td>\n",
       "    </tr>\n",
       "    <tr>\n",
       "      <th>1280</th>\n",
       "      <td>4931//</td>\n",
       "      <td>Warehousing and Storage</td>\n",
       "      <td>True</td>\n",
       "    </tr>\n",
       "    <tr>\n",
       "      <th>1281</th>\n",
       "      <td>49311/</td>\n",
       "      <td>General Warehousing and Storage</td>\n",
       "      <td>True</td>\n",
       "    </tr>\n",
       "    <tr>\n",
       "      <th>1282</th>\n",
       "      <td>493110</td>\n",
       "      <td>General Warehousing and Storage</td>\n",
       "      <td>True</td>\n",
       "    </tr>\n",
       "    <tr>\n",
       "      <th>1283</th>\n",
       "      <td>49312/</td>\n",
       "      <td>Refrigerated Warehousing and Storage</td>\n",
       "      <td>True</td>\n",
       "    </tr>\n",
       "    <tr>\n",
       "      <th>1284</th>\n",
       "      <td>493120</td>\n",
       "      <td>Refrigerated Warehousing and Storage</td>\n",
       "      <td>True</td>\n",
       "    </tr>\n",
       "    <tr>\n",
       "      <th>1285</th>\n",
       "      <td>49313/</td>\n",
       "      <td>Farm Product Warehousing and Storage</td>\n",
       "      <td>True</td>\n",
       "    </tr>\n",
       "    <tr>\n",
       "      <th>1286</th>\n",
       "      <td>493130</td>\n",
       "      <td>Farm Product Warehousing and Storage</td>\n",
       "      <td>True</td>\n",
       "    </tr>\n",
       "    <tr>\n",
       "      <th>1287</th>\n",
       "      <td>49319/</td>\n",
       "      <td>Other Warehousing and Storage</td>\n",
       "      <td>True</td>\n",
       "    </tr>\n",
       "    <tr>\n",
       "      <th>1288</th>\n",
       "      <td>493190</td>\n",
       "      <td>Other Warehousing and Storage</td>\n",
       "      <td>True</td>\n",
       "    </tr>\n",
       "  </tbody>\n",
       "</table>\n",
       "</div>"
      ],
      "text/plain": [
       "       NAICS                             DESCRIPTION  starts_with_49\n",
       "1272  492///                 Couriers and Messengers            True\n",
       "1273  4921//  Couriers and Express Delivery Services            True\n",
       "1274  49211/  Couriers and Express Delivery Services            True\n",
       "1275  492110  Couriers and Express Delivery Services            True\n",
       "1276  4922//     Local Messengers and Local Delivery            True\n",
       "1277  49221/     Local Messengers and Local Delivery            True\n",
       "1278  492210     Local Messengers and Local Delivery            True\n",
       "1279  493///                 Warehousing and Storage            True\n",
       "1280  4931//                 Warehousing and Storage            True\n",
       "1281  49311/         General Warehousing and Storage            True\n",
       "1282  493110         General Warehousing and Storage            True\n",
       "1283  49312/    Refrigerated Warehousing and Storage            True\n",
       "1284  493120    Refrigerated Warehousing and Storage            True\n",
       "1285  49313/    Farm Product Warehousing and Storage            True\n",
       "1286  493130    Farm Product Warehousing and Storage            True\n",
       "1287  49319/           Other Warehousing and Storage            True\n",
       "1288  493190           Other Warehousing and Storage            True"
      ]
     },
     "execution_count": 27,
     "metadata": {},
     "output_type": "execute_result"
    }
   ],
   "source": [
    "naics_orig[naics_orig['starts_with_49']]"
   ]
  },
  {
   "cell_type": "markdown",
   "id": "3881bca2",
   "metadata": {},
   "source": [
    "For now we can focus on warehouses.\n",
    "\n",
    "It looks like our codes are `493///` for Warehousing and Storage.\n",
    "`4931//` is the only subset of the above. (like taxonomy -- _sapiens_ is the only living species in _homo_)\n",
    "\n",
    "- `49311/`, `493110` General\n",
    "- `49312/`, `493120` Refrigerated\n",
    "- `49313/`, `493130` Farm Products\n",
    "- `49319/`, `493190` Other"
   ]
  },
  {
   "cell_type": "code",
   "execution_count": 4,
   "id": "eca5674a",
   "metadata": {
    "scrolled": false
   },
   "outputs": [
    {
     "data": {
      "text/html": [
       "<div>\n",
       "<style scoped>\n",
       "    .dataframe tbody tr th:only-of-type {\n",
       "        vertical-align: middle;\n",
       "    }\n",
       "\n",
       "    .dataframe tbody tr th {\n",
       "        vertical-align: top;\n",
       "    }\n",
       "\n",
       "    .dataframe thead th {\n",
       "        text-align: right;\n",
       "    }\n",
       "</style>\n",
       "<table border=\"1\" class=\"dataframe\">\n",
       "  <thead>\n",
       "    <tr style=\"text-align: right;\">\n",
       "      <th></th>\n",
       "      <th>NAICS</th>\n",
       "      <th>DESCRIPTION</th>\n",
       "    </tr>\n",
       "  </thead>\n",
       "  <tbody>\n",
       "    <tr>\n",
       "      <th>1279</th>\n",
       "      <td>493///</td>\n",
       "      <td>Warehousing and Storage</td>\n",
       "    </tr>\n",
       "  </tbody>\n",
       "</table>\n",
       "</div>"
      ],
      "text/plain": [
       "       NAICS              DESCRIPTION\n",
       "1279  493///  Warehousing and Storage"
      ]
     },
     "execution_count": 4,
     "metadata": {},
     "output_type": "execute_result"
    }
   ],
   "source": [
    "naics[naics['NAICS']=='493///']"
   ]
  },
  {
   "cell_type": "code",
   "execution_count": 8,
   "id": "e6e03ea0",
   "metadata": {},
   "outputs": [
    {
     "data": {
      "text/html": [
       "<div>\n",
       "<style scoped>\n",
       "    .dataframe tbody tr th:only-of-type {\n",
       "        vertical-align: middle;\n",
       "    }\n",
       "\n",
       "    .dataframe tbody tr th {\n",
       "        vertical-align: top;\n",
       "    }\n",
       "\n",
       "    .dataframe thead th {\n",
       "        text-align: right;\n",
       "    }\n",
       "</style>\n",
       "<table border=\"1\" class=\"dataframe\">\n",
       "  <thead>\n",
       "    <tr style=\"text-align: right;\">\n",
       "      <th></th>\n",
       "      <th>NAICS</th>\n",
       "      <th>DESCRIPTION</th>\n",
       "    </tr>\n",
       "  </thead>\n",
       "  <tbody>\n",
       "    <tr>\n",
       "      <th>1908</th>\n",
       "      <td>81----</td>\n",
       "      <td>Other Services (except Public Administration)</td>\n",
       "    </tr>\n",
       "  </tbody>\n",
       "</table>\n",
       "</div>"
      ],
      "text/plain": [
       "       NAICS                                    DESCRIPTION\n",
       "1908  81----  Other Services (except Public Administration)"
      ]
     },
     "execution_count": 8,
     "metadata": {},
     "output_type": "execute_result"
    }
   ],
   "source": [
    "naics[naics['NAICS']=='81----']"
   ]
  },
  {
   "cell_type": "code",
   "execution_count": 9,
   "id": "63888f92",
   "metadata": {
    "scrolled": true
   },
   "outputs": [
    {
     "data": {
      "text/html": [
       "<div>\n",
       "<style scoped>\n",
       "    .dataframe tbody tr th:only-of-type {\n",
       "        vertical-align: middle;\n",
       "    }\n",
       "\n",
       "    .dataframe tbody tr th {\n",
       "        vertical-align: top;\n",
       "    }\n",
       "\n",
       "    .dataframe thead th {\n",
       "        text-align: right;\n",
       "    }\n",
       "</style>\n",
       "<table border=\"1\" class=\"dataframe\">\n",
       "  <thead>\n",
       "    <tr style=\"text-align: right;\">\n",
       "      <th></th>\n",
       "      <th>NAICS</th>\n",
       "      <th>DESCRIPTION</th>\n",
       "    </tr>\n",
       "  </thead>\n",
       "  <tbody>\n",
       "    <tr>\n",
       "      <th>109</th>\n",
       "      <td>23----</td>\n",
       "      <td>Construction</td>\n",
       "    </tr>\n",
       "  </tbody>\n",
       "</table>\n",
       "</div>"
      ],
      "text/plain": [
       "      NAICS   DESCRIPTION\n",
       "109  23----  Construction"
      ]
     },
     "execution_count": 9,
     "metadata": {},
     "output_type": "execute_result"
    }
   ],
   "source": [
    "naics[naics['NAICS']=='23----']"
   ]
  },
  {
   "cell_type": "code",
   "execution_count": 10,
   "id": "6bbaca31",
   "metadata": {
    "scrolled": true
   },
   "outputs": [
    {
     "data": {
      "text/html": [
       "<div>\n",
       "<style scoped>\n",
       "    .dataframe tbody tr th:only-of-type {\n",
       "        vertical-align: middle;\n",
       "    }\n",
       "\n",
       "    .dataframe tbody tr th {\n",
       "        vertical-align: top;\n",
       "    }\n",
       "\n",
       "    .dataframe thead th {\n",
       "        text-align: right;\n",
       "    }\n",
       "</style>\n",
       "<table border=\"1\" class=\"dataframe\">\n",
       "  <thead>\n",
       "    <tr style=\"text-align: right;\">\n",
       "      <th></th>\n",
       "      <th>NAICS</th>\n",
       "      <th>DESCRIPTION</th>\n",
       "    </tr>\n",
       "  </thead>\n",
       "  <tbody>\n",
       "    <tr>\n",
       "      <th>995</th>\n",
       "      <td>44----</td>\n",
       "      <td>Retail Trade</td>\n",
       "    </tr>\n",
       "  </tbody>\n",
       "</table>\n",
       "</div>"
      ],
      "text/plain": [
       "      NAICS   DESCRIPTION\n",
       "995  44----  Retail Trade"
      ]
     },
     "execution_count": 10,
     "metadata": {},
     "output_type": "execute_result"
    }
   ],
   "source": [
    "naics[naics['NAICS']=='44----']"
   ]
  },
  {
   "cell_type": "code",
   "execution_count": 11,
   "id": "10567020",
   "metadata": {},
   "outputs": [
    {
     "data": {
      "text/html": [
       "<div>\n",
       "<style scoped>\n",
       "    .dataframe tbody tr th:only-of-type {\n",
       "        vertical-align: middle;\n",
       "    }\n",
       "\n",
       "    .dataframe tbody tr th {\n",
       "        vertical-align: top;\n",
       "    }\n",
       "\n",
       "    .dataframe thead th {\n",
       "        text-align: right;\n",
       "    }\n",
       "</style>\n",
       "<table border=\"1\" class=\"dataframe\">\n",
       "  <thead>\n",
       "    <tr style=\"text-align: right;\">\n",
       "      <th></th>\n",
       "      <th>NAICS</th>\n",
       "      <th>DESCRIPTION</th>\n",
       "    </tr>\n",
       "  </thead>\n",
       "  <tbody>\n",
       "    <tr>\n",
       "      <th>139</th>\n",
       "      <td>238///</td>\n",
       "      <td>Specialty Trade Contractors</td>\n",
       "    </tr>\n",
       "  </tbody>\n",
       "</table>\n",
       "</div>"
      ],
      "text/plain": [
       "      NAICS                  DESCRIPTION\n",
       "139  238///  Specialty Trade Contractors"
      ]
     },
     "execution_count": 11,
     "metadata": {},
     "output_type": "execute_result"
    }
   ],
   "source": [
    "naics[naics['NAICS']=='238///']"
   ]
  },
  {
   "cell_type": "code",
   "execution_count": null,
   "id": "1c733c49",
   "metadata": {},
   "outputs": [],
   "source": [
    "naics[naics['NAICS']=='238///']"
   ]
  },
  {
   "cell_type": "markdown",
   "id": "6aec43e8",
   "metadata": {},
   "source": [
    "## Next Step\n",
    "\n",
    "The following notebook, [Summing warehouse businesses by zip code with ZBP data](./4_summarizingZipsandWarehouses.ipynb), takes the ZBP census data and uses it to find the total number of warehouse businesses registered with each zip code in California."
   ]
  },
  {
   "cell_type": "code",
   "execution_count": null,
   "id": "5886f5f8",
   "metadata": {},
   "outputs": [],
   "source": []
  }
 ],
 "metadata": {
  "kernelspec": {
   "display_name": "Python 3 (ipykernel)",
   "language": "python",
   "name": "python3"
  },
  "language_info": {
   "codemirror_mode": {
    "name": "ipython",
    "version": 3
   },
   "file_extension": ".py",
   "mimetype": "text/x-python",
   "name": "python",
   "nbconvert_exporter": "python",
   "pygments_lexer": "ipython3",
   "version": "3.9.7"
  }
 },
 "nbformat": 4,
 "nbformat_minor": 5
}
