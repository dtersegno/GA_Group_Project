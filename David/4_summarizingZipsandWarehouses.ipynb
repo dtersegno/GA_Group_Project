{
 "cells": [
  {
   "cell_type": "markdown",
   "id": "3040a478",
   "metadata": {},
   "source": [
    "# Summing warehouse businesses by zip code with ZBP data\n",
    "\n",
    "DT\n",
    "\n",
    "4/20/22\n",
    "\n",
    "This requires the zip code data to be unzipped.\n",
    "ZBP data is in the same folders as the CBPs."
   ]
  },
  {
   "cell_type": "code",
   "execution_count": 6,
   "id": "1e7d1ab4",
   "metadata": {},
   "outputs": [],
   "source": [
    "import pandas as pd\n",
    "import os"
   ]
  },
  {
   "cell_type": "code",
   "execution_count": 7,
   "id": "77da148d",
   "metadata": {},
   "outputs": [
    {
     "data": {
      "text/plain": [
       "['cbp19cd.xlsx',\n",
       " 'cbp19co.zip',\n",
       " 'cbp19csa.zip',\n",
       " 'cbp19msa.zip',\n",
       " 'cbp19pr_ia_co.zip',\n",
       " 'cbp19pr_ia_st.zip',\n",
       " 'cbp19st.zip',\n",
       " 'cbp19us.zip',\n",
       " 'zbp19detail.txt',\n",
       " 'zbp19detail.zip',\n",
       " 'zbp19totals.zip']"
      ]
     },
     "execution_count": 7,
     "metadata": {},
     "output_type": "execute_result"
    }
   ],
   "source": [
    "os.listdir('../raw_data/cbp19/')"
   ]
  },
  {
   "cell_type": "code",
   "execution_count": 9,
   "id": "8039150e",
   "metadata": {},
   "outputs": [
    {
     "name": "stdout",
     "output_type": "stream",
     "text": [
      "<class 'pandas.core.frame.DataFrame'>\n",
      "RangeIndex: 2881311 entries, 0 to 2881310\n",
      "Data columns (total 16 columns):\n",
      " #   Column    Dtype \n",
      "---  ------    ----- \n",
      " 0   zip       int64 \n",
      " 1   name      object\n",
      " 2   naics     object\n",
      " 3   est       int64 \n",
      " 4   n<5       object\n",
      " 5   n5_9      object\n",
      " 6   n10_19    object\n",
      " 7   n20_49    object\n",
      " 8   n50_99    object\n",
      " 9   n100_249  object\n",
      " 10  n250_499  object\n",
      " 11  n500_999  object\n",
      " 12  n1000     object\n",
      " 13  city      object\n",
      " 14  stabbr    object\n",
      " 15  cty_name  object\n",
      "dtypes: int64(2), object(14)\n",
      "memory usage: 351.7+ MB\n",
      "Wall time: 10.4 s\n"
     ]
    }
   ],
   "source": [
    "%%time\n",
    "zbp19 = pd.read_csv('../raw_data/cbp19/zbp19detail.txt', encoding = 'ISO-8859-1')\n",
    "zbp19.info()"
   ]
  },
  {
   "cell_type": "code",
   "execution_count": 10,
   "id": "366058f9",
   "metadata": {},
   "outputs": [
    {
     "data": {
      "text/plain": [
       "33166    830\n",
       "10001    816\n",
       "92705    760\n",
       "11101    746\n",
       "80112    729\n",
       "        ... \n",
       "72812      1\n",
       "28272      1\n",
       "72776      1\n",
       "72769      1\n",
       "501        1\n",
       "Name: zip, Length: 35129, dtype: int64"
      ]
     },
     "execution_count": 10,
     "metadata": {},
     "output_type": "execute_result"
    }
   ],
   "source": [
    "zbp19['zip'].value_counts()"
   ]
  },
  {
   "cell_type": "code",
   "execution_count": 13,
   "id": "b918d00c",
   "metadata": {},
   "outputs": [
    {
     "data": {
      "text/plain": [
       "------    35129\n",
       "81----    22504\n",
       "23----    22427\n",
       "44----    21916\n",
       "238///    19475\n",
       "72----    19076\n",
       "813///    18897\n",
       "722///    18117\n",
       "62----    17955\n",
       "541///    17748\n",
       "54----    17748\n",
       "72251/    16735\n",
       "7225//    16735\n",
       "56----    16539\n",
       "813110    16416\n",
       "8131//    16416\n",
       "81311/    16416\n",
       "48----    16118\n",
       "561///    15812\n",
       "31----    15775\n",
       "Name: naics, dtype: int64"
      ]
     },
     "execution_count": 13,
     "metadata": {},
     "output_type": "execute_result"
    }
   ],
   "source": [
    "zbp19['naics'].value_counts()[:20]"
   ]
  },
  {
   "cell_type": "markdown",
   "id": "06fd50b7",
   "metadata": {},
   "source": [
    "There are 35129 total businesses.\n",
    "The big ones:\n",
    "- 81----    is Other Services.\n",
    "- 23----    is construction. (This could be useful when thinking about warehouses?? How do construction business work in terms of establishments vs sites?)\n",
    "- 44----\tRetail Trade\n",
    "- 238///\tSpecialty Trade Contractors\n",
    "\n",
    "More in the NAICS notebook.\n",
    "\n",
    "It will be helpful to first just extract only the rows with zips in cali."
   ]
  },
  {
   "cell_type": "code",
   "execution_count": null,
   "id": "aa65d5ae",
   "metadata": {},
   "outputs": [],
   "source": []
  }
 ],
 "metadata": {
  "kernelspec": {
   "display_name": "Python 3 (ipykernel)",
   "language": "python",
   "name": "python3"
  },
  "language_info": {
   "codemirror_mode": {
    "name": "ipython",
    "version": 3
   },
   "file_extension": ".py",
   "mimetype": "text/x-python",
   "name": "python",
   "nbconvert_exporter": "python",
   "pygments_lexer": "ipython3",
   "version": "3.9.7"
  }
 },
 "nbformat": 4,
 "nbformat_minor": 5
}
