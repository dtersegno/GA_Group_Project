{
 "cells": [
  {
   "cell_type": "markdown",
   "id": "c6259d92",
   "metadata": {},
   "source": [
    "# Matching aggregated CAES data with the zip - business counts data\n",
    "4/22/22\n",
    "\n",
    "DT"
   ]
  },
  {
   "cell_type": "code",
   "execution_count": 3,
   "id": "39b639ab",
   "metadata": {},
   "outputs": [],
   "source": [
    "import os\n",
    "import pandas as pd"
   ]
  },
  {
   "cell_type": "code",
   "execution_count": 4,
   "id": "62d60d32",
   "metadata": {},
   "outputs": [
    {
     "data": {
      "text/plain": [
       "['.ipynb_checkpoints',\n",
       " 'all_processed.csv',\n",
       " 'amazon.csv',\n",
       " 'df1_processed.csv',\n",
       " 'df2_processed.csv',\n",
       " 'df3_processed.csv',\n",
       " 'df4_processed.csv',\n",
       " 'initial.txt',\n",
       " 'unique_zips']"
      ]
     },
     "execution_count": 4,
     "metadata": {},
     "output_type": "execute_result"
    }
   ],
   "source": [
    "filepath = '../processed_data/'\n",
    "os.listdir(filepath)"
   ]
  },
  {
   "cell_type": "code",
   "execution_count": 5,
   "id": "063f7eff",
   "metadata": {},
   "outputs": [],
   "source": [
    "df = pd.read_csv(filepath + 'all_processed.csv')"
   ]
  },
  {
   "cell_type": "code",
   "execution_count": 6,
   "id": "66c67554",
   "metadata": {},
   "outputs": [
    {
     "name": "stdout",
     "output_type": "stream",
     "text": [
      "<class 'pandas.core.frame.DataFrame'>\n",
      "RangeIndex: 25874 entries, 0 to 25873\n",
      "Data columns (total 57 columns):\n",
      " #   Column                       Non-Null Count  Dtype  \n",
      "---  ------                       --------------  -----  \n",
      " 0   zip                          25874 non-null  int64  \n",
      " 1   total population             25874 non-null  int64  \n",
      " 2   ozone                        25671 non-null  float64\n",
      " 3   ozone pctl                   25671 non-null  float64\n",
      " 4   pm2.5                        25628 non-null  float64\n",
      " 5   pm2.5 pctl                   25628 non-null  float64\n",
      " 6   diesel pm                    25874 non-null  float64\n",
      " 7   diesel pm pctl               25874 non-null  float64\n",
      " 8   pesticides                   25874 non-null  float64\n",
      " 9   pesticides pctl              25874 non-null  float64\n",
      " 10  traffic                      25783 non-null  float64\n",
      " 11  traffic pctl                 25783 non-null  float64\n",
      " 12  cleanup sites                25874 non-null  float64\n",
      " 13  cleanup sites pctl           25874 non-null  float64\n",
      " 14  groundwater threats          25874 non-null  float64\n",
      " 15  groundwater threats pctl     25874 non-null  float64\n",
      " 16  haz. waste                   25874 non-null  float64\n",
      " 17  haz. waste pctl              25874 non-null  float64\n",
      " 18  imp. water bodies            25874 non-null  int64  \n",
      " 19  imp. water bodies pctl       25874 non-null  float64\n",
      " 20  solid waste                  25874 non-null  float64\n",
      " 21  solid waste pctl             25874 non-null  float64\n",
      " 22  pollution burden             25874 non-null  float64\n",
      " 23  pollution burden score       25874 non-null  float64\n",
      " 24  asthma                       25719 non-null  float64\n",
      " 25  asthma pctl                  25719 non-null  float64\n",
      " 26  low birth weight             24897 non-null  float64\n",
      " 27  low birth weight pctl        24897 non-null  float64\n",
      " 28  education                    25510 non-null  float64\n",
      " 29  education pctl               25510 non-null  float64\n",
      " 30  linguistic isolation         24485 non-null  float64\n",
      " 31  linguistic isolation pctl    24485 non-null  float64\n",
      " 32  poverty                      25477 non-null  float64\n",
      " 33  poverty pctl                 25477 non-null  float64\n",
      " 34  pop. char.                   25593 non-null  float64\n",
      " 35  pop. char. score             25593 non-null  float64\n",
      " 36  ces_score                    25593 non-null  float64\n",
      " 37  ces_per_range                25593 non-null  object \n",
      " 38  year                         25874 non-null  int64  \n",
      " 39  census tract                 24105 non-null  float64\n",
      " 40  county                       24105 non-null  object \n",
      " 41  drinking water               24024 non-null  float64\n",
      " 42  drinking water pctl          24024 non-null  float64\n",
      " 43  tox. release                 24093 non-null  float64\n",
      " 44  tox. release pctl            24093 non-null  float64\n",
      " 45  pollution burden pctl        24105 non-null  float64\n",
      " 46  unemployment                 23434 non-null  float64\n",
      " 47  unemployment pctl            23434 non-null  float64\n",
      " 48  pop. char. pctl              23834 non-null  float64\n",
      " 49  city                         24105 non-null  object \n",
      " 50  latitude                     24105 non-null  float64\n",
      " 51  longitude                    24105 non-null  float64\n",
      " 52  ces_per                      15861 non-null  float64\n",
      " 53  cardiovascular disease       16059 non-null  float64\n",
      " 54  cardiovascular disease pctl  16059 non-null  float64\n",
      " 55  housing burden               15768 non-null  float64\n",
      " 56  housing burden pctl          15768 non-null  float64\n",
      "dtypes: float64(50), int64(4), object(3)\n",
      "memory usage: 11.3+ MB\n"
     ]
    }
   ],
   "source": [
    "df.info()"
   ]
  },
  {
   "cell_type": "code",
   "execution_count": 9,
   "id": "79ae468d",
   "metadata": {},
   "outputs": [
    {
     "data": {
      "text/plain": [
       "array([2013, 2014, 2018, 2021], dtype=int64)"
      ]
     },
     "execution_count": 9,
     "metadata": {},
     "output_type": "execute_result"
    }
   ],
   "source": [
    "df['year'].unique()"
   ]
  },
  {
   "cell_type": "code",
   "execution_count": null,
   "id": "54a8e132",
   "metadata": {},
   "outputs": [],
   "source": []
  }
 ],
 "metadata": {
  "kernelspec": {
   "display_name": "Python 3 (ipykernel)",
   "language": "python",
   "name": "python3"
  },
  "language_info": {
   "codemirror_mode": {
    "name": "ipython",
    "version": 3
   },
   "file_extension": ".py",
   "mimetype": "text/x-python",
   "name": "python",
   "nbconvert_exporter": "python",
   "pygments_lexer": "ipython3",
   "version": "3.9.7"
  }
 },
 "nbformat": 4,
 "nbformat_minor": 5
}
