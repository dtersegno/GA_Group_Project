{
 "cells": [
  {
   "cell_type": "markdown",
   "id": "439070d5-5fc5-4022-9902-6da7a9c4488e",
   "metadata": {},
   "source": [
    "## Framework for simple regession models"
   ]
  },
  {
   "cell_type": "markdown",
   "id": "5829a397-570f-49e1-a4a2-af3e23f44bca",
   "metadata": {},
   "source": [
    "#### Marshall Cyrus"
   ]
  },
  {
   "cell_type": "markdown",
   "id": "f9900f29-da3b-4eb7-88b6-56141911f9c3",
   "metadata": {},
   "source": [
    "##### Imports"
   ]
  },
  {
   "cell_type": "code",
   "execution_count": 7,
   "id": "97c3d0a4-9549-4612-bed2-ffa29d35ff18",
   "metadata": {},
   "outputs": [],
   "source": [
    "import os\n",
    "import pandas as pd\n",
    "import numpy as np\n",
    "from sklearn.linear_model import LinearRegression\n",
    "from sklearn.model_selection import cross_val_score, GridSearchCV, train_test_split\n",
    "from sklearn.pipeline import Pipeline\n",
    "\n",
    "\n",
    "\n",
    "import matplotlib.pyplot as plt\n",
    "import seaborn as sns"
   ]
  },
  {
   "cell_type": "markdown",
   "id": "4e67c9f2-b0d3-4d73-8e0d-a3fe756031d4",
   "metadata": {},
   "source": [
    "#### Read in all processed data (experimenting)"
   ]
  },
  {
   "cell_type": "code",
   "execution_count": 81,
   "id": "807217cb-7b76-4386-8ecd-9cb27287767a",
   "metadata": {
    "tags": []
   },
   "outputs": [],
   "source": [
    "filepath = '../../processed_data/all_merged.csv'\n",
    "all_enviro = pd.read_csv(filepath)"
   ]
  },
  {
   "cell_type": "code",
   "execution_count": 82,
   "id": "88979137-1344-401c-948a-abd52fe67588",
   "metadata": {},
   "outputs": [
    {
     "name": "stdout",
     "output_type": "stream",
     "text": [
      "<class 'pandas.core.frame.DataFrame'>\n",
      "RangeIndex: 25444 entries, 0 to 25443\n",
      "Data columns (total 63 columns):\n",
      " #   Column                       Non-Null Count  Dtype  \n",
      "---  ------                       --------------  -----  \n",
      " 0   zip                          25444 non-null  int64  \n",
      " 1   total population             25444 non-null  int64  \n",
      " 2   ozone                        25333 non-null  float64\n",
      " 3   ozone pctl                   25333 non-null  float64\n",
      " 4   pm2.5                        25286 non-null  float64\n",
      " 5   pm2.5 pctl                   25286 non-null  float64\n",
      " 6   diesel pm                    25444 non-null  float64\n",
      " 7   diesel pm pctl               25444 non-null  float64\n",
      " 8   pesticides                   25444 non-null  float64\n",
      " 9   pesticides pctl              25444 non-null  float64\n",
      " 10  traffic                      25353 non-null  float64\n",
      " 11  traffic pctl                 25353 non-null  float64\n",
      " 12  cleanup sites                25444 non-null  float64\n",
      " 13  cleanup sites pctl           25444 non-null  float64\n",
      " 14  groundwater threats          25444 non-null  float64\n",
      " 15  groundwater threats pctl     25444 non-null  float64\n",
      " 16  haz. waste                   25444 non-null  float64\n",
      " 17  haz. waste pctl              25444 non-null  float64\n",
      " 18  imp. water bodies            25444 non-null  int64  \n",
      " 19  imp. water bodies pctl       25444 non-null  float64\n",
      " 20  solid waste                  25444 non-null  float64\n",
      " 21  solid waste pctl             25444 non-null  float64\n",
      " 22  pollution burden             25444 non-null  float64\n",
      " 23  pollution burden score       25444 non-null  float64\n",
      " 24  asthma                       25423 non-null  float64\n",
      " 25  asthma pctl                  25423 non-null  float64\n",
      " 26  low birth weight             24818 non-null  float64\n",
      " 27  low birth weight pctl        24818 non-null  float64\n",
      " 28  education                    25119 non-null  float64\n",
      " 29  education pctl               25119 non-null  float64\n",
      " 30  linguistic isolation         24401 non-null  float64\n",
      " 31  linguistic isolation pctl    24401 non-null  float64\n",
      " 32  poverty                      25159 non-null  float64\n",
      " 33  poverty pctl                 25159 non-null  float64\n",
      " 34  pop. char.                   25170 non-null  float64\n",
      " 35  pop. char. score             25170 non-null  float64\n",
      " 36  ces_score                    25170 non-null  float64\n",
      " 37  ces_per_range                25170 non-null  object \n",
      " 38  year                         25444 non-null  int64  \n",
      " 39  census tract                 24105 non-null  float64\n",
      " 40  county                       24105 non-null  object \n",
      " 41  drinking water               24024 non-null  float64\n",
      " 42  drinking water pctl          24024 non-null  float64\n",
      " 43  tox. release                 24093 non-null  float64\n",
      " 44  tox. release pctl            24093 non-null  float64\n",
      " 45  pollution burden pctl        24105 non-null  float64\n",
      " 46  unemployment                 23434 non-null  float64\n",
      " 47  unemployment pctl            23434 non-null  float64\n",
      " 48  pop. char. pctl              23834 non-null  float64\n",
      " 49  city                         24105 non-null  object \n",
      " 50  latitude                     24105 non-null  float64\n",
      " 51  longitude                    24105 non-null  float64\n",
      " 52  ces_per                      15861 non-null  float64\n",
      " 53  cardiovascular disease       16059 non-null  float64\n",
      " 54  cardiovascular disease pctl  16059 non-null  float64\n",
      " 55  housing burden               15768 non-null  float64\n",
      " 56  housing burden pctl          15768 non-null  float64\n",
      " 57  census_year                  25444 non-null  int64  \n",
      " 58  est total                    25444 non-null  int64  \n",
      " 59  est gen                      25444 non-null  int64  \n",
      " 60  est cold                     25444 non-null  int64  \n",
      " 61  est farm                     25444 non-null  int64  \n",
      " 62  est other                    25444 non-null  int64  \n",
      "dtypes: float64(50), int64(10), object(3)\n",
      "memory usage: 12.2+ MB\n"
     ]
    }
   ],
   "source": [
    "all_enviro.info()"
   ]
  },
  {
   "cell_type": "markdown",
   "id": "edd27292-c4dd-4c3e-8311-d374a425ff7e",
   "metadata": {},
   "source": [
    "## Focusing on columns to test"
   ]
  },
  {
   "cell_type": "code",
   "execution_count": 20,
   "id": "5ef8b9a7-c97d-4680-bc69-d4f671a0ef3b",
   "metadata": {},
   "outputs": [],
   "source": [
    "columns_focus =[\n",
    " 'total population',\n",
    " 'ozone',\n",
    " 'pm2.5',\n",
    " 'diesel pm',\n",
    " 'pesticides',\n",
    " 'traffic',\n",
    " 'cleanup sites',\n",
    " 'groundwater threats',\n",
    " 'haz. waste',\n",
    " 'imp. water bodies',\n",
    " 'solid waste',\n",
    " 'pollution burden',\n",
    " 'asthma',\n",
    " 'low birth weight',\n",
    " 'education',\n",
    " 'linguistic isolation',\n",
    " 'poverty',\n",
    " 'pop. char. ',\n",
    " 'drinking water',\n",
    " 'tox. release',\n",
    " 'unemployment',\n",
    " 'ces_per',\n",
    " 'cardiovascular disease',\n",
    " 'housing burden',\n",
    " 'est total',\n",
    " 'est gen',\n",
    " 'est cold',\n",
    " 'est farm',\n",
    " 'est other']"
   ]
  },
  {
   "cell_type": "code",
   "execution_count": 21,
   "id": "0dd4f265-c30f-49c0-b85c-302bdf7ca893",
   "metadata": {},
   "outputs": [],
   "source": [
    "all_enviro_fix = all_enviro[columns_focus].fillna(all_enviro[columns_focus].median())"
   ]
  },
  {
   "cell_type": "code",
   "execution_count": 25,
   "id": "a9f1dcb2-763d-4b0c-b494-4f3c20aa880d",
   "metadata": {},
   "outputs": [
    {
     "data": {
      "text/plain": [
       "<AxesSubplot:>"
      ]
     },
     "execution_count": 25,
     "metadata": {},
     "output_type": "execute_result"
    },
    {
     "data": {
      "image/png": "[encoded data removed]",
      "text/plain": [
       "<Figure size 864x864 with 2 Axes>"
      ]
     },
     "metadata": {
      "needs_background": "light"
     },
     "output_type": "display_data"
    }
   ],
   "source": [
    "correlations = all_enviro_fix.corr()\n",
    "plt.figure(figsize = (12,12))\n",
    "sns.heatmap(correlations)"
   ]
  },
  {
   "cell_type": "markdown",
   "id": "de228f4c-3148-40b2-b056-807c991757b5",
   "metadata": {},
   "source": [
    "## SVR model with scaling"
   ]
  },
  {
   "cell_type": "markdown",
   "id": "085a5dff-2525-4bb7-80a3-938cadc9f354",
   "metadata": {},
   "source": [
    "#### Features for asthma"
   ]
  },
  {
   "cell_type": "code",
   "execution_count": 20,
   "id": "ce62ac82-2c1c-4cff-a725-31a19aceedca",
   "metadata": {},
   "outputs": [],
   "source": [
    "X = all_enviro[['total population',\n",
    " 'ozone',\n",
    " 'pm2.5',\n",
    " 'diesel pm',\n",
    " 'pesticides',\n",
    " 'traffic',\n",
    " 'cleanup sites',\n",
    " 'groundwater threats',\n",
    " 'haz. waste',\n",
    " 'imp. water bodies',\n",
    " 'solid waste',\n",
    " 'pollution burden',\n",
    " 'asthma',\n",
    " 'low birth weight',\n",
    " 'education',\n",
    " 'linguistic isolation',\n",
    " 'poverty',\n",
    " 'pop. char. ',\n",
    " 'drinking water',\n",
    " 'tox. release',\n",
    " 'unemployment',\n",
    " 'ces_per',\n",
    " 'cardiovascular disease',\n",
    " 'housing burden',\n",
    " 'est total',\n",
    " 'est gen',\n",
    " 'est cold',\n",
    " 'est farm',\n",
    " 'est other']]\n",
    "y = all_enviro['asthma']"
   ]
  },
  {
   "cell_type": "code",
   "execution_count": 21,
   "id": "0005f234-eeb7-48e5-b7b7-d6f0026eb0e8",
   "metadata": {},
   "outputs": [],
   "source": [
    "X=pd.get_dummies(X)\n",
    "X=X.fillna(X.median())\n",
    "y=pd.get_dummies(y)\n",
    "y=y.fillna(y.median())"
   ]
  },
  {
   "cell_type": "markdown",
   "id": "03636b5c-5f42-4a2d-9062-5a3abd3b3e5c",
   "metadata": {},
   "source": [
    "### Scaling for SVR"
   ]
  },
  {
   "cell_type": "code",
   "execution_count": 22,
   "id": "9afb2f7c-c7d6-4888-9ee8-5422a88ceec9",
   "metadata": {},
   "outputs": [],
   "source": [
    "from sklearn.preprocessing import StandardScaler\n",
    "sc_X = StandardScaler()\n",
    "sc_y = StandardScaler()\n",
    "X = sc_X.fit_transform(X)\n",
    "y = sc_y.fit_transform(y)\n"
   ]
  },
  {
   "cell_type": "code",
   "execution_count": 23,
   "id": "f014f8d2-e28f-455a-9a73-15743a634120",
   "metadata": {},
   "outputs": [],
   "source": [
    "from sklearn.svm import SVR"
   ]
  },
  {
   "cell_type": "code",
   "execution_count": 24,
   "id": "c41fdf86-29a7-4864-ae08-1752f5e39ed7",
   "metadata": {},
   "outputs": [],
   "source": [
    "X_train, X_test, y_train, y_test = train_test_split(X, y, test_size=0.2, random_state = 42)"
   ]
  },
  {
   "cell_type": "code",
   "execution_count": null,
   "id": "1b35b6be-ab56-4c38-a325-dd1dcb678ff9",
   "metadata": {},
   "outputs": [],
   "source": [
    "## RBF kernal SVR. "
   ]
  },
  {
   "cell_type": "code",
   "execution_count": 30,
   "id": "c69ad7a5-dbe4-4bdd-87f0-3dcac490e015",
   "metadata": {
    "tags": []
   },
   "outputs": [
    {
     "ename": "ValueError",
     "evalue": "y should be a 1d array, got an array of shape (20355, 12446) instead.",
     "output_type": "error",
     "traceback": [
      "\u001b[0;31m---------------------------------------------------------------------------\u001b[0m",
      "\u001b[0;31mValueError\u001b[0m                                Traceback (most recent call last)",
      "\u001b[0;32m/var/folders/zx/_x1xg_4n2hj8d_6dx7nmrm5m0000gn/T/ipykernel_29196/1676841343.py\u001b[0m in \u001b[0;36m<module>\u001b[0;34m\u001b[0m\n\u001b[1;32m      1\u001b[0m \u001b[0;31m# kernal = RBF\u001b[0m\u001b[0;34m\u001b[0m\u001b[0;34m\u001b[0m\u001b[0m\n\u001b[1;32m      2\u001b[0m \u001b[0msvr\u001b[0m \u001b[0;34m=\u001b[0m \u001b[0mSVR\u001b[0m\u001b[0;34m(\u001b[0m\u001b[0mkernel\u001b[0m\u001b[0;34m=\u001b[0m\u001b[0;34m'RBF'\u001b[0m\u001b[0;34m)\u001b[0m\u001b[0;34m\u001b[0m\u001b[0;34m\u001b[0m\u001b[0m\n\u001b[0;32m----> 3\u001b[0;31m \u001b[0msvr\u001b[0m\u001b[0;34m.\u001b[0m\u001b[0mfit\u001b[0m\u001b[0;34m(\u001b[0m\u001b[0mX_train\u001b[0m\u001b[0;34m,\u001b[0m\u001b[0my_train\u001b[0m\u001b[0;34m)\u001b[0m\u001b[0;34m\u001b[0m\u001b[0;34m\u001b[0m\u001b[0m\n\u001b[0m",
      "\u001b[0;32m~/opt/anaconda3/lib/python3.9/site-packages/sklearn/svm/_base.py\u001b[0m in \u001b[0;36mfit\u001b[0;34m(self, X, y, sample_weight)\u001b[0m\n\u001b[1;32m    167\u001b[0m             \u001b[0mcheck_consistent_length\u001b[0m\u001b[0;34m(\u001b[0m\u001b[0mX\u001b[0m\u001b[0;34m,\u001b[0m \u001b[0my\u001b[0m\u001b[0;34m)\u001b[0m\u001b[0;34m\u001b[0m\u001b[0;34m\u001b[0m\u001b[0m\n\u001b[1;32m    168\u001b[0m         \u001b[0;32melse\u001b[0m\u001b[0;34m:\u001b[0m\u001b[0;34m\u001b[0m\u001b[0;34m\u001b[0m\u001b[0m\n\u001b[0;32m--> 169\u001b[0;31m             X, y = self._validate_data(X, y, dtype=np.float64,\n\u001b[0m\u001b[1;32m    170\u001b[0m                                        \u001b[0morder\u001b[0m\u001b[0;34m=\u001b[0m\u001b[0;34m'C'\u001b[0m\u001b[0;34m,\u001b[0m \u001b[0maccept_sparse\u001b[0m\u001b[0;34m=\u001b[0m\u001b[0;34m'csr'\u001b[0m\u001b[0;34m,\u001b[0m\u001b[0;34m\u001b[0m\u001b[0;34m\u001b[0m\u001b[0m\n\u001b[1;32m    171\u001b[0m                                        accept_large_sparse=False)\n",
      "\u001b[0;32m~/opt/anaconda3/lib/python3.9/site-packages/sklearn/base.py\u001b[0m in \u001b[0;36m_validate_data\u001b[0;34m(self, X, y, reset, validate_separately, **check_params)\u001b[0m\n\u001b[1;32m    431\u001b[0m                 \u001b[0my\u001b[0m \u001b[0;34m=\u001b[0m \u001b[0mcheck_array\u001b[0m\u001b[0;34m(\u001b[0m\u001b[0my\u001b[0m\u001b[0;34m,\u001b[0m \u001b[0;34m**\u001b[0m\u001b[0mcheck_y_params\u001b[0m\u001b[0;34m)\u001b[0m\u001b[0;34m\u001b[0m\u001b[0;34m\u001b[0m\u001b[0m\n\u001b[1;32m    432\u001b[0m             \u001b[0;32melse\u001b[0m\u001b[0;34m:\u001b[0m\u001b[0;34m\u001b[0m\u001b[0;34m\u001b[0m\u001b[0m\n\u001b[0;32m--> 433\u001b[0;31m                 \u001b[0mX\u001b[0m\u001b[0;34m,\u001b[0m \u001b[0my\u001b[0m \u001b[0;34m=\u001b[0m \u001b[0mcheck_X_y\u001b[0m\u001b[0;34m(\u001b[0m\u001b[0mX\u001b[0m\u001b[0;34m,\u001b[0m \u001b[0my\u001b[0m\u001b[0;34m,\u001b[0m \u001b[0;34m**\u001b[0m\u001b[0mcheck_params\u001b[0m\u001b[0;34m)\u001b[0m\u001b[0;34m\u001b[0m\u001b[0;34m\u001b[0m\u001b[0m\n\u001b[0m\u001b[1;32m    434\u001b[0m             \u001b[0mout\u001b[0m \u001b[0;34m=\u001b[0m \u001b[0mX\u001b[0m\u001b[0;34m,\u001b[0m \u001b[0my\u001b[0m\u001b[0;34m\u001b[0m\u001b[0;34m\u001b[0m\u001b[0m\n\u001b[1;32m    435\u001b[0m \u001b[0;34m\u001b[0m\u001b[0m\n",
      "\u001b[0;32m~/opt/anaconda3/lib/python3.9/site-packages/sklearn/utils/validation.py\u001b[0m in \u001b[0;36minner_f\u001b[0;34m(*args, **kwargs)\u001b[0m\n\u001b[1;32m     61\u001b[0m             \u001b[0mextra_args\u001b[0m \u001b[0;34m=\u001b[0m \u001b[0mlen\u001b[0m\u001b[0;34m(\u001b[0m\u001b[0margs\u001b[0m\u001b[0;34m)\u001b[0m \u001b[0;34m-\u001b[0m \u001b[0mlen\u001b[0m\u001b[0;34m(\u001b[0m\u001b[0mall_args\u001b[0m\u001b[0;34m)\u001b[0m\u001b[0;34m\u001b[0m\u001b[0;34m\u001b[0m\u001b[0m\n\u001b[1;32m     62\u001b[0m             \u001b[0;32mif\u001b[0m \u001b[0mextra_args\u001b[0m \u001b[0;34m<=\u001b[0m \u001b[0;36m0\u001b[0m\u001b[0;34m:\u001b[0m\u001b[0;34m\u001b[0m\u001b[0;34m\u001b[0m\u001b[0m\n\u001b[0;32m---> 63\u001b[0;31m                 \u001b[0;32mreturn\u001b[0m \u001b[0mf\u001b[0m\u001b[0;34m(\u001b[0m\u001b[0;34m*\u001b[0m\u001b[0margs\u001b[0m\u001b[0;34m,\u001b[0m \u001b[0;34m**\u001b[0m\u001b[0mkwargs\u001b[0m\u001b[0;34m)\u001b[0m\u001b[0;34m\u001b[0m\u001b[0;34m\u001b[0m\u001b[0m\n\u001b[0m\u001b[1;32m     64\u001b[0m \u001b[0;34m\u001b[0m\u001b[0m\n\u001b[1;32m     65\u001b[0m             \u001b[0;31m# extra_args > 0\u001b[0m\u001b[0;34m\u001b[0m\u001b[0;34m\u001b[0m\u001b[0m\n",
      "\u001b[0;32m~/opt/anaconda3/lib/python3.9/site-packages/sklearn/utils/validation.py\u001b[0m in \u001b[0;36mcheck_X_y\u001b[0;34m(X, y, accept_sparse, accept_large_sparse, dtype, order, copy, force_all_finite, ensure_2d, allow_nd, multi_output, ensure_min_samples, ensure_min_features, y_numeric, estimator)\u001b[0m\n\u001b[1;32m    881\u001b[0m                         ensure_2d=False, dtype=None)\n\u001b[1;32m    882\u001b[0m     \u001b[0;32melse\u001b[0m\u001b[0;34m:\u001b[0m\u001b[0;34m\u001b[0m\u001b[0;34m\u001b[0m\u001b[0m\n\u001b[0;32m--> 883\u001b[0;31m         \u001b[0my\u001b[0m \u001b[0;34m=\u001b[0m \u001b[0mcolumn_or_1d\u001b[0m\u001b[0;34m(\u001b[0m\u001b[0my\u001b[0m\u001b[0;34m,\u001b[0m \u001b[0mwarn\u001b[0m\u001b[0;34m=\u001b[0m\u001b[0;32mTrue\u001b[0m\u001b[0;34m)\u001b[0m\u001b[0;34m\u001b[0m\u001b[0;34m\u001b[0m\u001b[0m\n\u001b[0m\u001b[1;32m    884\u001b[0m         \u001b[0m_assert_all_finite\u001b[0m\u001b[0;34m(\u001b[0m\u001b[0my\u001b[0m\u001b[0;34m)\u001b[0m\u001b[0;34m\u001b[0m\u001b[0;34m\u001b[0m\u001b[0m\n\u001b[1;32m    885\u001b[0m     \u001b[0;32mif\u001b[0m \u001b[0my_numeric\u001b[0m \u001b[0;32mand\u001b[0m \u001b[0my\u001b[0m\u001b[0;34m.\u001b[0m\u001b[0mdtype\u001b[0m\u001b[0;34m.\u001b[0m\u001b[0mkind\u001b[0m \u001b[0;34m==\u001b[0m \u001b[0;34m'O'\u001b[0m\u001b[0;34m:\u001b[0m\u001b[0;34m\u001b[0m\u001b[0;34m\u001b[0m\u001b[0m\n",
      "\u001b[0;32m~/opt/anaconda3/lib/python3.9/site-packages/sklearn/utils/validation.py\u001b[0m in \u001b[0;36minner_f\u001b[0;34m(*args, **kwargs)\u001b[0m\n\u001b[1;32m     61\u001b[0m             \u001b[0mextra_args\u001b[0m \u001b[0;34m=\u001b[0m \u001b[0mlen\u001b[0m\u001b[0;34m(\u001b[0m\u001b[0margs\u001b[0m\u001b[0;34m)\u001b[0m \u001b[0;34m-\u001b[0m \u001b[0mlen\u001b[0m\u001b[0;34m(\u001b[0m\u001b[0mall_args\u001b[0m\u001b[0;34m)\u001b[0m\u001b[0;34m\u001b[0m\u001b[0;34m\u001b[0m\u001b[0m\n\u001b[1;32m     62\u001b[0m             \u001b[0;32mif\u001b[0m \u001b[0mextra_args\u001b[0m \u001b[0;34m<=\u001b[0m \u001b[0;36m0\u001b[0m\u001b[0;34m:\u001b[0m\u001b[0;34m\u001b[0m\u001b[0;34m\u001b[0m\u001b[0m\n\u001b[0;32m---> 63\u001b[0;31m                 \u001b[0;32mreturn\u001b[0m \u001b[0mf\u001b[0m\u001b[0;34m(\u001b[0m\u001b[0;34m*\u001b[0m\u001b[0margs\u001b[0m\u001b[0;34m,\u001b[0m \u001b[0;34m**\u001b[0m\u001b[0mkwargs\u001b[0m\u001b[0;34m)\u001b[0m\u001b[0;34m\u001b[0m\u001b[0;34m\u001b[0m\u001b[0m\n\u001b[0m\u001b[1;32m     64\u001b[0m \u001b[0;34m\u001b[0m\u001b[0m\n\u001b[1;32m     65\u001b[0m             \u001b[0;31m# extra_args > 0\u001b[0m\u001b[0;34m\u001b[0m\u001b[0;34m\u001b[0m\u001b[0m\n",
      "\u001b[0;32m~/opt/anaconda3/lib/python3.9/site-packages/sklearn/utils/validation.py\u001b[0m in \u001b[0;36mcolumn_or_1d\u001b[0;34m(y, warn)\u001b[0m\n\u001b[1;32m    919\u001b[0m         \u001b[0;32mreturn\u001b[0m \u001b[0mnp\u001b[0m\u001b[0;34m.\u001b[0m\u001b[0mravel\u001b[0m\u001b[0;34m(\u001b[0m\u001b[0my\u001b[0m\u001b[0;34m)\u001b[0m\u001b[0;34m\u001b[0m\u001b[0;34m\u001b[0m\u001b[0m\n\u001b[1;32m    920\u001b[0m \u001b[0;34m\u001b[0m\u001b[0m\n\u001b[0;32m--> 921\u001b[0;31m     raise ValueError(\n\u001b[0m\u001b[1;32m    922\u001b[0m         \u001b[0;34m\"y should be a 1d array, \"\u001b[0m\u001b[0;34m\u001b[0m\u001b[0;34m\u001b[0m\u001b[0m\n\u001b[1;32m    923\u001b[0m         \"got an array of shape {} instead.\".format(shape))\n",
      "\u001b[0;31mValueError\u001b[0m: y should be a 1d array, got an array of shape (20355, 12446) instead."
     ]
    }
   ],
   "source": [
    "# kernal = RBF\n",
    "svr = SVR(kernel='RBF')\n",
    "svr.fit(X_train,y_train)"
   ]
  },
  {
   "cell_type": "code",
   "execution_count": null,
   "id": "830d5c4d-c392-4a55-ac12-c439b0596947",
   "metadata": {},
   "outputs": [],
   "source": [
    "print(f'Train accuracy {svr.score(X_train,y_train)}')\n",
    "print(f'Test accuracy {svr.score(X_test,y_test)}')"
   ]
  },
  {
   "cell_type": "markdown",
   "id": "9d1051fb-e048-44c0-92e9-df9d1b12c7a9",
   "metadata": {},
   "source": [
    "## ElasticNet Regression"
   ]
  },
  {
   "cell_type": "code",
   "execution_count": 83,
   "id": "6caa29a9-2cca-42d8-a9db-8693856d03f7",
   "metadata": {},
   "outputs": [],
   "source": [
    "X = all_enviro[['total population',\n",
    " 'ozone',\n",
    " 'pm2.5',\n",
    " 'diesel pm',\n",
    " 'pesticides',\n",
    " 'traffic',\n",
    " 'cleanup sites',\n",
    " 'groundwater threats',\n",
    " 'haz. waste',\n",
    " 'imp. water bodies',\n",
    " 'solid waste',\n",
    " 'pollution burden',\n",
    " 'asthma',\n",
    " 'low birth weight',\n",
    " 'education',\n",
    " 'linguistic isolation',\n",
    " 'poverty',\n",
    " 'pop. char. ',\n",
    " 'drinking water',\n",
    " 'tox. release',\n",
    " 'unemployment',\n",
    " 'ces_per',\n",
    " 'cardiovascular disease',\n",
    " 'housing burden',\n",
    " 'est total',\n",
    " 'est gen',\n",
    " 'est cold',\n",
    " 'est farm',\n",
    " 'est other']]\n",
    "y = all_enviro['asthma']"
   ]
  },
  {
   "cell_type": "code",
   "execution_count": 84,
   "id": "5b268bf5-69b8-434b-a57e-0030df83b946",
   "metadata": {},
   "outputs": [],
   "source": [
    "#X=pd.get_dummies(X)\n",
    "X=X.fillna(X.median())\n",
    "# y=pd.get_dummies(y)\n",
    "y=y.fillna(y.median())\n",
    "#y=y.astype(int)"
   ]
  },
  {
   "cell_type": "code",
   "execution_count": 85,
   "id": "2f7d27ca-fa9f-4d54-8e75-946427490f45",
   "metadata": {},
   "outputs": [],
   "source": [
    "from sklearn.linear_model import ElasticNet\n",
    "from sklearn.metrics import plot_confusion_matrix"
   ]
  },
  {
   "cell_type": "code",
   "execution_count": 86,
   "id": "854aec93-a2ff-48b9-b39c-45fccc7b8d03",
   "metadata": {},
   "outputs": [],
   "source": [
    "X_train, X_test, y_train,y_test = train_test_split(X,y,random_state= 42, test_size=.2)"
   ]
  },
  {
   "cell_type": "code",
   "execution_count": null,
   "id": "26edde20-abc4-4987-8547-885e31e8b9e0",
   "metadata": {},
   "outputs": [],
   "source": []
  },
  {
   "cell_type": "code",
   "execution_count": 87,
   "id": "c3254c89-8252-4eeb-9c33-1bd373edba7f",
   "metadata": {},
   "outputs": [],
   "source": [
    "elas = ElasticNet(alpha=.1).fit(X_train, y_train)"
   ]
  },
  {
   "cell_type": "code",
   "execution_count": 88,
   "id": "5a1b3027-6064-469e-b2df-b5ec93f53718",
   "metadata": {},
   "outputs": [
    {
     "name": "stdout",
     "output_type": "stream",
     "text": [
      "Train accuracy 0.9999999793025619\n",
      "Test accuracy 0.9999999790531198\n"
     ]
    }
   ],
   "source": [
    "print(f'Train accuracy {elas.score(X_train,y_train)}')\n",
    "print(f'Test accuracy {elas.score(X_test,y_test)}')"
   ]
  },
  {
   "cell_type": "code",
   "execution_count": null,
   "id": "5bb0d622-abc5-4b8d-a7c8-84c9e7b4c7d4",
   "metadata": {},
   "outputs": [],
   "source": [
    "## Lasso"
   ]
  },
  {
   "cell_type": "markdown",
   "id": "d45f26ac-c555-4cf9-a29d-55ffcf51bd19",
   "metadata": {},
   "source": [
    "## Random forest regressor best params "
   ]
  },
  {
   "cell_type": "code",
   "execution_count": 44,
   "id": "fd4be308-55ef-4647-af80-beb7f798438c",
   "metadata": {},
   "outputs": [],
   "source": [
    "from sklearn.ensemble import RandomForestRegressor\n",
    "rf = RandomForestRegressor(random_state = 42)\n",
    "from pprint import pprint"
   ]
  },
  {
   "cell_type": "code",
   "execution_count": 49,
   "id": "55668e7e-ba1a-4aba-af5c-c5c38e94ce56",
   "metadata": {},
   "outputs": [],
   "source": [
    "X = all_enviro[['total population',\n",
    " 'ozone',\n",
    " 'pm2.5',\n",
    " 'diesel pm',\n",
    " 'pesticides',\n",
    " 'traffic',\n",
    " 'cleanup sites',\n",
    " 'groundwater threats',\n",
    " 'haz. waste',\n",
    " 'imp. water bodies',\n",
    " 'solid waste',\n",
    " 'pollution burden',\n",
    " 'asthma',\n",
    " 'low birth weight',\n",
    " 'education',\n",
    " 'linguistic isolation',\n",
    " 'poverty',\n",
    " 'pop. char. ',\n",
    " 'drinking water',\n",
    " 'tox. release',\n",
    " 'unemployment',\n",
    " 'ces_per',\n",
    " 'cardiovascular disease',\n",
    " 'housing burden',\n",
    " 'est total',\n",
    " 'est gen',\n",
    " 'est cold',\n",
    " 'est farm',\n",
    " 'est other']]\n",
    "y = all_enviro['asthma']"
   ]
  },
  {
   "cell_type": "code",
   "execution_count": 51,
   "id": "bbc34373-9366-40ed-83b4-d41c84698feb",
   "metadata": {},
   "outputs": [],
   "source": [
    "X=X.fillna(X.median())"
   ]
  },
  {
   "cell_type": "code",
   "execution_count": 53,
   "id": "699ed168-874f-47ea-a07d-e2ba648286be",
   "metadata": {},
   "outputs": [],
   "source": [
    "y=y.fillna(y.median())"
   ]
  },
  {
   "cell_type": "code",
   "execution_count": null,
   "id": "5af810f6-cecd-48d3-96c0-558ef588c668",
   "metadata": {},
   "outputs": [],
   "source": [
    "X_train, X_test, y_train,y_test = train_test_split(X,y,random_state= 42, test_size=.2)"
   ]
  },
  {
   "cell_type": "code",
   "execution_count": 47,
   "id": "fd08e874-ac10-4df1-b072-4df6f3f55e3f",
   "metadata": {},
   "outputs": [],
   "source": [
    "n_estimators = [int(x) for x in np.linspace(start = 200, stop = 2000, num = 10)]\n",
    "max_features = ['auto', 'sqrt']\n",
    "max_depth = [int(x) for x in np.linspace(10, 110, num = 11)]\n",
    "max_depth.append(None)\n",
    "min_samples_split = [2, 5, 10]\n",
    "min_samples_leaf = [1, 2, 4]\n",
    "bootstrap = [True, False]"
   ]
  },
  {
   "cell_type": "code",
   "execution_count": 48,
   "id": "2011d6ff-1560-4828-be48-961a3ed4faf4",
   "metadata": {},
   "outputs": [
    {
     "name": "stdout",
     "output_type": "stream",
     "text": [
      "{'bootstrap': [True, False],\n",
      " 'max_depth': [10, 20, 30, 40, 50, 60, 70, 80, 90, 100, 110, None],\n",
      " 'max_features': ['auto', 'sqrt'],\n",
      " 'min_samples_leaf': [1, 2, 4],\n",
      " 'min_samples_split': [2, 5, 10],\n",
      " 'n_estimators': [200, 400, 600, 800, 1000, 1200, 1400, 1600, 1800, 2000]}\n"
     ]
    }
   ],
   "source": [
    "# grid search\n",
    "random_grid = {'n_estimators': n_estimators,\n",
    "               'max_features': max_features,\n",
    "               'max_depth': max_depth,\n",
    "               'min_samples_split': min_samples_split,\n",
    "               'min_samples_leaf': min_samples_leaf,\n",
    "               'bootstrap': bootstrap}\n",
    "pprint(random_grid)"
   ]
  },
  {
   "cell_type": "code",
   "execution_count": null,
   "id": "4525e8f4-02a5-45f8-a5b1-b3c36fd6408d",
   "metadata": {},
   "outputs": [],
   "source": [
    "#rf = RandomForestRegressor()\n",
    "\n",
    "rf_random = RandomizedSearchCV(estimator = rf, param_distributions = random_grid, n_iter = 100, cv = 3, verbose=2, random_state=42, n_jobs = -1)\n",
    "# Fit the random search model\n",
    "rf_random.fit(train_features, train_labels)"
   ]
  },
  {
   "cell_type": "code",
   "execution_count": null,
   "id": "70365264-6b54-4a3b-bdba-424d653f6ac9",
   "metadata": {},
   "outputs": [],
   "source": []
  }
 ],
 "metadata": {
  "kernelspec": {
   "display_name": "Python 3 (ipykernel)",
   "language": "python",
   "name": "python3"
  },
  "language_info": {
   "codemirror_mode": {
    "name": "ipython",
    "version": 3
   },
   "file_extension": ".py",
   "mimetype": "text/x-python",
   "name": "python",
   "nbconvert_exporter": "python",
   "pygments_lexer": "ipython3",
   "version": "3.9.7"
  }
 },
 "nbformat": 4,
 "nbformat_minor": 5
}
