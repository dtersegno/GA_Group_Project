{
 "cells": [
  {
   "cell_type": "markdown",
   "id": "6e0dccc9-efb8-478f-851e-550cca22d8fe",
   "metadata": {},
   "source": [
    "## XGboost regressor"
   ]
  },
  {
   "cell_type": "markdown",
   "id": "d7048733-65b7-4317-b4c8-811d75b55e99",
   "metadata": {},
   "source": [
    "#### Looking at tutorials to implement this model."
   ]
  },
  {
   "cell_type": "code",
   "execution_count": null,
   "id": "4046197c-3577-426f-aa7a-da0d52bdbc04",
   "metadata": {},
   "outputs": [],
   "source": [
    "filepath = '../../processed_data/all_merged.csv'\n",
    "all_enviro = pd.read_csv(filepath)"
   ]
  },
  {
   "cell_type": "code",
   "execution_count": null,
   "id": "e4544965-b67c-4bcf-a69a-36b5f73c8b7e",
   "metadata": {},
   "outputs": [],
   "source": [
    "from numpy import asarray\n",
    "from pandas import read_csv\n",
    "from xgboost import XGBRegressor\n",
    "\n",
    "#dataframe = read_csv(url, header=None)\n",
    "data = all_enviro\n",
    "\n",
    "X = all_enviro[['Total Population', 'Ozone', 'PM2.5', 'Diesel PM', 'Pesticides', 'Traffic', 'Cleanup Sites', 'Haz. Waste',\n",
    "               'Pollution Burden','Education','Poverty']]\n",
    "y = all_enviro['Asthma']\n",
    "# define model\n",
    "model = XGBRegressor()\n",
    "# fit model\n",
    "model.fit(X, y)\n",
    "\n",
    "# make a predictionb\n",
    "y_preds = model.predict(new_data)"
   ]
  },
  {
   "cell_type": "code",
   "execution_count": null,
   "id": "d7c8896f-b3da-436b-91f0-e49027328d64",
   "metadata": {},
   "outputs": [],
   "source": [
    "# from numpy import absolute\n",
    "# from pandas import read_csv\n",
    "# from sklearn.model_selection import cross_val_score\n",
    "# from sklearn.model_selection import RepeatedKFold\n",
    "# from xgboost import XGBRegressor\n",
    "# # load the dataset\n",
    "# url = 'https://raw.githubusercontent.com/jbrownlee/Datasets/master/housing.csv'\n",
    "# dataframe = read_csv(url, header=None)\n",
    "# data = dataframe.values\n",
    "# # split data into input and output columns\n",
    "# X, y = data[:, :-1], data[:, -1]\n",
    "# # define model\n",
    "# model = XGBRegressor()\n",
    "# # define model evaluation method\n",
    "# cv = RepeatedKFold(n_splits=10, n_repeats=3, random_state=1)\n",
    "# # evaluate model\n",
    "# scores = cross_val_score(model, X, y, scoring='neg_mean_absolute_error', cv=cv, n_jobs=-1)\n",
    "# # force scores to be positive\n",
    "# scores = absolute(scores)\n",
    "# print('Mean MAE: %.3f (%.3f)' % (scores.mean(), scores.std()) )"
   ]
  },
  {
   "cell_type": "code",
   "execution_count": null,
   "id": "77fe5e32-696f-4a82-9c03-e83a7715f38e",
   "metadata": {},
   "outputs": [],
   "source": [
    "# define model evaluation method\n",
    "cv = RepeatedKFold(n_splits=10, n_repeats=3, random_state=1)\n",
    "# evaluate model\n",
    "scores = cross_val_score(model, X, y, scoring='neg_mean_absolute_error', cv=cv, n_jobs=-1)"
   ]
  },
  {
   "cell_type": "code",
   "execution_count": null,
   "id": "ffe91113-59a8-43b2-8e28-37765ff76367",
   "metadata": {},
   "outputs": [],
   "source": []
  }
 ],
 "metadata": {
  "kernelspec": {
   "display_name": "Python 3 (ipykernel)",
   "language": "python",
   "name": "python3"
  },
  "language_info": {
   "codemirror_mode": {
    "name": "ipython",
    "version": 3
   },
   "file_extension": ".py",
   "mimetype": "text/x-python",
   "name": "python",
   "nbconvert_exporter": "python",
   "pygments_lexer": "ipython3",
   "version": "3.9.7"
  }
 },
 "nbformat": 4,
 "nbformat_minor": 5
}
