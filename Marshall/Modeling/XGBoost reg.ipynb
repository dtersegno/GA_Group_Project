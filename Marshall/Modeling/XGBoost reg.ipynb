{
 "cells": [
  {
   "cell_type": "code",
   "execution_count": null,
   "id": "4046197c-3577-426f-aa7a-da0d52bdbc04",
   "metadata": {},
   "outputs": [],
   "source": [
    "filepath = '../../processed_data/all_merged.csv'\n",
    "all_enviro = pd.read_csv(filepath)"
   ]
  },
  {
   "cell_type": "code",
   "execution_count": null,
   "id": "e4544965-b67c-4bcf-a69a-36b5f73c8b7e",
   "metadata": {},
   "outputs": [],
   "source": [
    "from numpy import asarray\n",
    "from pandas import read_csv\n",
    "from xgboost import XGBRegressor\n",
    "\n",
    "#dataframe = read_csv(url, header=None)\n",
    "data = all_enviro\n",
    "\n",
    "X = all_enviro[['Total Population', 'Ozone', 'PM2.5', 'Diesel PM', 'Pesticides', 'Traffic', 'Cleanup Sites', 'Haz. Waste',\n",
    "               'Pollution Burden','Education','Poverty']]\n",
    "y = all_enviro['Asthma']\n",
    "# define model\n",
    "model = XGBRegressor()\n",
    "# fit model\n",
    "model.fit(X, y)\n",
    "\n",
    "# make a predictionb\n",
    "y_preds = model.predict(new_data)"
   ]
  },
  {
   "cell_type": "code",
   "execution_count": null,
   "id": "d7c8896f-b3da-436b-91f0-e49027328d64",
   "metadata": {},
   "outputs": [],
   "source": []
  },
  {
   "cell_type": "code",
   "execution_count": null,
   "id": "77fe5e32-696f-4a82-9c03-e83a7715f38e",
   "metadata": {},
   "outputs": [],
   "source": []
  },
  {
   "cell_type": "code",
   "execution_count": null,
   "id": "ffe91113-59a8-43b2-8e28-37765ff76367",
   "metadata": {},
   "outputs": [],
   "source": []
  }
 ],
 "metadata": {
  "kernelspec": {
   "display_name": "Python 3 (ipykernel)",
   "language": "python",
   "name": "python3"
  },
  "language_info": {
   "codemirror_mode": {
    "name": "ipython",
    "version": 3
   },
   "file_extension": ".py",
   "mimetype": "text/x-python",
   "name": "python",
   "nbconvert_exporter": "python",
   "pygments_lexer": "ipython3",
   "version": "3.9.7"
  }
 },
 "nbformat": 4,
 "nbformat_minor": 5
}
