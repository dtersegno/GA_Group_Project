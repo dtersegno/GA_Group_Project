{
 "cells": [
  {
   "cell_type": "markdown",
   "id": "6e0dccc9-efb8-478f-851e-550cca22d8fe",
   "metadata": {},
   "source": [
    "## XGboost regressor"
   ]
  },
  {
   "cell_type": "markdown",
   "id": "d7048733-65b7-4317-b4c8-811d75b55e99",
   "metadata": {},
   "source": [
    "#### More Grid searches and continual parameter tuning"
   ]
  },
  {
   "cell_type": "code",
   "execution_count": 97,
   "id": "b12c2985-05cd-44ca-a067-fcfc91a3d890",
   "metadata": {
    "tags": []
   },
   "outputs": [],
   "source": [
    "import os\n",
    "import pandas as pd\n",
    "import numpy as np\n",
    "import seaborn as sns\n",
    "\n",
    "\n",
    "from xgboost import XGBRegressor\n",
    "from sklearn.model_selection import train_test_split\n",
    "from sklearn.preprocessing import StandardScaler\n",
    "from sklearn.model_selection import cross_val_score, GridSearchCV\n",
    "from sklearn.metrics import mean_squared_error\n",
    "from sklearn.metrics import r2_score"
   ]
  },
  {
   "cell_type": "markdown",
   "id": "886b0c88-ed3c-4011-ae18-aa3caa6bd5f6",
   "metadata": {},
   "source": [
    "#### Read in merged data"
   ]
  },
  {
   "cell_type": "code",
   "execution_count": 53,
   "id": "4046197c-3577-426f-aa7a-da0d52bdbc04",
   "metadata": {},
   "outputs": [],
   "source": [
    "filepath = '../../processed_data/all_merged.csv'\n",
    "enviro = pd.read_csv(filepath)"
   ]
  },
  {
   "cell_type": "code",
   "execution_count": 5,
   "id": "0f18c92e-e3fa-41f9-95ad-1ee06f248a1c",
   "metadata": {},
   "outputs": [
    {
     "name": "stdout",
     "output_type": "stream",
     "text": [
      "<class 'pandas.core.frame.DataFrame'>\n",
      "RangeIndex: 25444 entries, 0 to 25443\n",
      "Data columns (total 63 columns):\n",
      " #   Column                       Non-Null Count  Dtype  \n",
      "---  ------                       --------------  -----  \n",
      " 0   zip                          25444 non-null  int64  \n",
      " 1   total population             25444 non-null  int64  \n",
      " 2   ozone                        25333 non-null  float64\n",
      " 3   ozone pctl                   25333 non-null  float64\n",
      " 4   pm2.5                        25286 non-null  float64\n",
      " 5   pm2.5 pctl                   25286 non-null  float64\n",
      " 6   diesel pm                    25444 non-null  float64\n",
      " 7   diesel pm pctl               25444 non-null  float64\n",
      " 8   pesticides                   25444 non-null  float64\n",
      " 9   pesticides pctl              25444 non-null  float64\n",
      " 10  traffic                      25353 non-null  float64\n",
      " 11  traffic pctl                 25353 non-null  float64\n",
      " 12  cleanup sites                25444 non-null  float64\n",
      " 13  cleanup sites pctl           25444 non-null  float64\n",
      " 14  groundwater threats          25444 non-null  float64\n",
      " 15  groundwater threats pctl     25444 non-null  float64\n",
      " 16  haz. waste                   25444 non-null  float64\n",
      " 17  haz. waste pctl              25444 non-null  float64\n",
      " 18  imp. water bodies            25444 non-null  int64  \n",
      " 19  imp. water bodies pctl       25444 non-null  float64\n",
      " 20  solid waste                  25444 non-null  float64\n",
      " 21  solid waste pctl             25444 non-null  float64\n",
      " 22  pollution burden             25444 non-null  float64\n",
      " 23  pollution burden score       25444 non-null  float64\n",
      " 24  asthma                       25423 non-null  float64\n",
      " 25  asthma pctl                  25423 non-null  float64\n",
      " 26  low birth weight             24818 non-null  float64\n",
      " 27  low birth weight pctl        24818 non-null  float64\n",
      " 28  education                    25119 non-null  float64\n",
      " 29  education pctl               25119 non-null  float64\n",
      " 30  linguistic isolation         24401 non-null  float64\n",
      " 31  linguistic isolation pctl    24401 non-null  float64\n",
      " 32  poverty                      25159 non-null  float64\n",
      " 33  poverty pctl                 25159 non-null  float64\n",
      " 34  pop. char.                   25170 non-null  float64\n",
      " 35  pop. char. score             25170 non-null  float64\n",
      " 36  ces_score                    25170 non-null  float64\n",
      " 37  ces_per_range                25170 non-null  object \n",
      " 38  year                         25444 non-null  int64  \n",
      " 39  census tract                 24105 non-null  float64\n",
      " 40  county                       24105 non-null  object \n",
      " 41  drinking water               24024 non-null  float64\n",
      " 42  drinking water pctl          24024 non-null  float64\n",
      " 43  tox. release                 24093 non-null  float64\n",
      " 44  tox. release pctl            24093 non-null  float64\n",
      " 45  pollution burden pctl        24105 non-null  float64\n",
      " 46  unemployment                 23434 non-null  float64\n",
      " 47  unemployment pctl            23434 non-null  float64\n",
      " 48  pop. char. pctl              23834 non-null  float64\n",
      " 49  city                         24105 non-null  object \n",
      " 50  latitude                     24105 non-null  float64\n",
      " 51  longitude                    24105 non-null  float64\n",
      " 52  ces_per                      15861 non-null  float64\n",
      " 53  cardiovascular disease       16059 non-null  float64\n",
      " 54  cardiovascular disease pctl  16059 non-null  float64\n",
      " 55  housing burden               15768 non-null  float64\n",
      " 56  housing burden pctl          15768 non-null  float64\n",
      " 57  census_year                  25444 non-null  int64  \n",
      " 58  est total                    25444 non-null  int64  \n",
      " 59  est gen                      25444 non-null  int64  \n",
      " 60  est cold                     25444 non-null  int64  \n",
      " 61  est farm                     25444 non-null  int64  \n",
      " 62  est other                    25444 non-null  int64  \n",
      "dtypes: float64(50), int64(10), object(3)\n",
      "memory usage: 12.2+ MB\n"
     ]
    }
   ],
   "source": [
    "enviro.info()"
   ]
  },
  {
   "cell_type": "markdown",
   "id": "2d49a780-ad61-48cf-90f9-f4bb843eaf2a",
   "metadata": {},
   "source": [
    "## Third XGBoost Regression model with different Grid search parameters, specific features chosen are those high correlation and removed health effects that are other target variables."
   ]
  },
  {
   "cell_type": "markdown",
   "id": "5479342d-451c-4a53-bea7-090c41ca7d5d",
   "metadata": {},
   "source": [
    "##### cutting out percentiles , lat/lon, zip, census tract, \"scores\""
   ]
  },
  {
   "cell_type": "code",
   "execution_count": 67,
   "id": "4f70de00-5d7e-4ad6-8254-60e1f595e777",
   "metadata": {},
   "outputs": [],
   "source": [
    "X = enviro[['total population',\n",
    " 'ozone',\n",
    " 'pm2.5',\n",
    " 'diesel pm',\n",
    " 'pesticides',\n",
    " 'traffic',\n",
    " 'cleanup sites',\n",
    " 'groundwater threats',\n",
    " 'haz. waste',\n",
    " 'imp. water bodies',\n",
    " 'solid waste',\n",
    " 'pollution burden',\n",
    " 'low birth weight',\n",
    " 'education',\n",
    " 'linguistic isolation',\n",
    " 'poverty',\n",
    " 'pop. char. ',\n",
    " 'drinking water',\n",
    " 'tox. release',\n",
    " 'unemployment',\n",
    " 'ces_per',\n",
    " 'cardiovascular disease',\n",
    " 'housing burden',\n",
    " 'est total',\n",
    " 'est gen',\n",
    " 'est cold',\n",
    " 'est farm',\n",
    " 'est other']]\n",
    "y = enviro['asthma']"
   ]
  },
  {
   "cell_type": "code",
   "execution_count": 68,
   "id": "7709daf8-c465-41c3-b403-ff270bb20961",
   "metadata": {},
   "outputs": [],
   "source": [
    "### drop possible target health columns as well"
   ]
  },
  {
   "cell_type": "code",
   "execution_count": 69,
   "id": "99142d3d-264b-4e39-9642-d1b204efd996",
   "metadata": {},
   "outputs": [],
   "source": [
    "X = X.drop(columns = [ \n",
    "    # 'pop. char. ' \n",
    "    'cardiovascular disease', \n",
    "    'low birth weight'\n",
    "    # 'total population',\n",
    "    ])"
   ]
  },
  {
   "cell_type": "code",
   "execution_count": 70,
   "id": "6bbc9451-ad59-4178-83b9-c79b1b652b0d",
   "metadata": {},
   "outputs": [],
   "source": [
    "## further cleanup"
   ]
  },
  {
   "cell_type": "code",
   "execution_count": 71,
   "id": "257d6532-cb1b-44d6-bee1-5bf34aca09c4",
   "metadata": {},
   "outputs": [],
   "source": [
    "X=pd.get_dummies(X)\n",
    "X=X.fillna(X.median())\n",
    "\n",
    "#get rid of missing target columns\n",
    "X = X[~y.isna()]\n",
    "y = y[~y.isna()]"
   ]
  },
  {
   "cell_type": "markdown",
   "id": "1d54c2b0-d563-45aa-be66-1486c7114fee",
   "metadata": {},
   "source": [
    "#### Split into train test"
   ]
  },
  {
   "cell_type": "code",
   "execution_count": 72,
   "id": "430d28f4-4270-48b6-97de-aa3e5b3727c8",
   "metadata": {},
   "outputs": [],
   "source": [
    "X_train, X_test, y_train,y_test = train_test_split(X,y,random_state= 42, test_size=.22)"
   ]
  },
  {
   "cell_type": "code",
   "execution_count": 73,
   "id": "f930a9fb-2979-4e9e-b266-9d4db7f19c71",
   "metadata": {},
   "outputs": [],
   "source": [
    "## Scaling data"
   ]
  },
  {
   "cell_type": "code",
   "execution_count": 74,
   "id": "4617d3fd-10e3-4611-abe9-252cf044d265",
   "metadata": {},
   "outputs": [],
   "source": [
    "X_train=X_train.fillna(X_train.median())\n",
    "X_test = X_test.fillna(X_test.median())\n",
    "\n",
    "sc_X = StandardScaler()\n",
    "\n",
    "X_train = sc_X.fit_transform(X_train)\n",
    "X_test = sc_X.transform(X_test)"
   ]
  },
  {
   "cell_type": "code",
   "execution_count": 75,
   "id": "0d161f9d-de47-4f92-b39a-cefa149099aa",
   "metadata": {},
   "outputs": [],
   "source": [
    "xgreg = XGBRegressor().fit(X_train, y_train)"
   ]
  },
  {
   "cell_type": "code",
   "execution_count": 76,
   "id": "90eed2cd-3d94-44a0-b8f8-7a8880a061e9",
   "metadata": {},
   "outputs": [
    {
     "name": "stdout",
     "output_type": "stream",
     "text": [
      "Train accuracy 0.9158999157626224\n",
      "Test accuracy 0.7530615037770655\n"
     ]
    }
   ],
   "source": [
    "print(f'Train accuracy {xgreg.score(X_train,y_train)}')\n",
    "print(f'Test accuracy {xgreg.score(X_test,y_test)}')"
   ]
  },
  {
   "cell_type": "markdown",
   "id": "826bcab9-6555-4ec4-8d48-f46512e2bc9b",
   "metadata": {},
   "source": [
    "#### further refine with a Gridsearch and CV"
   ]
  },
  {
   "cell_type": "code",
   "execution_count": 77,
   "id": "0f91a6ff-26db-45a0-b528-fa078b45a737",
   "metadata": {},
   "outputs": [],
   "source": [
    "xgbs = GridSearchCV(\n",
    "            estimator=XGBRegressor(nthread=4),\n",
    "            param_grid={\"learning_rate\":[0.10,0.15,0.20],\n",
    "                        \"max_depth\": [ 3, 4, 5, 6, 8],\n",
    "                        \"min_child_weight\": [ 1, 3, 5, 7],\n",
    "                        \"gamma\":[ 0.0, 0.1, 0.2],\n",
    "                        \"colsample_bytree\":[ 0.3, 0.4],\n",
    "                       'nthread':[4]},\n",
    "            cv=3, scoring='neg_mean_squared_error', verbose=1, n_jobs=1)"
   ]
  },
  {
   "cell_type": "code",
   "execution_count": 78,
   "id": "9f5946f9-8c53-45a4-abd1-96d2b7facd3e",
   "metadata": {},
   "outputs": [
    {
     "name": "stdout",
     "output_type": "stream",
     "text": [
      "Fitting 3 folds for each of 360 candidates, totalling 1080 fits\n"
     ]
    }
   ],
   "source": [
    "outcome = xgbs.fit(X_train,y_train)"
   ]
  },
  {
   "cell_type": "code",
   "execution_count": 79,
   "id": "9f1d9c36-8c77-4660-ab96-acb0a0b88051",
   "metadata": {},
   "outputs": [],
   "source": [
    "xgreg = XGBRegressor(**xgbs.best_params_).fit(X_train, y_train)"
   ]
  },
  {
   "cell_type": "code",
   "execution_count": 92,
   "id": "184ca2bb-9423-4893-9564-bb5e11d782bc",
   "metadata": {},
   "outputs": [
    {
     "name": "stdout",
     "output_type": "stream",
     "text": [
      "Train accuracy 0.9472151826696329\n",
      "Test accuracy 0.7639090300436409\n"
     ]
    }
   ],
   "source": [
    "print(f'Train accuracy {xgreg.score(X_train,y_train)}')\n",
    "print(f'Test accuracy {xgreg.score(X_test,y_test)}')"
   ]
  },
  {
   "cell_type": "code",
   "execution_count": 81,
   "id": "3add5e5c-1bbf-4b26-bdd1-0aa2a982b854",
   "metadata": {},
   "outputs": [],
   "source": [
    "## RMSE score & r2_score metrics"
   ]
  },
  {
   "cell_type": "code",
   "execution_count": 93,
   "id": "fc77cbf2-1e41-47ec-97b9-9582151bb6cf",
   "metadata": {},
   "outputs": [],
   "source": [
    "preds = xgreg.predict(X_test)"
   ]
  },
  {
   "cell_type": "code",
   "execution_count": 96,
   "id": "e4b2a400-88b6-4ecc-aefb-4cee62b244ca",
   "metadata": {},
   "outputs": [],
   "source": [
    "#train_score= r2_score(y_train,preds)\n",
    "#test_score= r2_score(y_test,X_test)"
   ]
  },
  {
   "cell_type": "markdown",
   "id": "02e9c34c-2c48-441f-b1e3-b80940c23da2",
   "metadata": {},
   "source": [
    "#### RMSE score"
   ]
  },
  {
   "cell_type": "code",
   "execution_count": null,
   "id": "61a36d06-a15d-4b37-ac40-5d23464c6d83",
   "metadata": {},
   "outputs": [],
   "source": [
    "##### rmse = np.sqrt(mean_squared_error(y_test, preds))\n",
    "print(\"RMSE: %f\" % (rmse))"
   ]
  },
  {
   "cell_type": "markdown",
   "id": "83d35df8-d30b-48fc-844a-49839f9a9c12",
   "metadata": {},
   "source": [
    "#### "
   ]
  }
 ],
 "metadata": {
  "kernelspec": {
   "display_name": "Python 3 (ipykernel)",
   "language": "python",
   "name": "python3"
  },
  "language_info": {
   "codemirror_mode": {
    "name": "ipython",
    "version": 3
   },
   "file_extension": ".py",
   "mimetype": "text/x-python",
   "name": "python",
   "nbconvert_exporter": "python",
   "pygments_lexer": "ipython3",
   "version": "3.9.7"
  }
 },
 "nbformat": 4,
 "nbformat_minor": 5
}
