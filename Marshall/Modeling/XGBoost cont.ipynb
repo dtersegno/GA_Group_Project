{
 "cells": [
  {
   "cell_type": "markdown",
   "id": "6e0dccc9-efb8-478f-851e-550cca22d8fe",
   "metadata": {},
   "source": [
    "## XGboost regressor"
   ]
  },
  {
   "cell_type": "markdown",
   "id": "d7048733-65b7-4317-b4c8-811d75b55e99",
   "metadata": {},
   "source": [
    "#### More Grid searches and continual parameter tuning"
   ]
  },
  {
   "cell_type": "code",
   "execution_count": 1,
   "id": "b12c2985-05cd-44ca-a067-fcfc91a3d890",
   "metadata": {
    "tags": []
   },
   "outputs": [],
   "source": [
    "import os\n",
    "import pandas as pd\n",
    "import numpy as np\n",
    "\n",
    "\n",
    "from xgboost import XGBRegressor"
   ]
  },
  {
   "cell_type": "markdown",
   "id": "886b0c88-ed3c-4011-ae18-aa3caa6bd5f6",
   "metadata": {},
   "source": [
    "#### Read in merged data"
   ]
  },
  {
   "cell_type": "code",
   "execution_count": 7,
   "id": "4046197c-3577-426f-aa7a-da0d52bdbc04",
   "metadata": {},
   "outputs": [],
   "source": [
    "filepath = '../../processed_data/all_processed.csv'\n",
    "enviro = pd.read_csv(filepath)"
   ]
  },
  {
   "cell_type": "code",
   "execution_count": 8,
   "id": "0f18c92e-e3fa-41f9-95ad-1ee06f248a1c",
   "metadata": {},
   "outputs": [
    {
     "name": "stdout",
     "output_type": "stream",
     "text": [
      "<class 'pandas.core.frame.DataFrame'>\n",
      "RangeIndex: 25874 entries, 0 to 25873\n",
      "Data columns (total 57 columns):\n",
      " #   Column                       Non-Null Count  Dtype  \n",
      "---  ------                       --------------  -----  \n",
      " 0   zip                          25874 non-null  int64  \n",
      " 1   total population             25874 non-null  int64  \n",
      " 2   ozone                        25671 non-null  float64\n",
      " 3   ozone pctl                   25671 non-null  float64\n",
      " 4   pm2.5                        25628 non-null  float64\n",
      " 5   pm2.5 pctl                   25628 non-null  float64\n",
      " 6   diesel pm                    25874 non-null  float64\n",
      " 7   diesel pm pctl               25874 non-null  float64\n",
      " 8   pesticides                   25874 non-null  float64\n",
      " 9   pesticides pctl              25874 non-null  float64\n",
      " 10  traffic                      25783 non-null  float64\n",
      " 11  traffic pctl                 25783 non-null  float64\n",
      " 12  cleanup sites                25874 non-null  float64\n",
      " 13  cleanup sites pctl           25874 non-null  float64\n",
      " 14  groundwater threats          25874 non-null  float64\n",
      " 15  groundwater threats pctl     25874 non-null  float64\n",
      " 16  haz. waste                   25874 non-null  float64\n",
      " 17  haz. waste pctl              25874 non-null  float64\n",
      " 18  imp. water bodies            25874 non-null  int64  \n",
      " 19  imp. water bodies pctl       25874 non-null  float64\n",
      " 20  solid waste                  25874 non-null  float64\n",
      " 21  solid waste pctl             25874 non-null  float64\n",
      " 22  pollution burden             25874 non-null  float64\n",
      " 23  pollution burden score       25874 non-null  float64\n",
      " 24  asthma                       25719 non-null  float64\n",
      " 25  asthma pctl                  25719 non-null  float64\n",
      " 26  low birth weight             24897 non-null  float64\n",
      " 27  low birth weight pctl        24897 non-null  float64\n",
      " 28  education                    25510 non-null  float64\n",
      " 29  education pctl               25510 non-null  float64\n",
      " 30  linguistic isolation         24485 non-null  float64\n",
      " 31  linguistic isolation pctl    24485 non-null  float64\n",
      " 32  poverty                      25477 non-null  float64\n",
      " 33  poverty pctl                 25477 non-null  float64\n",
      " 34  pop. char.                   25593 non-null  float64\n",
      " 35  pop. char. score             25593 non-null  float64\n",
      " 36  ces_score                    25593 non-null  float64\n",
      " 37  ces_per_range                25593 non-null  object \n",
      " 38  year                         25874 non-null  int64  \n",
      " 39  census tract                 24105 non-null  float64\n",
      " 40  county                       24105 non-null  object \n",
      " 41  drinking water               24024 non-null  float64\n",
      " 42  drinking water pctl          24024 non-null  float64\n",
      " 43  tox. release                 24093 non-null  float64\n",
      " 44  tox. release pctl            24093 non-null  float64\n",
      " 45  pollution burden pctl        24105 non-null  float64\n",
      " 46  unemployment                 23434 non-null  float64\n",
      " 47  unemployment pctl            23434 non-null  float64\n",
      " 48  pop. char. pctl              23834 non-null  float64\n",
      " 49  city                         24105 non-null  object \n",
      " 50  latitude                     24105 non-null  float64\n",
      " 51  longitude                    24105 non-null  float64\n",
      " 52  ces_per                      15861 non-null  float64\n",
      " 53  cardiovascular disease       16059 non-null  float64\n",
      " 54  cardiovascular disease pctl  16059 non-null  float64\n",
      " 55  housing burden               15768 non-null  float64\n",
      " 56  housing burden pctl          15768 non-null  float64\n",
      "dtypes: float64(50), int64(4), object(3)\n",
      "memory usage: 11.3+ MB\n"
     ]
    }
   ],
   "source": [
    "enviro.info()"
   ]
  },
  {
   "cell_type": "markdown",
   "id": "2d49a780-ad61-48cf-90f9-f4bb843eaf2a",
   "metadata": {},
   "source": [
    "## Third XGBoost Regression model with different Grid search parameters."
   ]
  },
  {
   "cell_type": "code",
   "execution_count": 6,
   "id": "4f70de00-5d7e-4ad6-8254-60e1f595e777",
   "metadata": {},
   "outputs": [
    {
     "ename": "KeyError",
     "evalue": "\"['est total', 'est gen', 'est cold', 'est farm', 'est other'] not in index\"",
     "output_type": "error",
     "traceback": [
      "\u001b[0;31m---------------------------------------------------------------------------\u001b[0m",
      "\u001b[0;31mKeyError\u001b[0m                                  Traceback (most recent call last)",
      "\u001b[0;32m/var/folders/zx/_x1xg_4n2hj8d_6dx7nmrm5m0000gn/T/ipykernel_32540/2097574663.py\u001b[0m in \u001b[0;36m<module>\u001b[0;34m\u001b[0m\n\u001b[0;32m----> 1\u001b[0;31m X = all_enviro[['total population',\n\u001b[0m\u001b[1;32m      2\u001b[0m  \u001b[0;34m'ozone'\u001b[0m\u001b[0;34m,\u001b[0m\u001b[0;34m\u001b[0m\u001b[0;34m\u001b[0m\u001b[0m\n\u001b[1;32m      3\u001b[0m  \u001b[0;34m'pm2.5'\u001b[0m\u001b[0;34m,\u001b[0m\u001b[0;34m\u001b[0m\u001b[0;34m\u001b[0m\u001b[0m\n\u001b[1;32m      4\u001b[0m  \u001b[0;34m'diesel pm'\u001b[0m\u001b[0;34m,\u001b[0m\u001b[0;34m\u001b[0m\u001b[0;34m\u001b[0m\u001b[0m\n\u001b[1;32m      5\u001b[0m  \u001b[0;34m'pesticides'\u001b[0m\u001b[0;34m,\u001b[0m\u001b[0;34m\u001b[0m\u001b[0;34m\u001b[0m\u001b[0m\n",
      "\u001b[0;32m~/opt/anaconda3/lib/python3.9/site-packages/pandas/core/frame.py\u001b[0m in \u001b[0;36m__getitem__\u001b[0;34m(self, key)\u001b[0m\n\u001b[1;32m   3462\u001b[0m             \u001b[0;32mif\u001b[0m \u001b[0mis_iterator\u001b[0m\u001b[0;34m(\u001b[0m\u001b[0mkey\u001b[0m\u001b[0;34m)\u001b[0m\u001b[0;34m:\u001b[0m\u001b[0;34m\u001b[0m\u001b[0;34m\u001b[0m\u001b[0m\n\u001b[1;32m   3463\u001b[0m                 \u001b[0mkey\u001b[0m \u001b[0;34m=\u001b[0m \u001b[0mlist\u001b[0m\u001b[0;34m(\u001b[0m\u001b[0mkey\u001b[0m\u001b[0;34m)\u001b[0m\u001b[0;34m\u001b[0m\u001b[0;34m\u001b[0m\u001b[0m\n\u001b[0;32m-> 3464\u001b[0;31m             \u001b[0mindexer\u001b[0m \u001b[0;34m=\u001b[0m \u001b[0mself\u001b[0m\u001b[0;34m.\u001b[0m\u001b[0mloc\u001b[0m\u001b[0;34m.\u001b[0m\u001b[0m_get_listlike_indexer\u001b[0m\u001b[0;34m(\u001b[0m\u001b[0mkey\u001b[0m\u001b[0;34m,\u001b[0m \u001b[0maxis\u001b[0m\u001b[0;34m=\u001b[0m\u001b[0;36m1\u001b[0m\u001b[0;34m)\u001b[0m\u001b[0;34m[\u001b[0m\u001b[0;36m1\u001b[0m\u001b[0;34m]\u001b[0m\u001b[0;34m\u001b[0m\u001b[0;34m\u001b[0m\u001b[0m\n\u001b[0m\u001b[1;32m   3465\u001b[0m \u001b[0;34m\u001b[0m\u001b[0m\n\u001b[1;32m   3466\u001b[0m         \u001b[0;31m# take() does not accept boolean indexers\u001b[0m\u001b[0;34m\u001b[0m\u001b[0;34m\u001b[0m\u001b[0m\n",
      "\u001b[0;32m~/opt/anaconda3/lib/python3.9/site-packages/pandas/core/indexing.py\u001b[0m in \u001b[0;36m_get_listlike_indexer\u001b[0;34m(self, key, axis)\u001b[0m\n\u001b[1;32m   1312\u001b[0m             \u001b[0mkeyarr\u001b[0m\u001b[0;34m,\u001b[0m \u001b[0mindexer\u001b[0m\u001b[0;34m,\u001b[0m \u001b[0mnew_indexer\u001b[0m \u001b[0;34m=\u001b[0m \u001b[0max\u001b[0m\u001b[0;34m.\u001b[0m\u001b[0m_reindex_non_unique\u001b[0m\u001b[0;34m(\u001b[0m\u001b[0mkeyarr\u001b[0m\u001b[0;34m)\u001b[0m\u001b[0;34m\u001b[0m\u001b[0;34m\u001b[0m\u001b[0m\n\u001b[1;32m   1313\u001b[0m \u001b[0;34m\u001b[0m\u001b[0m\n\u001b[0;32m-> 1314\u001b[0;31m         \u001b[0mself\u001b[0m\u001b[0;34m.\u001b[0m\u001b[0m_validate_read_indexer\u001b[0m\u001b[0;34m(\u001b[0m\u001b[0mkeyarr\u001b[0m\u001b[0;34m,\u001b[0m \u001b[0mindexer\u001b[0m\u001b[0;34m,\u001b[0m \u001b[0maxis\u001b[0m\u001b[0;34m)\u001b[0m\u001b[0;34m\u001b[0m\u001b[0;34m\u001b[0m\u001b[0m\n\u001b[0m\u001b[1;32m   1315\u001b[0m \u001b[0;34m\u001b[0m\u001b[0m\n\u001b[1;32m   1316\u001b[0m         if needs_i8_conversion(ax.dtype) or isinstance(\n",
      "\u001b[0;32m~/opt/anaconda3/lib/python3.9/site-packages/pandas/core/indexing.py\u001b[0m in \u001b[0;36m_validate_read_indexer\u001b[0;34m(self, key, indexer, axis)\u001b[0m\n\u001b[1;32m   1375\u001b[0m \u001b[0;34m\u001b[0m\u001b[0m\n\u001b[1;32m   1376\u001b[0m             \u001b[0mnot_found\u001b[0m \u001b[0;34m=\u001b[0m \u001b[0mlist\u001b[0m\u001b[0;34m(\u001b[0m\u001b[0mensure_index\u001b[0m\u001b[0;34m(\u001b[0m\u001b[0mkey\u001b[0m\u001b[0;34m)\u001b[0m\u001b[0;34m[\u001b[0m\u001b[0mmissing_mask\u001b[0m\u001b[0;34m.\u001b[0m\u001b[0mnonzero\u001b[0m\u001b[0;34m(\u001b[0m\u001b[0;34m)\u001b[0m\u001b[0;34m[\u001b[0m\u001b[0;36m0\u001b[0m\u001b[0;34m]\u001b[0m\u001b[0;34m]\u001b[0m\u001b[0;34m.\u001b[0m\u001b[0munique\u001b[0m\u001b[0;34m(\u001b[0m\u001b[0;34m)\u001b[0m\u001b[0;34m)\u001b[0m\u001b[0;34m\u001b[0m\u001b[0;34m\u001b[0m\u001b[0m\n\u001b[0;32m-> 1377\u001b[0;31m             \u001b[0;32mraise\u001b[0m \u001b[0mKeyError\u001b[0m\u001b[0;34m(\u001b[0m\u001b[0;34mf\"{not_found} not in index\"\u001b[0m\u001b[0;34m)\u001b[0m\u001b[0;34m\u001b[0m\u001b[0;34m\u001b[0m\u001b[0m\n\u001b[0m\u001b[1;32m   1378\u001b[0m \u001b[0;34m\u001b[0m\u001b[0m\n\u001b[1;32m   1379\u001b[0m \u001b[0;34m\u001b[0m\u001b[0m\n",
      "\u001b[0;31mKeyError\u001b[0m: \"['est total', 'est gen', 'est cold', 'est farm', 'est other'] not in index\""
     ]
    }
   ],
   "source": [
    "X = all_enviro[['total population',\n",
    " 'ozone',\n",
    " 'pm2.5',\n",
    " 'diesel pm',\n",
    " 'pesticides',\n",
    " 'traffic',\n",
    " 'cleanup sites',\n",
    " 'groundwater threats',\n",
    " 'haz. waste',\n",
    " 'imp. water bodies',\n",
    " 'solid waste',\n",
    " 'pollution burden',\n",
    " 'low birth weight',\n",
    " 'education',\n",
    " 'linguistic isolation',\n",
    " 'poverty',\n",
    " 'pop. char. ',\n",
    " 'drinking water',\n",
    " 'tox. release',\n",
    " 'unemployment',\n",
    " 'ces_per',\n",
    " 'cardiovascular disease',\n",
    " 'housing burden',\n",
    " 'est total',\n",
    " 'est gen',\n",
    " 'est cold',\n",
    " 'est farm',\n",
    " 'est other']]\n",
    "y = all_enviro['asthma']"
   ]
  },
  {
   "cell_type": "code",
   "execution_count": null,
   "id": "7709daf8-c465-41c3-b403-ff270bb20961",
   "metadata": {},
   "outputs": [],
   "source": []
  },
  {
   "cell_type": "code",
   "execution_count": null,
   "id": "99142d3d-264b-4e39-9642-d1b204efd996",
   "metadata": {},
   "outputs": [],
   "source": []
  },
  {
   "cell_type": "code",
   "execution_count": null,
   "id": "6bbc9451-ad59-4178-83b9-c79b1b652b0d",
   "metadata": {},
   "outputs": [],
   "source": []
  },
  {
   "cell_type": "code",
   "execution_count": null,
   "id": "257d6532-cb1b-44d6-bee1-5bf34aca09c4",
   "metadata": {},
   "outputs": [],
   "source": []
  },
  {
   "cell_type": "code",
   "execution_count": null,
   "id": "430d28f4-4270-48b6-97de-aa3e5b3727c8",
   "metadata": {},
   "outputs": [],
   "source": []
  },
  {
   "cell_type": "code",
   "execution_count": null,
   "id": "f930a9fb-2979-4e9e-b266-9d4db7f19c71",
   "metadata": {},
   "outputs": [],
   "source": []
  },
  {
   "cell_type": "code",
   "execution_count": null,
   "id": "4617d3fd-10e3-4611-abe9-252cf044d265",
   "metadata": {},
   "outputs": [],
   "source": []
  }
 ],
 "metadata": {
  "kernelspec": {
   "display_name": "Python 3 (ipykernel)",
   "language": "python",
   "name": "python3"
  },
  "language_info": {
   "codemirror_mode": {
    "name": "ipython",
    "version": 3
   },
   "file_extension": ".py",
   "mimetype": "text/x-python",
   "name": "python",
   "nbconvert_exporter": "python",
   "pygments_lexer": "ipython3",
   "version": "3.9.7"
  }
 },
 "nbformat": 4,
 "nbformat_minor": 5
}
