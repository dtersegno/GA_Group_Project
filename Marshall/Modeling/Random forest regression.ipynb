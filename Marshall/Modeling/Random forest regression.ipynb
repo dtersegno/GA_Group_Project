{
 "cells": [
  {
   "cell_type": "markdown",
   "id": "e33dbc5b-9765-4a32-8162-91cad6f44036",
   "metadata": {},
   "source": [
    "## Random forest regressor best params (this will continue 5 or 6 Random forest regression models from Initial modleing to see If I can get over .80 R2 score with random forest)"
   ]
  },
  {
   "cell_type": "code",
   "execution_count": 4,
   "id": "0ea28811-14b6-4bdb-811c-16d213581626",
   "metadata": {},
   "outputs": [],
   "source": [
    "import os\n",
    "import pandas as pd\n",
    "import numpy as np\n",
    "import matplotlib.pyplot as plt\n",
    "import seaborn as sns\n",
    "\n",
    "\n",
    "from sklearn.model_selection import cross_val_score, GridSearchCV, train_test_split\n",
    "from sklearn.metrics import r2_score, mean_squared_error, mean_absolute_error\n",
    "from pprint import pprint\n",
    "from sklearn.ensemble import RandomForestRegressor\n",
    "from sklearn.preprocessing import StandardScaler"
   ]
  },
  {
   "cell_type": "markdown",
   "id": "096b98fa-4687-4b02-b0f3-8a0a53bfb2fd",
   "metadata": {},
   "source": [
    "#### Read in"
   ]
  },
  {
   "cell_type": "code",
   "execution_count": 13,
   "id": "ee4012b2-e84c-4383-87f4-a3e261fd1928",
   "metadata": {},
   "outputs": [],
   "source": [
    "filepath = '../../processed_data/all_merged.csv'\n",
    "all_enviro = pd.read_csv(filepath)"
   ]
  },
  {
   "cell_type": "markdown",
   "id": "39b8d8a6-007a-44bc-b61d-99969b5b24e6",
   "metadata": {},
   "source": [
    "#### testing different GS parameters"
   ]
  },
  {
   "cell_type": "code",
   "execution_count": 14,
   "id": "5577058f-dad7-47e2-a8b1-c2ab63fd732d",
   "metadata": {},
   "outputs": [],
   "source": [
    "X = all_enviro[['total population','ozone','pm2.5','diesel pm','pesticides','traffic','cleanup sites',\n",
    " 'groundwater threats','haz. waste','imp. water bodies','solid waste','pollution burden',\n",
    "'education','linguistic isolation','poverty','pop. char. ','drinking water',\n",
    " 'tox. release','unemployment','ces_per','housing burden','est total',\n",
    " 'est gen','est cold','est farm','est other']]\n",
    "y = all_enviro['asthma']"
   ]
  },
  {
   "cell_type": "markdown",
   "id": "1b4a7a3e-c125-4b53-ac1a-dc84111294a7",
   "metadata": {},
   "source": [
    "###### clean before Splitting"
   ]
  },
  {
   "cell_type": "code",
   "execution_count": 15,
   "id": "8b5c96db-0c95-4dd9-a28f-e817dd332f2b",
   "metadata": {},
   "outputs": [],
   "source": [
    "X=pd.get_dummies(X)\n",
    "X=X.fillna(X.median())\n",
    "\n",
    "#get rid of missing target columns\n",
    "X = X[~y.isna()]\n",
    "y = y[~y.isna()]"
   ]
  },
  {
   "cell_type": "code",
   "execution_count": 16,
   "id": "56bdbc86-dd4a-4e96-92cc-13b6787bde36",
   "metadata": {},
   "outputs": [],
   "source": [
    "X_train, X_test, y_train,y_test = train_test_split(X,y,random_state= 42)"
   ]
  },
  {
   "cell_type": "markdown",
   "id": "f5a5a278-eb4a-48c8-8860-5e1036555d12",
   "metadata": {},
   "source": [
    "###### Standard Scaler & fill with median"
   ]
  },
  {
   "cell_type": "code",
   "execution_count": 17,
   "id": "33bf58ab-d7fb-469b-8960-23897238a6f7",
   "metadata": {},
   "outputs": [],
   "source": [
    "X_train=X_train.fillna(X_train.median())\n",
    "X_test = X_test.fillna(X_test.median())\n",
    "\n",
    "sc_X = StandardScaler()\n",
    "\n",
    "X_train = sc_X.fit_transform(X_train)\n",
    "X_test = sc_X.transform(X_test)"
   ]
  },
  {
   "cell_type": "code",
   "execution_count": 18,
   "id": "59346736-c0f4-4ed5-8295-defb49712495",
   "metadata": {},
   "outputs": [],
   "source": [
    "forest = RandomForestRegressor().fit(X_train,y_train)"
   ]
  },
  {
   "cell_type": "code",
   "execution_count": 19,
   "id": "195896f5-acab-4264-86c3-72fa376ec724",
   "metadata": {},
   "outputs": [
    {
     "name": "stdout",
     "output_type": "stream",
     "text": [
      "Train R2 0.9629998032939701\n",
      "Test R2 0.7288568738080135\n"
     ]
    }
   ],
   "source": [
    "print(f'Train R2 {forest.score(X_train,y_train)}')\n",
    "print(f'Test R2 {forest.score(X_test,y_test)}')"
   ]
  },
  {
   "cell_type": "markdown",
   "id": "2c5f423f-075d-4d95-b4a5-8416b4b99ab1",
   "metadata": {},
   "source": [
    "#### Grid search different parameters"
   ]
  },
  {
   "cell_type": "code",
   "execution_count": 27,
   "id": "ec14bcf9-5910-408e-b57d-8b7f46392e6a",
   "metadata": {},
   "outputs": [],
   "source": [
    "gsc = GridSearchCV(\n",
    "            estimator=RandomForestRegressor(),\n",
    "            param_grid={ \n",
    "            \"n_estimators\"      : [10,20,30],\n",
    "            \"max_features\"      : [\"auto\", \"sqrt\", \"log2\"],\n",
    "            \"max_depth\" : [2,4],\n",
    "            \"bootstrap\": [True, False],\n",
    "            \"min_samples_leaf\": [3,5],\n",
    "            },\n",
    "            cv=3, scoring='neg_mean_squared_error', verbose=2, n_jobs=-1)"
   ]
  },
  {
   "cell_type": "code",
   "execution_count": 28,
   "id": "127d20ee-63db-4a19-bb7b-44583b0c7276",
   "metadata": {},
   "outputs": [
    {
     "name": "stdout",
     "output_type": "stream",
     "text": [
      "Fitting 3 folds for each of 72 candidates, totalling 216 fits\n"
     ]
    }
   ],
   "source": [
    "forest_result = gsc.fit(X_train,y_train)"
   ]
  },
  {
   "cell_type": "code",
   "execution_count": 29,
   "id": "18ac45b3-ed8e-43b6-85fe-c0c900508dcd",
   "metadata": {},
   "outputs": [],
   "source": [
    "forest = RandomForestRegressor(**gsc.best_params_).fit(X_train, y_train)"
   ]
  },
  {
   "cell_type": "code",
   "execution_count": 32,
   "id": "b7b2edf1-d1d2-4aff-906f-8c30ac657c1d",
   "metadata": {},
   "outputs": [
    {
     "data": {
      "text/plain": [
       "{'bootstrap': True,\n",
       " 'max_depth': 4,\n",
       " 'max_features': 'auto',\n",
       " 'min_samples_leaf': 3,\n",
       " 'n_estimators': 20}"
      ]
     },
     "execution_count": 32,
     "metadata": {},
     "output_type": "execute_result"
    }
   ],
   "source": [
    "best=gsc.best_params_\n",
    "best"
   ]
  },
  {
   "cell_type": "code",
   "execution_count": 31,
   "id": "e83fc741-073f-4bac-9ded-20030cbedb8e",
   "metadata": {
    "tags": []
   },
   "outputs": [
    {
     "name": "stdout",
     "output_type": "stream",
     "text": [
      "Train accuracy 0.587234877563676\n",
      "Test accuracy 0.5566669405395088\n"
     ]
    }
   ],
   "source": [
    "print(f'Train accuracy {forest.score(X_train,y_train)}')\n",
    "print(f'Test accuracy {forest.score(X_test,y_test)}')"
   ]
  },
  {
   "cell_type": "markdown",
   "id": "976eab0d-e551-4caf-b9a8-cd647650d1a3",
   "metadata": {},
   "source": [
    "- My parameters were not helpful, too much added noise."
   ]
  },
  {
   "cell_type": "markdown",
   "id": "5c1c29de-9213-44b4-b5cb-3ed439cf5c4e",
   "metadata": {},
   "source": [
    "### Best features in data set"
   ]
  },
  {
   "cell_type": "code",
   "execution_count": null,
   "id": "25cec41b-b59e-4ddf-bfe5-ab1429ad4a11",
   "metadata": {},
   "outputs": [],
   "source": []
  },
  {
   "cell_type": "code",
   "execution_count": null,
   "id": "b1160e55-2cda-4c0c-bd8a-039c2588f515",
   "metadata": {},
   "outputs": [],
   "source": []
  },
  {
   "cell_type": "code",
   "execution_count": null,
   "id": "6d01567b-e692-45dc-abb5-eaf2a612b56b",
   "metadata": {},
   "outputs": [],
   "source": []
  },
  {
   "cell_type": "code",
   "execution_count": null,
   "id": "0f1451e9-e589-4213-b1c5-5e318482e652",
   "metadata": {},
   "outputs": [],
   "source": []
  },
  {
   "cell_type": "code",
   "execution_count": null,
   "id": "ef4237e7-4bc1-46b3-9bdb-8e589a8203d3",
   "metadata": {},
   "outputs": [],
   "source": []
  },
  {
   "cell_type": "code",
   "execution_count": null,
   "id": "a9e636e3-1da5-4d68-a779-1c6b8cacbad4",
   "metadata": {},
   "outputs": [],
   "source": []
  },
  {
   "cell_type": "code",
   "execution_count": null,
   "id": "f191e580-d9c8-4531-afaf-9f36aae13270",
   "metadata": {},
   "outputs": [],
   "source": []
  },
  {
   "cell_type": "code",
   "execution_count": null,
   "id": "f7db2c68-3e75-4cad-87d6-cb89d76eb207",
   "metadata": {},
   "outputs": [],
   "source": []
  },
  {
   "cell_type": "code",
   "execution_count": null,
   "id": "314df8f8-c6dc-4c12-a6e8-9c49a9ef0b2e",
   "metadata": {},
   "outputs": [],
   "source": []
  }
 ],
 "metadata": {
  "kernelspec": {
   "display_name": "Python 3 (ipykernel)",
   "language": "python",
   "name": "python3"
  },
  "language_info": {
   "codemirror_mode": {
    "name": "ipython",
    "version": 3
   },
   "file_extension": ".py",
   "mimetype": "text/x-python",
   "name": "python",
   "nbconvert_exporter": "python",
   "pygments_lexer": "ipython3",
   "version": "3.9.7"
  }
 },
 "nbformat": 4,
 "nbformat_minor": 5
}
