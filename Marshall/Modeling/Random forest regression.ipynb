{
 "cells": [
  {
   "cell_type": "markdown",
   "id": "e33dbc5b-9765-4a32-8162-91cad6f44036",
   "metadata": {},
   "source": [
    "## Random forest regressor best params (this will continue 5 or 6 Random forest regression models from Initial modleing to see If I can get over .80 R2 score with random forest)"
   ]
  },
  {
   "cell_type": "code",
   "execution_count": null,
   "id": "0ea28811-14b6-4bdb-811c-16d213581626",
   "metadata": {},
   "outputs": [],
   "source": [
    "import os\n",
    "import pandas as pd\n",
    "import numpy as np\n",
    "from sklearn.linear_model import LinearRegression\n",
    "from sklearn.model_selection import cross_val_score, GridSearchCV, train_test_split\n",
    "from sklearn.pipeline import Pipeline\n",
    "from sklearn.metrics import r2_score, mean_squared_error, mean_absolute_error\n",
    "from pprint import pprint\n",
    "from xgboost import XGBRegressor\n",
    "from sklearn.ensemble import RandomForestRegressor\n",
    "from sklearn.preprocessing import StandardScaler\n",
    "from sklearn.linear_model import ElasticNet\n",
    "from sklearn.svm import SVR\n",
    "\n",
    "\n",
    "\n",
    "import matplotlib.pyplot as plt\n",
    "import seaborn as sns"
   ]
  },
  {
   "cell_type": "code",
   "execution_count": null,
   "id": "ee4012b2-e84c-4383-87f4-a3e261fd1928",
   "metadata": {},
   "outputs": [],
   "source": [
    "filepath = '../../processed_data/all_processed.csv'\n",
    "all_enviro = pd.read_csv(filepath)"
   ]
  },
  {
   "cell_type": "code",
   "execution_count": null,
   "id": "5577058f-dad7-47e2-a8b1-c2ab63fd732d",
   "metadata": {},
   "outputs": [],
   "source": [
    "X = all_enviro[['total population',\n",
    " 'ozone',\n",
    " 'pm2.5',\n",
    " 'diesel pm',\n",
    " 'pesticides',\n",
    " 'traffic',\n",
    " 'cleanup sites',\n",
    " 'groundwater threats',\n",
    " 'haz. waste',\n",
    " 'imp. water bodies',\n",
    " 'solid waste',\n",
    " 'pollution burden',\n",
    " 'asthma',\n",
    " 'low birth weight',\n",
    " 'education',\n",
    " 'linguistic isolation',\n",
    " 'poverty',\n",
    " 'pop. char. ',\n",
    " 'drinking water',\n",
    " 'tox. release',\n",
    " 'unemployment',\n",
    " 'ces_per',\n",
    " 'cardiovascular disease',\n",
    " 'housing burden',\n",
    " 'est total',\n",
    " 'est gen',\n",
    " 'est cold',\n",
    " 'est farm',\n",
    " 'est other']]\n",
    "y = all_enviro['asthma']"
   ]
  },
  {
   "cell_type": "code",
   "execution_count": null,
   "id": "56bdbc86-dd4a-4e96-92cc-13b6787bde36",
   "metadata": {},
   "outputs": [],
   "source": [
    "X=X.fillna(X.median())\n",
    "y=y.fillna(y.median())"
   ]
  },
  {
   "cell_type": "code",
   "execution_count": null,
   "id": "12d321fe-d9af-4d14-8dae-3e0449ea413b",
   "metadata": {},
   "outputs": [],
   "source": [
    "rf = RandomForestRegressor(random_state = 42)"
   ]
  },
  {
   "cell_type": "code",
   "execution_count": null,
   "id": "33bf58ab-d7fb-469b-8960-23897238a6f7",
   "metadata": {},
   "outputs": [],
   "source": [
    "X_train, X_test, y_train,y_test = train_test_split(X,y,random_state= 42, test_size=.2)"
   ]
  },
  {
   "cell_type": "code",
   "execution_count": null,
   "id": "59346736-c0f4-4ed5-8295-defb49712495",
   "metadata": {},
   "outputs": [],
   "source": [
    "rfr = RandomizedSearchCV(estimator = rf, param_distributions = random_grid, n_iter = 100, cv = 3, verbose=2, random_state=42, n_jobs = -1)\n",
    "# Fit the random search model\n",
    "rfr.fit(X_train, y_train)"
   ]
  },
  {
   "cell_type": "code",
   "execution_count": null,
   "id": "ec14bcf9-5910-408e-b57d-8b7f46392e6a",
   "metadata": {},
   "outputs": [],
   "source": [
    "print(f'Train accuracy {rfr.score(X_train,y_train)}')\n",
    "print(f'Test accuracy {rfr.score(X_test,y_test)}')"
   ]
  },
  {
   "cell_type": "markdown",
   "id": "5c1c29de-9213-44b4-b5cb-3ed439cf5c4e",
   "metadata": {},
   "source": [
    "### Best features in data set"
   ]
  },
  {
   "cell_type": "code",
   "execution_count": null,
   "id": "25cec41b-b59e-4ddf-bfe5-ab1429ad4a11",
   "metadata": {},
   "outputs": [],
   "source": []
  },
  {
   "cell_type": "code",
   "execution_count": null,
   "id": "b1160e55-2cda-4c0c-bd8a-039c2588f515",
   "metadata": {},
   "outputs": [],
   "source": []
  },
  {
   "cell_type": "code",
   "execution_count": null,
   "id": "6d01567b-e692-45dc-abb5-eaf2a612b56b",
   "metadata": {},
   "outputs": [],
   "source": []
  },
  {
   "cell_type": "code",
   "execution_count": null,
   "id": "0f1451e9-e589-4213-b1c5-5e318482e652",
   "metadata": {},
   "outputs": [],
   "source": []
  },
  {
   "cell_type": "code",
   "execution_count": null,
   "id": "ef4237e7-4bc1-46b3-9bdb-8e589a8203d3",
   "metadata": {},
   "outputs": [],
   "source": []
  },
  {
   "cell_type": "code",
   "execution_count": null,
   "id": "a9e636e3-1da5-4d68-a779-1c6b8cacbad4",
   "metadata": {},
   "outputs": [],
   "source": []
  },
  {
   "cell_type": "code",
   "execution_count": null,
   "id": "f191e580-d9c8-4531-afaf-9f36aae13270",
   "metadata": {},
   "outputs": [],
   "source": []
  },
  {
   "cell_type": "code",
   "execution_count": null,
   "id": "f7db2c68-3e75-4cad-87d6-cb89d76eb207",
   "metadata": {},
   "outputs": [],
   "source": []
  },
  {
   "cell_type": "code",
   "execution_count": null,
   "id": "314df8f8-c6dc-4c12-a6e8-9c49a9ef0b2e",
   "metadata": {},
   "outputs": [],
   "source": []
  }
 ],
 "metadata": {
  "kernelspec": {
   "display_name": "Python 3 (ipykernel)",
   "language": "python",
   "name": "python3"
  },
  "language_info": {
   "codemirror_mode": {
    "name": "ipython",
    "version": 3
   },
   "file_extension": ".py",
   "mimetype": "text/x-python",
   "name": "python",
   "nbconvert_exporter": "python",
   "pygments_lexer": "ipython3",
   "version": "3.9.7"
  }
 },
 "nbformat": 4,
 "nbformat_minor": 5
}
